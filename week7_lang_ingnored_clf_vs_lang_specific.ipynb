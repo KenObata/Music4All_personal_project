{
  "cells": [
    {
      "cell_type": "markdown",
      "metadata": {
        "id": "view-in-github",
        "colab_type": "text"
      },
      "source": [
        "<a href=\"https://colab.research.google.com/github/KenObata/Music4All_personal_project/blob/main/week7_lang_ingnored_clf_vs_lang_specific.ipynb\" target=\"_parent\"><img src=\"https://colab.research.google.com/assets/colab-badge.svg\" alt=\"Open In Colab\"/></a>"
      ]
    },
    {
      "cell_type": "markdown",
      "metadata": {
        "id": "ZS8WVxEoWZG0"
      },
      "source": [
        "## Week7: The goal of this notebook is to experiment if language specific trained classifier is better than language ignored genre detection."
      ]
    },
    {
      "cell_type": "markdown",
      "metadata": {
        "id": "sZHqabhlMw-d"
      },
      "source": [
        "### Data preparation"
      ]
    },
    {
      "cell_type": "code",
      "execution_count": 1,
      "metadata": {
        "colab": {
          "base_uri": "https://localhost:8080/"
        },
        "id": "8idi3A-doa5r",
        "outputId": "21ec0a28-8a3c-4f5b-9706-6e4db4dabe43"
      },
      "outputs": [
        {
          "output_type": "stream",
          "name": "stdout",
          "text": [
            "Your runtime has 54.8 gigabytes of available RAM\n",
            "\n",
            "You are using a high-RAM runtime!\n"
          ]
        }
      ],
      "source": [
        "#Check RAM size. If small, you can upgrade.\n",
        "#you can enable a high-RAM runtime via Runtime > Change runtime type in the menu\n",
        "from psutil import virtual_memory\n",
        "ram_gb = virtual_memory().total / 1e9\n",
        "print('Your runtime has {:.1f} gigabytes of available RAM\\n'.format(ram_gb))\n",
        "\n",
        "if ram_gb < 20:\n",
        "  print('Not using a high-RAM runtime')\n",
        "else:\n",
        "  print('You are using a high-RAM runtime!')"
      ]
    },
    {
      "cell_type": "code",
      "execution_count": 2,
      "metadata": {
        "colab": {
          "base_uri": "https://localhost:8080/"
        },
        "id": "j244pkH1XTxp",
        "outputId": "c4fe99f4-ec6a-4423-c90a-43b950082377"
      },
      "outputs": [
        {
          "output_type": "stream",
          "name": "stdout",
          "text": [
            "Looking in indexes: https://pypi.org/simple, https://us-python.pkg.dev/colab-wheels/public/simple/\n",
            "Requirement already satisfied: scikit-multilearn in /usr/local/lib/python3.7/dist-packages (0.2.0)\n"
          ]
        }
      ],
      "source": [
        "!pip install scikit-multilearn"
      ]
    },
    {
      "cell_type": "code",
      "execution_count": 3,
      "metadata": {
        "id": "4kSV038xWQSm"
      },
      "outputs": [],
      "source": [
        "import os\n",
        "import sys\n",
        "import numpy as np\n",
        "import pandas as pd\n",
        "import matplotlib\n",
        "import matplotlib.pyplot as plt\n",
        "import sklearn\n",
        "from collections import Counter\n",
        "\n",
        "from skmultilearn.model_selection import IterativeStratification   \n",
        "from sklearn.model_selection import StratifiedKFold\n",
        "from scipy.sparse import csr_matrix\n",
        "plt.style.use('seaborn')\n",
        "\n",
        "CSV_FOLDER = 'drive/MyDrive/music4all/'\n",
        "LANG_DIR = 'drive/MyDrive/music4all/split-language_only-artist_grouped'\n",
        "SPLIT_DIR = 'drive/MyDrive/music4all/split-all_labels'\n",
        "FIG_DIR = 'drive/MyDrive/music4all/figures'\n",
        "\n",
        "font = {'size': 22}\n",
        "\n",
        "matplotlib.rc('font', **font)"
      ]
    },
    {
      "cell_type": "markdown",
      "metadata": {
        "id": "ljxagz0vYBho"
      },
      "source": [
        "scikit-multilearn has to be installed from pip\n",
        "https://github.com/scikit-multilearn/scikit-multilearn/issues/142"
      ]
    },
    {
      "cell_type": "code",
      "execution_count": 4,
      "metadata": {
        "id": "cYobEzfUWtpO"
      },
      "outputs": [],
      "source": [
        "def write_txt(path, list_of_str):\n",
        "    with open(path, 'w') as f:\n",
        "        for value in list_of_str:\n",
        "            f.write(value)\n",
        "            f.write('\\n')"
      ]
    },
    {
      "cell_type": "code",
      "execution_count": 5,
      "metadata": {
        "id": "sZvz0xKLX-eH"
      },
      "outputs": [],
      "source": [
        "def analyze_genre_tag_df(df, top_n=100):\n",
        "    \"\"\"plot the occurrences of top_n items in the given df\"\"\"\n",
        "    def get_counter(items: list):\n",
        "        \"\"\"items: list of list\"\"\"    \n",
        "        items = [g.split(',') for g in items]\n",
        "        items = [item for sublist in items for item in sublist]\n",
        "        items = Counter(items)    \n",
        "        return items\n",
        "    \n",
        "    def plot_freqs(counter: Counter, top_n, title=''):\n",
        "        most_common = counter.most_common(top_n)\n",
        "        names, counts = list(zip(*most_common))\n",
        "\n",
        "        xs = np.arange(len(names))\n",
        "        plt.figure(figsize=(18, 7))\n",
        "        plt.bar(xs, counts)\n",
        "        plt.xticks(xs + 0.2, names, rotation=60, size=17, ha='right') \n",
        "        plt.title('Top-%d %s (out of %d in total)' % (top_n, title, len(counter)), size=20)\n",
        "        plt.ylabel('occurrence', size=17)\n",
        "        \n",
        "    column_name = df.columns[1]\n",
        "    labels = df[column_name].tolist()\n",
        "    labels = get_counter(labels)\n",
        "    \n",
        "    print('Number of %s: %d' % (column_name, len(labels)))\n",
        "\n",
        "    plot_freqs(labels, top_n=top_n, title=column_name)\n",
        "    return labels\n",
        "    \n",
        "def analyze_genre_tag_csv(csv_path, top_n):\n",
        "    \"\"\"wrapper of analyze_genre_tag_df\"\"\"\n",
        "    basename = os.path.basename(csv_path)\n",
        "    df = pd.read_csv(os.path.join(CSV_FOLDER, csv_path), header=0, sep='\t')\n",
        "    df.head()\n",
        "    return analyze_genre_tag_df(df, top_n=top_n)"
      ]
    },
    {
      "cell_type": "markdown",
      "metadata": {
        "id": "1523saeRYv8j"
      },
      "source": [
        "id_genres.csv"
      ]
    },
    {
      "cell_type": "code",
      "execution_count": 6,
      "metadata": {
        "colab": {
          "base_uri": "https://localhost:8080/",
          "height": 311
        },
        "id": "3zcbRTyCYb0P",
        "outputId": "9a9926dc-f162-4dfb-f8db-b980c83edf45"
      },
      "outputs": [
        {
          "output_type": "stream",
          "name": "stdout",
          "text": [
            "Number of genres: 853\n",
            "Counter({'rock': 25731, 'pop': 22013, 'electronic': 12769, 'alternative rock': 8103, 'indie rock': 7943, 'metal': 6459, 'folk': 6106, 'singer-songwriter': 5793, 'classic rock': 5688, 'soul': 5458, 'experimental': 4489, 'rap': 4414, 'indie pop': 4141, 'hard rock': 3855, 'punk': 3652, 'ambient': 3645, 'synthpop': 3034, 'post-hardcore': 2938, 'new wave': 2859, 'progressive rock': 2802, 'hardcore': 2790, 'mpb': 2700, 'jazz': 2641, 'emo': 2537, 'post-punk': 2485, 'soundtrack': 2473, 'hip hop': 2408, 'pop punk': 2223, 'metalcore': 2210, 'lo-fi': 2064, 'death metal': 2030, 'dream pop': 1963, 'progressive metal': 1945, 'pop rock': 1898, 'shoegaze': 1835, 'funk': 1814, 'country': 1786, 'k-pop': 1661, 'black metal': 1604, 'blues': 1559, 'latin': 1557, 'post-rock': 1530, 'electropop': 1423, 'house': 1412, 'psychedelic rock': 1322, 'thrash metal': 1257, 'industrial': 1247, 'grunge': 1193, 'electronica': 1178, 'britpop': 1170, 'gothic metal': 1169, 'doom metal': 1150, 'melodic death metal': 1126, 'alternative metal': 1118, 'symphonic metal': 1087, 'power metal': 1087, 'screamo': 1036, 'reggae': 938, 'downtempo': 936, 'garage rock': 878, 'nu metal': 856, 'disco': 856, 'electro': 838, 'bossa nova': 756, 'samba': 699, 'techno': 690, 'melodic hardcore': 648, 'indie folk': 646, 'folk rock': 620, 'latin pop': 592, 'classical': 556, 'soft rock': 547, 'industrial metal': 540, 'hardcore punk': 523, 'stoner rock': 522, 'gothic rock': 513, 'glam rock': 509, 'noise': 507, 'dubstep': 497, 'j-pop': 469, 'noise rock': 469, 'emocore': 457, 'easy listening': 443, 'art pop': 426, 'ska': 423, 'eurovision': 421, 'math rock': 414, 'trance': 398, 'deathcore': 388, 'brazilian rock': 385, 'indietronica': 372, 'technical death metal': 367, 'folk metal': 364, 'contemporary classical': 361, 'j-rock': 356, 'christian rock': 350, 'drone': 346, 'avant-garde': 343, 'mathcore': 337, 'grindcore': 334, 'new age': 320, 'chillwave': 316, 'industrial rock': 314, 'southern rock': 312, 'post-metal': 309, 'dark ambient': 305, 'lounge': 303, 'groove metal': 303, 'minimal': 297, 'beats': 294, 'brutal death metal': 291, 'deep house': 291, 'swing': 290, 'disney': 288, 'power pop': 281, 'ebm': 275, 'speed metal': 272, 'neofolk': 272, 'atmospheric black metal': 264, 'sertanejo': 260, 'viking metal': 259, 'drum and bass': 256, 'motown': 255, 'art rock': 244, 'reggaeton': 244, 'post-grunge': 242, 'noise pop': 231, 'space rock': 218, 'gospel': 217, 'pagode': 211, 'djent': 210, 'electroclash': 208, 'rock nacional': 208, 'world': 207, 'eurodance': 205, 'dub': 197, 'rhythm and blues': 194, 'nwobhm': 194, 'forro': 192, 'rock en espanol': 192, 'celtic': 180, 'stoner metal': 180, 'chamber pop': 179, 'melodic black metal': 178, 'neoclassical': 174, 'progressive house': 173, 'electro house': 170, 'remix': 168, 'funk rock': 163, 'rockabilly': 163, 'norwegian black metal': 162, 'glitch': 161, 'girl group': 161, 'video game music': 161, 'midwest emo': 161, 'vocal jazz': 160, 'trip hop': 160, 'symphonic black metal': 158, 'freak folk': 154, 'jazz fusion': 147, 'melodic metalcore': 147, 'depressive black metal': 141, 'roots reggae': 139, 'dancehall': 138, 'chanson': 138, 'ska punk': 136, 'axe': 135, 'progressive metalcore': 132, 'witch house': 127, 'alternative pop': 127, 'anime': 123, 'chiptune': 123, 'visual kei': 121, 'experimental rock': 121, 'post-black metal': 120, 'teen pop': 117, 'piano rock': 117, 'brega': 115, 'sludge metal': 114, 'nu jazz': 114, 'emo rap': 113, 'grime': 113, 'big beat': 112, 'comedy': 109, 'easycore': 109, 'jangle pop': 108, 'new romantic': 108, 'baroque pop': 108, 'riot grrrl': 106, 'french pop': 105, 'edm': 102, 'smooth jazz': 102, 'futurepop': 100, 'breakbeat': 99, 'acid jazz': 99, 'minimal techno': 95, 'krautrock': 94, 'new rave': 94, 'bebop': 93, 'symphonic rock': 92, 'worship': 92, 'vocal trance': 89, 'vaporwave': 88, 'wonky': 86, 'cumbia': 86, 'country pop': 85, 'garage punk': 83, 'cool jazz': 81, 'italian pop': 80, 'chaotic hardcore': 80, 'progressive black metal': 79, 'spanish indie pop': 77, 'progressive trance': 77, 'minimal wave': 75, 'calypso': 75, 'folktronica': 75, 'electronic rock': 74, 'spoken word': 73, 'talent show': 72, 'latin rock': 72, 'rock gaucho': 72, 'liquid funk': 71, 'medieval': 69, 'glam metal': 69, 'skate punk': 68, 'horror punk': 68, 'symphonic power metal': 67, 'electro-industrial': 67, 'violin': 67, 'neo soul': 66, 'idol': 66, 'dance pop': 66, 'glitch hop': 66, 'country rock': 65, 'new jack swing': 65, 'future garage': 64, 'uk garage': 64, 'free jazz': 63, 'funk metal': 63, 'nu disco': 63, 'bedroom pop': 63, 'trancecore': 63, '8-bit': 62, 'modern rock': 62, 'no wave': 60, 'merengue': 60, 'folk punk': 58, 'polish rock': 57, 'sertanejo universitario': 57, 'jazz piano': 56, 'spanish pop': 56, 'psychedelic folk': 56, 'madchester': 55, 'alternative hip hop': 55, 'experimental hip hop': 55, 'bluegrass': 55, 'tech house': 54, 'baroque': 54, 'opera': 54, 'symphonic death metal': 54, 'martial industrial': 53, 'quiet storm': 52, 'korean pop': 50, 'straight edge': 49, 'hardstyle': 49, 'chicago blues': 49, 'flamenco': 49, 'progressive deathcore': 48, 'afrobeat': 47, 'deathgrind': 47, 'delta blues': 47, 'phonk': 47, 'zouk': 47, 'broadway': 45, 'alternative dance': 45, 'salsa': 44, 'halloween': 44, 'bachata': 44, 'spanish rock': 42, 'blackgaze': 42, 'oi': 41, 'pop nacional': 41, 'funk carioca': 41, 'underground hip hop': 40, 'big band': 40, 'hardcore hip hop': 40, 'underground rap': 39, 'k-rock': 39, 'beatdown': 39, 'swedish black metal': 38, 'a cappella': 38, 'brutal deathcore': 38, 'technical deathcore': 37, 'chillhop': 37, 'neo-classical': 37, 'tropical house': 37, 'banjo': 36, 'breakcore': 36, 'instrumental rock': 36, 'freestyle': 36, 'cabaret': 36, 'twee pop': 35, 'slayer': 35, 'anthem': 35, 'raw black metal': 34, 'new weird america': 34, 'abstract': 34, 'mexican pop': 34, 'british invasion': 34, 'drill': 34, 'swedish metal': 34, 'turkish pop': 34, 'west coast rap': 33, 'tango': 33, 'cello': 33, 'christian metal': 32, 'neurofunk': 32, 'praise': 31, 'retro electro': 31, 'carnaval': 31, 'opm': 31, 'k-indie': 30, 'horrorcore': 30, 'southern hip hop': 29, 'tecnobrega': 29, 'psychobilly': 29, 'chillstep': 29, 'happy hardcore': 29, 'experimental pop': 28, 'ambient techno': 27, 'power electronics': 27, 'cantautor': 26, 'nintendocore': 26, 'turkish rock': 26, 'sleep': 26, 'aggrotech': 25, 'jazz funk': 25, 'dance-punk': 25, 'turntablism': 25, 'comedy rock': 25, 'dub techno': 25, 'dark wave': 24, 'finnish black metal': 24, 'metallic hardcore': 24, 'drama': 24, 'jam band': 23, 'poetry': 23, 'dark cabaret': 23, 'dark jazz': 23, 'pop chileno': 22, 'street punk': 22, 'jungle': 22, 'northern soul': 21, 'ukulele': 21, 'hard bop': 21, 'uk funky': 20, 'bubblegum pop': 20, 'nova mpb': 20, 'orgcore': 20, 'trova': 20, 'future funk': 20, 'schlager': 20, 'gothenburg metal': 20, 'outlaw country': 19, 'finnish metal': 19, 'ghettotech': 19, 'nyhc': 19, 'jovem guarda': 19, 'freakbeat': 19, 'fado': 18, 'crossover thrash': 18, 'eurobeat': 18, 'celtic metal': 18, 'celtic punk': 18, 'contemporary folk': 17, 'brostep': 17, 'boy band': 17, 'ccm': 17, 'jazz guitar': 17, 'industrial black metal': 17, 'accordion': 16, 'crunk': 16, 'electric blues': 16, 'technical brutal death metal': 16, 'jazz rap': 16, 'europop': 16, 'geek rock': 16, 'tropical': 16, 'c-pop': 16, 'avant-garde black metal': 16, 'free improvisation': 15, 'emo punk': 15, 'harp': 15, 'pop rap': 15, 'cyberpunk': 15, 'choral': 15, 'ethereal wave': 15, 'bolero': 15, 'canterbury scene': 15, 'orchestra': 15, 'german thrash metal': 15, 'classic soul': 14, 'rap metal': 14, 'melodic power metal': 14, 'microhouse': 14, 'future house': 14, 'j-metal': 14, 'jazz metal': 14, 'sunshine pop': 14, 'usbm': 14, 'breaks': 13, 'digital hardcore': 13, 'acid house': 13, 'philly soul': 13, 'rumba': 13, 'ragtime': 12, 'abstract hip hop': 12, 'oriental metal': 12, 'swedish death metal': 12, 'drone metal': 12, 'alternative country': 12, 'album rock': 12, 'psychill': 12, 'funeral doom': 12, 'psychedelic trance': 12, 'electro swing': 12, 'mexican rock': 12, 'brazilian reggae': 12, 'shibuya-kei': 12, 'contemporary jazz': 12, 'contemporary country': 11, 'smooth soul': 11, 'louvor': 11, 'latin jazz': 11, 'conscious hip hop': 11, 'vocal house': 11, 'hi-nrg': 11, 'nordic folk': 11, 'uplifting trance': 11, 'harmonica blues': 11, 'russian pop': 11, 'anti-folk': 11, 'electropunk': 11, 'punk blues': 11, 'romantico': 11, 'polish black metal': 10, 'tejano': 10, 'irish hip hop': 10, 'moombahton': 10, 'goregrind': 10, 'nederpop': 10, 'wave': 10, 'surf music': 10, 'banda': 10, 'rap rock': 10, 'outsider house': 9, 'avant-garde jazz': 9, 'space ambient': 9, 'electronicore': 9, 'greek pop': 9, 'power violence': 9, 'indonesian indie': 9, 'vocaloid': 9, 'uk hip hop': 9, 'big room': 9, 'indie punk': 9, 'adoracao': 9, 'hard house': 9, 'footwork': 9, 'french rock': 9, 'gypsy jazz': 9, 'anarcho-punk': 8, 'hard trance': 8, 'lovers rock': 8, 'east coast hip hop': 8, 'yacht rock': 8, 'sitar': 8, 'hip house': 8, 'crust punk': 8, 'cyber metal': 8, 'jumpstyle': 8, 'mambo': 8, 'math pop': 8, 'hamburger schule': 8, 'disco house': 8, 'blues-rock': 8, 'complextro': 8, 'choro': 8, 'afropop': 8, 'neue deutsche welle': 8, 'microtonal': 8, 'industrial techno': 8, 'mariachi': 8, 'russian rock': 7, 'classical guitar': 7, 'doo-wop': 7, 'kuduro': 7, 'exotica': 7, 'soca': 7, 'chalga': 7, 'motivation': 7, 'fingerstyle': 7, 'focus': 7, 'southern soul': 7, 'outsider': 7, 'contemporary gospel': 7, 'ranchera': 7, 'progressive psytrance': 6, 'broken beat': 6, 'pinoy rock': 6, 'j-punk': 6, 'reggae fusion': 6, 'detroit techno': 6, 'gypsy punk': 6, 'dance rock': 6, 'acid techno': 6, 'melodic deathcore': 6, 'lullaby': 6, 'latin alternative': 6, 'morna': 5, 'karneval': 5, 'lo-fi beats': 5, 'pub rock': 5, 'bass house': 5, 'christian pop': 5, 'bells': 5, 'soul jazz': 5, 'free folk': 5, 'musique concrete': 5, 'brazilian punk': 5, 'v-pop': 5, 'dub reggae': 5, 'hawaiian': 5, 'experimental black metal': 5, 'spanish pop rock': 5, 'classical piano': 5, 'irish folk': 5, 'c86': 5, 'bass music': 4, 'acoustic pop': 4, 'chicago house': 4, 'afrikaans': 4, 'harpsichord': 4, 'asmr': 4, 'yoga': 4, 'regional mexican': 4, 'melodic hard rock': 4, 'texas blues': 4, 'dutch hip hop': 4, 'pop folk': 4, 'rai': 4, 'bassline': 4, 'christian music': 4, 'folk-pop': 4, 'bounce': 4, 'renaissance': 4, 'heartland rock': 4, 'indie emo': 4, 'progressive post-hardcore': 4, 'rawstyle': 4, 'kizomba': 4, 'nu gaze': 4, 'darkstep': 4, 'dutch house': 4, 'spanish punk': 4, 'experimental ambient': 4, 'trap argentino': 4, 'french black metal': 4, 'cumbia pop': 4, 'ambient folk': 3, 'portuguese pop': 3, 'country rap': 3, 'punjabi': 3, 'celtic rock': 3, 'thai pop': 3, 'country blues': 3, 'minecraft': 3, 'oud': 3, 'deep funk': 3, 'christian hardcore': 3, 'viola': 3, 'vogue': 3, 'cumbia villera': 3, 'retro soul': 3, 'mashup': 3, 'cosmic black metal': 3, 'instrumental post-rock': 3, 'cartoon': 3, 'alternative pop rock': 3, 'indonesian pop': 3, 'operatic pop': 3, 'balearic': 3, 'swedish pop': 3, 'french jazz': 3, 'romanian pop': 3, 'acoustic blues': 3, 'atmosphere': 3, 'guidance': 3, 'intelligent dance music': 3, 'tribute': 3, 'jazz trumpet': 3, 'nigerian hip hop': 3, 'native american': 3, 'nerdcore': 3, 'steampunk': 3, 'meditation': 3, 'atmospheric doom': 3, 'didgeridoo': 3, 'modern blues': 3, 'nwothm': 3, 'filthstep': 3, 'football': 2, 'queercore': 2, 'jazz blues': 2, 'uk pop': 2, 'chilean rock': 2, 'instrumental progressive metal': 2, 'magyar': 2, 'iskelma': 2, 'spiritual jazz': 2, 'swedish soul': 2, 'highlife': 2, 'sufi': 2, 'vallenato': 2, 'traditional country': 2, 'zeuhl': 2, 'scottish folk': 2, 'trap music': 2, 'old school hip hop': 2, 'pixie': 2, 'trap latino': 2, 'finnish death metal': 2, 'british folk': 2, 'sleaze rock': 2, 'canadian black metal': 2, 'space age pop': 2, 'hyperpop': 2, 'jersey club': 2, 'spanish metal': 2, 'post-screamo': 2, 'shred': 2, 'garage pop': 2, 'chicha': 2, 'tribal house': 2, 'jazz saxophone': 2, 'new beat': 2, 'brazilian hardcore': 2, 'fast melodic punk': 2, 'dc hardcore': 2, 'texas country': 2, 'experimental electronic': 2, 'experimental techno': 2, 'world fusion': 2, 'brazilian thrash metal': 2, 'velha guarda': 2, 'arabesk': 2, 'merseybeat': 2, 'grunge pop': 2, 'cowpunk': 2, 'cumbia chilena': 2, 'jump up': 2, 'noise punk': 2, 'brazilian soul': 2, 'brazilian psychedelic': 2, 'technical black metal': 2, 'french hip hop': 2, 'reggae rock': 2, 'turkish alternative': 2, 'boogaloo': 2, 'bhangra': 2, 'goa trance': 2, 'black thrash': 2, 'mandopop': 2, 'austropop': 2, 'ambient industrial': 2, \"death 'n' roll\": 2, 'theme': 2, 'early music': 2, 'pony': 2, 'dansband': 2, 'jazz trio': 2, 'turkish psych': 2, 'brazilian indie': 2, 'scandipop': 2, 'polish reggae': 2, 'german hip hop': 1, 'mundart': 1, 'slamming deathcore': 1, 'kazakh pop': 1, 'preverb': 1, 'fidget house': 1, 'australian rock': 1, 'dungeon synth': 1, 'neo-psychedelic': 1, 'albanian pop': 1, 'dark hardcore': 1, 'houston rap': 1, 'c64': 1, 'swedish synthpop': 1, 'hauntology': 1, 'go-go': 1, 'adventista': 1, 'j-idol': 1, 'atmospheric sludge': 1, 'healing': 1, 'dreamgaze': 1, 'rap chileno': 1, 'new orleans jazz': 1, 'beach house': 1, 'swedish punk': 1, 'grupera': 1, 'alternative metalcore': 1, 'lithuanian pop': 1, 'piano blues': 1, 'ragga jungle': 1, 'polish pop': 1, 'marching band': 1, 'volksmusik': 1, 'italian progressive rock': 1, 'chicago soul': 1, 'ukhc': 1, 'meme rap': 1, 'medieval folk': 1, 'shanty': 1, 'canadian country': 1, 'gothic symphonic metal': 1, 'polish jazz': 1, 'greek black metal': 1, 'tone': 1, 'trap soul': 1, 'uk dub': 1, 'uk drill': 1, 'anadolu rock': 1, 'batak': 1, 'electro dub': 1, 'doujin': 1, 'black death': 1, 'colombian pop': 1, 'belgian pop': 1, 'crack rock steady': 1, 'skinhead reggae': 1, 'karaoke': 1, 'deep vocal house': 1, 'deep ambient': 1, 'lilith': 1, 'polish hip hop': 1, 'laiko': 1, 'italian folk': 1, 'brazilian experimental': 1, 'power noise': 1, 'ballroom': 1, 'progressive bluegrass': 1, 'hard bass': 1, 'german rock': 1, 'italo house': 1, 'gothic doom': 1, 'ringtone': 1, 'salsa cubana': 1, 'german metal': 1, 'deep tech house': 1, 'uk house': 1, 'deep progressive trance': 1, 'russian folk': 1, 'spanish hip hop': 1, 'erotica': 1, 'dronescape': 1, 'polish metal': 1, 'jump blues': 1, 'dub metal': 1, 'jazz violin': 1, 'brazilian metal': 1, 'progressive doom': 1, 'therapy': 1, 'riddim': 1, 'brega funk': 1, 'chinese hip hop': 1, 'tzadik': 1, 'j-indie': 1, 'memphis blues': 1, 'psychedelic doom': 1, 'gangster rap': 1, 'belgian rock': 1, 'string quartet': 1, 'nu electro': 1, 'portuguese rock': 1, 'swamp blues': 1, 'piedmont blues': 1, 'skiffle': 1, 'deep chill': 1, 'french metal': 1, 'chill groove': 1, 'moog': 1, 'gospel blues': 1, 'rare groove': 1, 'post-disco': 1, 'turkish folk': 1, 'horror synth': 1, 'mod revival': 1, 'christian hard rock': 1, 'modern hard rock': 1, 'bulgarian pop': 1, 'retro metal': 1, 'drill and bass': 1, 'scottish indie': 1, 'british soul': 1, 'hardcore breaks': 1, 'capoeira': 1, 'pop argentino': 1, 'ethio-jazz': 1, 'pop edm': 1, 'melancholia': 1, 'afro-funk': 1, 'electro jazz': 1, 'japanoise': 1, 'hip pop': 1, 'liedermacher': 1, 'dreamo': 1, 'boom bap': 1, 'beach music': 1, 'jangle rock': 1, 'blackened hardcore': 1, 'protopunk': 1, 'polyphony': 1, 'taiwan pop': 1, 'armenian folk': 1, 'brazilian death metal': 1, 'dark techno': 1, 'gothic americana': 1, 'funk ostentacao': 1, 'acousmatic': 1, 'comic': 1, 'white noise': 1, 'armenian pop': 1, 'lithuanian metal': 1, 'cymraeg': 1, 'music box': 1, 'british blues': 1, 'spanish reggae': 1, 'mantra': 1, 'duranguense': 1, 'hip hop tuga': 1, 'punk ska': 1, 'discofox': 1, 'lds': 1, 'operetta': 1, 'pornogrind': 1, 'latin hip hop': 1, 'nueva cancion': 1, 'throat singing': 1, 'boston hardcore': 1, 'spanish indie rock': 1, 'wrestling': 1, 'batida': 1})\n"
          ]
        },
        {
          "output_type": "display_data",
          "data": {
            "text/plain": [
              "<Figure size 1296x504 with 1 Axes>"
            ],
            "image/png": "[encoded data removed]"
          },
          "metadata": {}
        }
      ],
      "source": [
        "genre_counter = analyze_genre_tag_csv('id_genres.csv', top_n=30)\n",
        "print(genre_counter)\n",
        "plt.tight_layout()\n",
        "plt.savefig(os.path.join(FIG_DIR, 'occurrence-genre.png'))"
      ]
    },
    {
      "cell_type": "markdown",
      "source": [
        "Create English dataframe (Clf2_en)"
      ],
      "metadata": {
        "id": "pNeia6wBRsgt"
      }
    },
    {
      "cell_type": "code",
      "source": [
        "#fileter Eng\n",
        "df_lang = pd.read_csv(os.path.join(CSV_FOLDER, 'id_lang.csv'), header=0, sep='\t')\n",
        "df_lang_en=df_lang[ df_lang['lang'].isin(['en']) ]\n",
        "df_lang_en"
      ],
      "metadata": {
        "colab": {
          "base_uri": "https://localhost:8080/",
          "height": 423
        },
        "id": "UQ-atOFoRykX",
        "outputId": "cfa7527b-07d3-425c-b399-7d6913cbe73c"
      },
      "execution_count": 7,
      "outputs": [
        {
          "output_type": "execute_result",
          "data": {
            "text/plain": [
              "                      id lang\n",
              "0       0009fFIM1eYThaPg   en\n",
              "1       0010xmHR6UICBOYT   en\n",
              "2       002Jyd0vN4HyCpqL   en\n",
              "3       006TYKNjNxWjfKjy   en\n",
              "4       007LIJOPQ4Sb98qV   en\n",
              "...                  ...  ...\n",
              "109264  zzyyPUs7hC9Nz2e1   en\n",
              "109265  zzz0n04uuTUA7fNh   en\n",
              "109266  zzzj3LYaZtYtbzSr   en\n",
              "109267  zzznMjZAKnJJXQSj   en\n",
              "109268  zzzwh2ktIWjsR7xp   en\n",
              "\n",
              "[84103 rows x 2 columns]"
            ],
            "text/html": [
              "\n",
              "  <div id=\"df-6ba095f2-986c-46ce-8717-d2b5f5f85d16\">\n",
              "    <div class=\"colab-df-container\">\n",
              "      <div>\n",
              "<style scoped>\n",
              "    .dataframe tbody tr th:only-of-type {\n",
              "        vertical-align: middle;\n",
              "    }\n",
              "\n",
              "    .dataframe tbody tr th {\n",
              "        vertical-align: top;\n",
              "    }\n",
              "\n",
              "    .dataframe thead th {\n",
              "        text-align: right;\n",
              "    }\n",
              "</style>\n",
              "<table border=\"1\" class=\"dataframe\">\n",
              "  <thead>\n",
              "    <tr style=\"text-align: right;\">\n",
              "      <th></th>\n",
              "      <th>id</th>\n",
              "      <th>lang</th>\n",
              "    </tr>\n",
              "  </thead>\n",
              "  <tbody>\n",
              "    <tr>\n",
              "      <th>0</th>\n",
              "      <td>0009fFIM1eYThaPg</td>\n",
              "      <td>en</td>\n",
              "    </tr>\n",
              "    <tr>\n",
              "      <th>1</th>\n",
              "      <td>0010xmHR6UICBOYT</td>\n",
              "      <td>en</td>\n",
              "    </tr>\n",
              "    <tr>\n",
              "      <th>2</th>\n",
              "      <td>002Jyd0vN4HyCpqL</td>\n",
              "      <td>en</td>\n",
              "    </tr>\n",
              "    <tr>\n",
              "      <th>3</th>\n",
              "      <td>006TYKNjNxWjfKjy</td>\n",
              "      <td>en</td>\n",
              "    </tr>\n",
              "    <tr>\n",
              "      <th>4</th>\n",
              "      <td>007LIJOPQ4Sb98qV</td>\n",
              "      <td>en</td>\n",
              "    </tr>\n",
              "    <tr>\n",
              "      <th>...</th>\n",
              "      <td>...</td>\n",
              "      <td>...</td>\n",
              "    </tr>\n",
              "    <tr>\n",
              "      <th>109264</th>\n",
              "      <td>zzyyPUs7hC9Nz2e1</td>\n",
              "      <td>en</td>\n",
              "    </tr>\n",
              "    <tr>\n",
              "      <th>109265</th>\n",
              "      <td>zzz0n04uuTUA7fNh</td>\n",
              "      <td>en</td>\n",
              "    </tr>\n",
              "    <tr>\n",
              "      <th>109266</th>\n",
              "      <td>zzzj3LYaZtYtbzSr</td>\n",
              "      <td>en</td>\n",
              "    </tr>\n",
              "    <tr>\n",
              "      <th>109267</th>\n",
              "      <td>zzznMjZAKnJJXQSj</td>\n",
              "      <td>en</td>\n",
              "    </tr>\n",
              "    <tr>\n",
              "      <th>109268</th>\n",
              "      <td>zzzwh2ktIWjsR7xp</td>\n",
              "      <td>en</td>\n",
              "    </tr>\n",
              "  </tbody>\n",
              "</table>\n",
              "<p>84103 rows × 2 columns</p>\n",
              "</div>\n",
              "      <button class=\"colab-df-convert\" onclick=\"convertToInteractive('df-6ba095f2-986c-46ce-8717-d2b5f5f85d16')\"\n",
              "              title=\"Convert this dataframe to an interactive table.\"\n",
              "              style=\"display:none;\">\n",
              "        \n",
              "  <svg xmlns=\"http://www.w3.org/2000/svg\" height=\"24px\"viewBox=\"0 0 24 24\"\n",
              "       width=\"24px\">\n",
              "    <path d=\"M0 0h24v24H0V0z\" fill=\"none\"/>\n",
              "    <path d=\"M18.56 5.44l.94 2.06.94-2.06 2.06-.94-2.06-.94-.94-2.06-.94 2.06-2.06.94zm-11 1L8.5 8.5l.94-2.06 2.06-.94-2.06-.94L8.5 2.5l-.94 2.06-2.06.94zm10 10l.94 2.06.94-2.06 2.06-.94-2.06-.94-.94-2.06-.94 2.06-2.06.94z\"/><path d=\"M17.41 7.96l-1.37-1.37c-.4-.4-.92-.59-1.43-.59-.52 0-1.04.2-1.43.59L10.3 9.45l-7.72 7.72c-.78.78-.78 2.05 0 2.83L4 21.41c.39.39.9.59 1.41.59.51 0 1.02-.2 1.41-.59l7.78-7.78 2.81-2.81c.8-.78.8-2.07 0-2.86zM5.41 20L4 18.59l7.72-7.72 1.47 1.35L5.41 20z\"/>\n",
              "  </svg>\n",
              "      </button>\n",
              "      \n",
              "  <style>\n",
              "    .colab-df-container {\n",
              "      display:flex;\n",
              "      flex-wrap:wrap;\n",
              "      gap: 12px;\n",
              "    }\n",
              "\n",
              "    .colab-df-convert {\n",
              "      background-color: #E8F0FE;\n",
              "      border: none;\n",
              "      border-radius: 50%;\n",
              "      cursor: pointer;\n",
              "      display: none;\n",
              "      fill: #1967D2;\n",
              "      height: 32px;\n",
              "      padding: 0 0 0 0;\n",
              "      width: 32px;\n",
              "    }\n",
              "\n",
              "    .colab-df-convert:hover {\n",
              "      background-color: #E2EBFA;\n",
              "      box-shadow: 0px 1px 2px rgba(60, 64, 67, 0.3), 0px 1px 3px 1px rgba(60, 64, 67, 0.15);\n",
              "      fill: #174EA6;\n",
              "    }\n",
              "\n",
              "    [theme=dark] .colab-df-convert {\n",
              "      background-color: #3B4455;\n",
              "      fill: #D2E3FC;\n",
              "    }\n",
              "\n",
              "    [theme=dark] .colab-df-convert:hover {\n",
              "      background-color: #434B5C;\n",
              "      box-shadow: 0px 1px 3px 1px rgba(0, 0, 0, 0.15);\n",
              "      filter: drop-shadow(0px 1px 2px rgba(0, 0, 0, 0.3));\n",
              "      fill: #FFFFFF;\n",
              "    }\n",
              "  </style>\n",
              "\n",
              "      <script>\n",
              "        const buttonEl =\n",
              "          document.querySelector('#df-6ba095f2-986c-46ce-8717-d2b5f5f85d16 button.colab-df-convert');\n",
              "        buttonEl.style.display =\n",
              "          google.colab.kernel.accessAllowed ? 'block' : 'none';\n",
              "\n",
              "        async function convertToInteractive(key) {\n",
              "          const element = document.querySelector('#df-6ba095f2-986c-46ce-8717-d2b5f5f85d16');\n",
              "          const dataTable =\n",
              "            await google.colab.kernel.invokeFunction('convertToInteractive',\n",
              "                                                     [key], {});\n",
              "          if (!dataTable) return;\n",
              "\n",
              "          const docLinkHtml = 'Like what you see? Visit the ' +\n",
              "            '<a target=\"_blank\" href=https://colab.research.google.com/notebooks/data_table.ipynb>data table notebook</a>'\n",
              "            + ' to learn more about interactive tables.';\n",
              "          element.innerHTML = '';\n",
              "          dataTable['output_type'] = 'display_data';\n",
              "          await google.colab.output.renderOutput(dataTable, element);\n",
              "          const docLink = document.createElement('div');\n",
              "          docLink.innerHTML = docLinkHtml;\n",
              "          element.appendChild(docLink);\n",
              "        }\n",
              "      </script>\n",
              "    </div>\n",
              "  </div>\n",
              "  "
            ]
          },
          "metadata": {},
          "execution_count": 7
        }
      ]
    },
    {
      "cell_type": "code",
      "source": [
        "df_genres = pd.read_csv(os.path.join(CSV_FOLDER, 'id_genres.csv'), header=0, sep='\t')"
      ],
      "metadata": {
        "id": "UzB9g9fkTJzP"
      },
      "execution_count": 8,
      "outputs": []
    },
    {
      "cell_type": "code",
      "source": [
        "# merge en dataframes & genres into one\n",
        "df_genre_en = pd.concat([df_genres['id'], df_genres['genres'], df_lang_en['lang']]\n",
        "                             , join='inner' ,axis=1)\n",
        "\n",
        "#Do inner join\n",
        "df_genre_en\n"
      ],
      "metadata": {
        "colab": {
          "base_uri": "https://localhost:8080/",
          "height": 485
        },
        "id": "-1jLQkc_TPpf",
        "outputId": "eaae1f8e-eb34-409d-914b-dd7bb1b8e80a"
      },
      "execution_count": 9,
      "outputs": [
        {
          "output_type": "execute_result",
          "data": {
            "text/plain": [
              "                      id                                             genres  \\\n",
              "0       0009fFIM1eYThaPg                                                pop   \n",
              "1       0010xmHR6UICBOYT                                underground hip hop   \n",
              "2       002Jyd0vN4HyCpqL                        hard rock,rock,classic rock   \n",
              "3       006TYKNjNxWjfKjy  symphonic metal,power metal,symphonic power metal   \n",
              "4       007LIJOPQ4Sb98qV                                 post-punk,new wave   \n",
              "...                  ...                                                ...   \n",
              "109264  zzyyPUs7hC9Nz2e1                        hardcore punk,punk,hardcore   \n",
              "109265  zzz0n04uuTUA7fNh                                                pop   \n",
              "109266  zzzj3LYaZtYtbzSr                                  singer-songwriter   \n",
              "109267  zzznMjZAKnJJXQSj                                 synthpop,remix,pop   \n",
              "109268  zzzwh2ktIWjsR7xp                   indie rock,alternative rock,rock   \n",
              "\n",
              "       lang  \n",
              "0        en  \n",
              "1        en  \n",
              "2        en  \n",
              "3        en  \n",
              "4        en  \n",
              "...     ...  \n",
              "109264   en  \n",
              "109265   en  \n",
              "109266   en  \n",
              "109267   en  \n",
              "109268   en  \n",
              "\n",
              "[84103 rows x 3 columns]"
            ],
            "text/html": [
              "\n",
              "  <div id=\"df-98df8aaa-9605-4704-be6f-4e8bd0d56bb9\">\n",
              "    <div class=\"colab-df-container\">\n",
              "      <div>\n",
              "<style scoped>\n",
              "    .dataframe tbody tr th:only-of-type {\n",
              "        vertical-align: middle;\n",
              "    }\n",
              "\n",
              "    .dataframe tbody tr th {\n",
              "        vertical-align: top;\n",
              "    }\n",
              "\n",
              "    .dataframe thead th {\n",
              "        text-align: right;\n",
              "    }\n",
              "</style>\n",
              "<table border=\"1\" class=\"dataframe\">\n",
              "  <thead>\n",
              "    <tr style=\"text-align: right;\">\n",
              "      <th></th>\n",
              "      <th>id</th>\n",
              "      <th>genres</th>\n",
              "      <th>lang</th>\n",
              "    </tr>\n",
              "  </thead>\n",
              "  <tbody>\n",
              "    <tr>\n",
              "      <th>0</th>\n",
              "      <td>0009fFIM1eYThaPg</td>\n",
              "      <td>pop</td>\n",
              "      <td>en</td>\n",
              "    </tr>\n",
              "    <tr>\n",
              "      <th>1</th>\n",
              "      <td>0010xmHR6UICBOYT</td>\n",
              "      <td>underground hip hop</td>\n",
              "      <td>en</td>\n",
              "    </tr>\n",
              "    <tr>\n",
              "      <th>2</th>\n",
              "      <td>002Jyd0vN4HyCpqL</td>\n",
              "      <td>hard rock,rock,classic rock</td>\n",
              "      <td>en</td>\n",
              "    </tr>\n",
              "    <tr>\n",
              "      <th>3</th>\n",
              "      <td>006TYKNjNxWjfKjy</td>\n",
              "      <td>symphonic metal,power metal,symphonic power metal</td>\n",
              "      <td>en</td>\n",
              "    </tr>\n",
              "    <tr>\n",
              "      <th>4</th>\n",
              "      <td>007LIJOPQ4Sb98qV</td>\n",
              "      <td>post-punk,new wave</td>\n",
              "      <td>en</td>\n",
              "    </tr>\n",
              "    <tr>\n",
              "      <th>...</th>\n",
              "      <td>...</td>\n",
              "      <td>...</td>\n",
              "      <td>...</td>\n",
              "    </tr>\n",
              "    <tr>\n",
              "      <th>109264</th>\n",
              "      <td>zzyyPUs7hC9Nz2e1</td>\n",
              "      <td>hardcore punk,punk,hardcore</td>\n",
              "      <td>en</td>\n",
              "    </tr>\n",
              "    <tr>\n",
              "      <th>109265</th>\n",
              "      <td>zzz0n04uuTUA7fNh</td>\n",
              "      <td>pop</td>\n",
              "      <td>en</td>\n",
              "    </tr>\n",
              "    <tr>\n",
              "      <th>109266</th>\n",
              "      <td>zzzj3LYaZtYtbzSr</td>\n",
              "      <td>singer-songwriter</td>\n",
              "      <td>en</td>\n",
              "    </tr>\n",
              "    <tr>\n",
              "      <th>109267</th>\n",
              "      <td>zzznMjZAKnJJXQSj</td>\n",
              "      <td>synthpop,remix,pop</td>\n",
              "      <td>en</td>\n",
              "    </tr>\n",
              "    <tr>\n",
              "      <th>109268</th>\n",
              "      <td>zzzwh2ktIWjsR7xp</td>\n",
              "      <td>indie rock,alternative rock,rock</td>\n",
              "      <td>en</td>\n",
              "    </tr>\n",
              "  </tbody>\n",
              "</table>\n",
              "<p>84103 rows × 3 columns</p>\n",
              "</div>\n",
              "      <button class=\"colab-df-convert\" onclick=\"convertToInteractive('df-98df8aaa-9605-4704-be6f-4e8bd0d56bb9')\"\n",
              "              title=\"Convert this dataframe to an interactive table.\"\n",
              "              style=\"display:none;\">\n",
              "        \n",
              "  <svg xmlns=\"http://www.w3.org/2000/svg\" height=\"24px\"viewBox=\"0 0 24 24\"\n",
              "       width=\"24px\">\n",
              "    <path d=\"M0 0h24v24H0V0z\" fill=\"none\"/>\n",
              "    <path d=\"M18.56 5.44l.94 2.06.94-2.06 2.06-.94-2.06-.94-.94-2.06-.94 2.06-2.06.94zm-11 1L8.5 8.5l.94-2.06 2.06-.94-2.06-.94L8.5 2.5l-.94 2.06-2.06.94zm10 10l.94 2.06.94-2.06 2.06-.94-2.06-.94-.94-2.06-.94 2.06-2.06.94z\"/><path d=\"M17.41 7.96l-1.37-1.37c-.4-.4-.92-.59-1.43-.59-.52 0-1.04.2-1.43.59L10.3 9.45l-7.72 7.72c-.78.78-.78 2.05 0 2.83L4 21.41c.39.39.9.59 1.41.59.51 0 1.02-.2 1.41-.59l7.78-7.78 2.81-2.81c.8-.78.8-2.07 0-2.86zM5.41 20L4 18.59l7.72-7.72 1.47 1.35L5.41 20z\"/>\n",
              "  </svg>\n",
              "      </button>\n",
              "      \n",
              "  <style>\n",
              "    .colab-df-container {\n",
              "      display:flex;\n",
              "      flex-wrap:wrap;\n",
              "      gap: 12px;\n",
              "    }\n",
              "\n",
              "    .colab-df-convert {\n",
              "      background-color: #E8F0FE;\n",
              "      border: none;\n",
              "      border-radius: 50%;\n",
              "      cursor: pointer;\n",
              "      display: none;\n",
              "      fill: #1967D2;\n",
              "      height: 32px;\n",
              "      padding: 0 0 0 0;\n",
              "      width: 32px;\n",
              "    }\n",
              "\n",
              "    .colab-df-convert:hover {\n",
              "      background-color: #E2EBFA;\n",
              "      box-shadow: 0px 1px 2px rgba(60, 64, 67, 0.3), 0px 1px 3px 1px rgba(60, 64, 67, 0.15);\n",
              "      fill: #174EA6;\n",
              "    }\n",
              "\n",
              "    [theme=dark] .colab-df-convert {\n",
              "      background-color: #3B4455;\n",
              "      fill: #D2E3FC;\n",
              "    }\n",
              "\n",
              "    [theme=dark] .colab-df-convert:hover {\n",
              "      background-color: #434B5C;\n",
              "      box-shadow: 0px 1px 3px 1px rgba(0, 0, 0, 0.15);\n",
              "      filter: drop-shadow(0px 1px 2px rgba(0, 0, 0, 0.3));\n",
              "      fill: #FFFFFF;\n",
              "    }\n",
              "  </style>\n",
              "\n",
              "      <script>\n",
              "        const buttonEl =\n",
              "          document.querySelector('#df-98df8aaa-9605-4704-be6f-4e8bd0d56bb9 button.colab-df-convert');\n",
              "        buttonEl.style.display =\n",
              "          google.colab.kernel.accessAllowed ? 'block' : 'none';\n",
              "\n",
              "        async function convertToInteractive(key) {\n",
              "          const element = document.querySelector('#df-98df8aaa-9605-4704-be6f-4e8bd0d56bb9');\n",
              "          const dataTable =\n",
              "            await google.colab.kernel.invokeFunction('convertToInteractive',\n",
              "                                                     [key], {});\n",
              "          if (!dataTable) return;\n",
              "\n",
              "          const docLinkHtml = 'Like what you see? Visit the ' +\n",
              "            '<a target=\"_blank\" href=https://colab.research.google.com/notebooks/data_table.ipynb>data table notebook</a>'\n",
              "            + ' to learn more about interactive tables.';\n",
              "          element.innerHTML = '';\n",
              "          dataTable['output_type'] = 'display_data';\n",
              "          await google.colab.output.renderOutput(dataTable, element);\n",
              "          const docLink = document.createElement('div');\n",
              "          docLink.innerHTML = docLinkHtml;\n",
              "          element.appendChild(docLink);\n",
              "        }\n",
              "      </script>\n",
              "    </div>\n",
              "  </div>\n",
              "  "
            ]
          },
          "metadata": {},
          "execution_count": 9
        }
      ]
    },
    {
      "cell_type": "code",
      "source": [
        "\n",
        "genre_counter = analyze_genre_tag_df(df_genre_en, top_n = 5)\n",
        "plt.tight_layout()\n",
        "genre_counter = sorted(genre_counter.items(), key=lambda item: item[1], reverse = True)\n",
        "genre_counter_top_list = [genre for genre, count in genre_counter[:5] ]\n",
        "genre_counter_top_list"
      ],
      "metadata": {
        "colab": {
          "base_uri": "https://localhost:8080/",
          "height": 291
        },
        "id": "qJJQQLhiSqrz",
        "outputId": "af116cfb-14a7-4f31-ea5f-c4653aba7095"
      },
      "execution_count": 10,
      "outputs": [
        {
          "output_type": "stream",
          "name": "stdout",
          "text": [
            "Number of genres: 671\n"
          ]
        },
        {
          "output_type": "execute_result",
          "data": {
            "text/plain": [
              "['rock', 'pop', 'electronic', 'alternative rock', 'indie rock']"
            ]
          },
          "metadata": {},
          "execution_count": 10
        },
        {
          "output_type": "display_data",
          "data": {
            "text/plain": [
              "<Figure size 1296x504 with 1 Axes>"
            ],
            "image/png": "[encoded data removed]"
          },
          "metadata": {}
        }
      ]
    },
    {
      "cell_type": "code",
      "source": [
        "df_genre_en = df_genre_en[df_genre_en['genres'].isin(genre_counter_top_list)]\n",
        "df_genre_en"
      ],
      "metadata": {
        "colab": {
          "base_uri": "https://localhost:8080/",
          "height": 423
        },
        "id": "Y0bL7WHDUVRV",
        "outputId": "c7a2d10a-3eb5-4c70-8df1-0eaec803af41"
      },
      "execution_count": 11,
      "outputs": [
        {
          "output_type": "execute_result",
          "data": {
            "text/plain": [
              "                      id      genres lang\n",
              "0       0009fFIM1eYThaPg         pop   en\n",
              "16      00b6fV3nx5z2b8Ls         pop   en\n",
              "26      013QDoTqbexEwkHr         pop   en\n",
              "30      01EKNot8qVgZpKM7        rock   en\n",
              "31      01I5p010ajulr0O5         pop   en\n",
              "...                  ...         ...  ...\n",
              "109198  zxI0u8m0EPvVhNeD        rock   en\n",
              "109249  zzT504Z94j1IAuc3  indie rock   en\n",
              "109253  zzgS4ZqyswamEWNj         pop   en\n",
              "109262  zzx8CWdM7qkxKQpC  indie rock   en\n",
              "109265  zzz0n04uuTUA7fNh         pop   en\n",
              "\n",
              "[9000 rows x 3 columns]"
            ],
            "text/html": [
              "\n",
              "  <div id=\"df-cd65b962-0e02-43f5-9461-2f234824479f\">\n",
              "    <div class=\"colab-df-container\">\n",
              "      <div>\n",
              "<style scoped>\n",
              "    .dataframe tbody tr th:only-of-type {\n",
              "        vertical-align: middle;\n",
              "    }\n",
              "\n",
              "    .dataframe tbody tr th {\n",
              "        vertical-align: top;\n",
              "    }\n",
              "\n",
              "    .dataframe thead th {\n",
              "        text-align: right;\n",
              "    }\n",
              "</style>\n",
              "<table border=\"1\" class=\"dataframe\">\n",
              "  <thead>\n",
              "    <tr style=\"text-align: right;\">\n",
              "      <th></th>\n",
              "      <th>id</th>\n",
              "      <th>genres</th>\n",
              "      <th>lang</th>\n",
              "    </tr>\n",
              "  </thead>\n",
              "  <tbody>\n",
              "    <tr>\n",
              "      <th>0</th>\n",
              "      <td>0009fFIM1eYThaPg</td>\n",
              "      <td>pop</td>\n",
              "      <td>en</td>\n",
              "    </tr>\n",
              "    <tr>\n",
              "      <th>16</th>\n",
              "      <td>00b6fV3nx5z2b8Ls</td>\n",
              "      <td>pop</td>\n",
              "      <td>en</td>\n",
              "    </tr>\n",
              "    <tr>\n",
              "      <th>26</th>\n",
              "      <td>013QDoTqbexEwkHr</td>\n",
              "      <td>pop</td>\n",
              "      <td>en</td>\n",
              "    </tr>\n",
              "    <tr>\n",
              "      <th>30</th>\n",
              "      <td>01EKNot8qVgZpKM7</td>\n",
              "      <td>rock</td>\n",
              "      <td>en</td>\n",
              "    </tr>\n",
              "    <tr>\n",
              "      <th>31</th>\n",
              "      <td>01I5p010ajulr0O5</td>\n",
              "      <td>pop</td>\n",
              "      <td>en</td>\n",
              "    </tr>\n",
              "    <tr>\n",
              "      <th>...</th>\n",
              "      <td>...</td>\n",
              "      <td>...</td>\n",
              "      <td>...</td>\n",
              "    </tr>\n",
              "    <tr>\n",
              "      <th>109198</th>\n",
              "      <td>zxI0u8m0EPvVhNeD</td>\n",
              "      <td>rock</td>\n",
              "      <td>en</td>\n",
              "    </tr>\n",
              "    <tr>\n",
              "      <th>109249</th>\n",
              "      <td>zzT504Z94j1IAuc3</td>\n",
              "      <td>indie rock</td>\n",
              "      <td>en</td>\n",
              "    </tr>\n",
              "    <tr>\n",
              "      <th>109253</th>\n",
              "      <td>zzgS4ZqyswamEWNj</td>\n",
              "      <td>pop</td>\n",
              "      <td>en</td>\n",
              "    </tr>\n",
              "    <tr>\n",
              "      <th>109262</th>\n",
              "      <td>zzx8CWdM7qkxKQpC</td>\n",
              "      <td>indie rock</td>\n",
              "      <td>en</td>\n",
              "    </tr>\n",
              "    <tr>\n",
              "      <th>109265</th>\n",
              "      <td>zzz0n04uuTUA7fNh</td>\n",
              "      <td>pop</td>\n",
              "      <td>en</td>\n",
              "    </tr>\n",
              "  </tbody>\n",
              "</table>\n",
              "<p>9000 rows × 3 columns</p>\n",
              "</div>\n",
              "      <button class=\"colab-df-convert\" onclick=\"convertToInteractive('df-cd65b962-0e02-43f5-9461-2f234824479f')\"\n",
              "              title=\"Convert this dataframe to an interactive table.\"\n",
              "              style=\"display:none;\">\n",
              "        \n",
              "  <svg xmlns=\"http://www.w3.org/2000/svg\" height=\"24px\"viewBox=\"0 0 24 24\"\n",
              "       width=\"24px\">\n",
              "    <path d=\"M0 0h24v24H0V0z\" fill=\"none\"/>\n",
              "    <path d=\"M18.56 5.44l.94 2.06.94-2.06 2.06-.94-2.06-.94-.94-2.06-.94 2.06-2.06.94zm-11 1L8.5 8.5l.94-2.06 2.06-.94-2.06-.94L8.5 2.5l-.94 2.06-2.06.94zm10 10l.94 2.06.94-2.06 2.06-.94-2.06-.94-.94-2.06-.94 2.06-2.06.94z\"/><path d=\"M17.41 7.96l-1.37-1.37c-.4-.4-.92-.59-1.43-.59-.52 0-1.04.2-1.43.59L10.3 9.45l-7.72 7.72c-.78.78-.78 2.05 0 2.83L4 21.41c.39.39.9.59 1.41.59.51 0 1.02-.2 1.41-.59l7.78-7.78 2.81-2.81c.8-.78.8-2.07 0-2.86zM5.41 20L4 18.59l7.72-7.72 1.47 1.35L5.41 20z\"/>\n",
              "  </svg>\n",
              "      </button>\n",
              "      \n",
              "  <style>\n",
              "    .colab-df-container {\n",
              "      display:flex;\n",
              "      flex-wrap:wrap;\n",
              "      gap: 12px;\n",
              "    }\n",
              "\n",
              "    .colab-df-convert {\n",
              "      background-color: #E8F0FE;\n",
              "      border: none;\n",
              "      border-radius: 50%;\n",
              "      cursor: pointer;\n",
              "      display: none;\n",
              "      fill: #1967D2;\n",
              "      height: 32px;\n",
              "      padding: 0 0 0 0;\n",
              "      width: 32px;\n",
              "    }\n",
              "\n",
              "    .colab-df-convert:hover {\n",
              "      background-color: #E2EBFA;\n",
              "      box-shadow: 0px 1px 2px rgba(60, 64, 67, 0.3), 0px 1px 3px 1px rgba(60, 64, 67, 0.15);\n",
              "      fill: #174EA6;\n",
              "    }\n",
              "\n",
              "    [theme=dark] .colab-df-convert {\n",
              "      background-color: #3B4455;\n",
              "      fill: #D2E3FC;\n",
              "    }\n",
              "\n",
              "    [theme=dark] .colab-df-convert:hover {\n",
              "      background-color: #434B5C;\n",
              "      box-shadow: 0px 1px 3px 1px rgba(0, 0, 0, 0.15);\n",
              "      filter: drop-shadow(0px 1px 2px rgba(0, 0, 0, 0.3));\n",
              "      fill: #FFFFFF;\n",
              "    }\n",
              "  </style>\n",
              "\n",
              "      <script>\n",
              "        const buttonEl =\n",
              "          document.querySelector('#df-cd65b962-0e02-43f5-9461-2f234824479f button.colab-df-convert');\n",
              "        buttonEl.style.display =\n",
              "          google.colab.kernel.accessAllowed ? 'block' : 'none';\n",
              "\n",
              "        async function convertToInteractive(key) {\n",
              "          const element = document.querySelector('#df-cd65b962-0e02-43f5-9461-2f234824479f');\n",
              "          const dataTable =\n",
              "            await google.colab.kernel.invokeFunction('convertToInteractive',\n",
              "                                                     [key], {});\n",
              "          if (!dataTable) return;\n",
              "\n",
              "          const docLinkHtml = 'Like what you see? Visit the ' +\n",
              "            '<a target=\"_blank\" href=https://colab.research.google.com/notebooks/data_table.ipynb>data table notebook</a>'\n",
              "            + ' to learn more about interactive tables.';\n",
              "          element.innerHTML = '';\n",
              "          dataTable['output_type'] = 'display_data';\n",
              "          await google.colab.output.renderOutput(dataTable, element);\n",
              "          const docLink = document.createElement('div');\n",
              "          docLink.innerHTML = docLinkHtml;\n",
              "          element.appendChild(docLink);\n",
              "        }\n",
              "      </script>\n",
              "    </div>\n",
              "  </div>\n",
              "  "
            ]
          },
          "metadata": {},
          "execution_count": 11
        }
      ]
    },
    {
      "cell_type": "markdown",
      "source": [
        "Portuguese"
      ],
      "metadata": {
        "id": "Yd9WOlzFUun8"
      }
    },
    {
      "cell_type": "code",
      "source": [
        "#fileter Eng\n",
        "df_lang = pd.read_csv(os.path.join(CSV_FOLDER, 'id_lang.csv'), header=0, sep='\t')\n",
        "df_lang_pt=df_lang[ df_lang['lang'].isin(['pt']) ]\n",
        "df_lang_pt"
      ],
      "metadata": {
        "colab": {
          "base_uri": "https://localhost:8080/",
          "height": 423
        },
        "id": "NtumFKe7Uw5t",
        "outputId": "eba5999a-4c14-48cf-90cb-b48efb5ae100"
      },
      "execution_count": 12,
      "outputs": [
        {
          "output_type": "execute_result",
          "data": {
            "text/plain": [
              "                      id lang\n",
              "13      00SamUQvdyE4IFBM   pt\n",
              "49      01zNMO11qGa7tLqa   pt\n",
              "56      02Fwq8lfGcaP9UMZ   pt\n",
              "74      02dc1Q6fV1ByAouz   pt\n",
              "125     04zfuN5RyJWYXDRH   pt\n",
              "...                  ...  ...\n",
              "109218  zy2Fae6WwnDGK4bR   pt\n",
              "109230  zygPT2dpQ0TeIJek   pt\n",
              "109243  zz8vXezxvsdgWb3D   pt\n",
              "109247  zzOS4kMGV0gCaQLq   pt\n",
              "109263  zzyb5LvKJTWLVnrk   pt\n",
              "\n",
              "[7020 rows x 2 columns]"
            ],
            "text/html": [
              "\n",
              "  <div id=\"df-96609285-3ef1-487a-a385-d762cb3a9ac0\">\n",
              "    <div class=\"colab-df-container\">\n",
              "      <div>\n",
              "<style scoped>\n",
              "    .dataframe tbody tr th:only-of-type {\n",
              "        vertical-align: middle;\n",
              "    }\n",
              "\n",
              "    .dataframe tbody tr th {\n",
              "        vertical-align: top;\n",
              "    }\n",
              "\n",
              "    .dataframe thead th {\n",
              "        text-align: right;\n",
              "    }\n",
              "</style>\n",
              "<table border=\"1\" class=\"dataframe\">\n",
              "  <thead>\n",
              "    <tr style=\"text-align: right;\">\n",
              "      <th></th>\n",
              "      <th>id</th>\n",
              "      <th>lang</th>\n",
              "    </tr>\n",
              "  </thead>\n",
              "  <tbody>\n",
              "    <tr>\n",
              "      <th>13</th>\n",
              "      <td>00SamUQvdyE4IFBM</td>\n",
              "      <td>pt</td>\n",
              "    </tr>\n",
              "    <tr>\n",
              "      <th>49</th>\n",
              "      <td>01zNMO11qGa7tLqa</td>\n",
              "      <td>pt</td>\n",
              "    </tr>\n",
              "    <tr>\n",
              "      <th>56</th>\n",
              "      <td>02Fwq8lfGcaP9UMZ</td>\n",
              "      <td>pt</td>\n",
              "    </tr>\n",
              "    <tr>\n",
              "      <th>74</th>\n",
              "      <td>02dc1Q6fV1ByAouz</td>\n",
              "      <td>pt</td>\n",
              "    </tr>\n",
              "    <tr>\n",
              "      <th>125</th>\n",
              "      <td>04zfuN5RyJWYXDRH</td>\n",
              "      <td>pt</td>\n",
              "    </tr>\n",
              "    <tr>\n",
              "      <th>...</th>\n",
              "      <td>...</td>\n",
              "      <td>...</td>\n",
              "    </tr>\n",
              "    <tr>\n",
              "      <th>109218</th>\n",
              "      <td>zy2Fae6WwnDGK4bR</td>\n",
              "      <td>pt</td>\n",
              "    </tr>\n",
              "    <tr>\n",
              "      <th>109230</th>\n",
              "      <td>zygPT2dpQ0TeIJek</td>\n",
              "      <td>pt</td>\n",
              "    </tr>\n",
              "    <tr>\n",
              "      <th>109243</th>\n",
              "      <td>zz8vXezxvsdgWb3D</td>\n",
              "      <td>pt</td>\n",
              "    </tr>\n",
              "    <tr>\n",
              "      <th>109247</th>\n",
              "      <td>zzOS4kMGV0gCaQLq</td>\n",
              "      <td>pt</td>\n",
              "    </tr>\n",
              "    <tr>\n",
              "      <th>109263</th>\n",
              "      <td>zzyb5LvKJTWLVnrk</td>\n",
              "      <td>pt</td>\n",
              "    </tr>\n",
              "  </tbody>\n",
              "</table>\n",
              "<p>7020 rows × 2 columns</p>\n",
              "</div>\n",
              "      <button class=\"colab-df-convert\" onclick=\"convertToInteractive('df-96609285-3ef1-487a-a385-d762cb3a9ac0')\"\n",
              "              title=\"Convert this dataframe to an interactive table.\"\n",
              "              style=\"display:none;\">\n",
              "        \n",
              "  <svg xmlns=\"http://www.w3.org/2000/svg\" height=\"24px\"viewBox=\"0 0 24 24\"\n",
              "       width=\"24px\">\n",
              "    <path d=\"M0 0h24v24H0V0z\" fill=\"none\"/>\n",
              "    <path d=\"M18.56 5.44l.94 2.06.94-2.06 2.06-.94-2.06-.94-.94-2.06-.94 2.06-2.06.94zm-11 1L8.5 8.5l.94-2.06 2.06-.94-2.06-.94L8.5 2.5l-.94 2.06-2.06.94zm10 10l.94 2.06.94-2.06 2.06-.94-2.06-.94-.94-2.06-.94 2.06-2.06.94z\"/><path d=\"M17.41 7.96l-1.37-1.37c-.4-.4-.92-.59-1.43-.59-.52 0-1.04.2-1.43.59L10.3 9.45l-7.72 7.72c-.78.78-.78 2.05 0 2.83L4 21.41c.39.39.9.59 1.41.59.51 0 1.02-.2 1.41-.59l7.78-7.78 2.81-2.81c.8-.78.8-2.07 0-2.86zM5.41 20L4 18.59l7.72-7.72 1.47 1.35L5.41 20z\"/>\n",
              "  </svg>\n",
              "      </button>\n",
              "      \n",
              "  <style>\n",
              "    .colab-df-container {\n",
              "      display:flex;\n",
              "      flex-wrap:wrap;\n",
              "      gap: 12px;\n",
              "    }\n",
              "\n",
              "    .colab-df-convert {\n",
              "      background-color: #E8F0FE;\n",
              "      border: none;\n",
              "      border-radius: 50%;\n",
              "      cursor: pointer;\n",
              "      display: none;\n",
              "      fill: #1967D2;\n",
              "      height: 32px;\n",
              "      padding: 0 0 0 0;\n",
              "      width: 32px;\n",
              "    }\n",
              "\n",
              "    .colab-df-convert:hover {\n",
              "      background-color: #E2EBFA;\n",
              "      box-shadow: 0px 1px 2px rgba(60, 64, 67, 0.3), 0px 1px 3px 1px rgba(60, 64, 67, 0.15);\n",
              "      fill: #174EA6;\n",
              "    }\n",
              "\n",
              "    [theme=dark] .colab-df-convert {\n",
              "      background-color: #3B4455;\n",
              "      fill: #D2E3FC;\n",
              "    }\n",
              "\n",
              "    [theme=dark] .colab-df-convert:hover {\n",
              "      background-color: #434B5C;\n",
              "      box-shadow: 0px 1px 3px 1px rgba(0, 0, 0, 0.15);\n",
              "      filter: drop-shadow(0px 1px 2px rgba(0, 0, 0, 0.3));\n",
              "      fill: #FFFFFF;\n",
              "    }\n",
              "  </style>\n",
              "\n",
              "      <script>\n",
              "        const buttonEl =\n",
              "          document.querySelector('#df-96609285-3ef1-487a-a385-d762cb3a9ac0 button.colab-df-convert');\n",
              "        buttonEl.style.display =\n",
              "          google.colab.kernel.accessAllowed ? 'block' : 'none';\n",
              "\n",
              "        async function convertToInteractive(key) {\n",
              "          const element = document.querySelector('#df-96609285-3ef1-487a-a385-d762cb3a9ac0');\n",
              "          const dataTable =\n",
              "            await google.colab.kernel.invokeFunction('convertToInteractive',\n",
              "                                                     [key], {});\n",
              "          if (!dataTable) return;\n",
              "\n",
              "          const docLinkHtml = 'Like what you see? Visit the ' +\n",
              "            '<a target=\"_blank\" href=https://colab.research.google.com/notebooks/data_table.ipynb>data table notebook</a>'\n",
              "            + ' to learn more about interactive tables.';\n",
              "          element.innerHTML = '';\n",
              "          dataTable['output_type'] = 'display_data';\n",
              "          await google.colab.output.renderOutput(dataTable, element);\n",
              "          const docLink = document.createElement('div');\n",
              "          docLink.innerHTML = docLinkHtml;\n",
              "          element.appendChild(docLink);\n",
              "        }\n",
              "      </script>\n",
              "    </div>\n",
              "  </div>\n",
              "  "
            ]
          },
          "metadata": {},
          "execution_count": 12
        }
      ]
    },
    {
      "cell_type": "code",
      "source": [
        "# merge en dataframes & genres into one\n",
        "df_genre_pt = pd.concat([df_genres['id'], df_genres['genres'], df_lang_pt['lang']]\n",
        "                             , join='inner' ,axis=1)\n",
        "\n",
        "#Do inner join\n",
        "df_genre_pt"
      ],
      "metadata": {
        "colab": {
          "base_uri": "https://localhost:8080/",
          "height": 423
        },
        "id": "IsK0hn6KUzsf",
        "outputId": "27e30d8e-f7a0-47e2-9f85-2f06f2ed084e"
      },
      "execution_count": 13,
      "outputs": [
        {
          "output_type": "execute_result",
          "data": {
            "text/plain": [
              "                      id              genres lang\n",
              "13      00SamUQvdyE4IFBM               salsa   pt\n",
              "49      01zNMO11qGa7tLqa                 rap   pt\n",
              "56      02Fwq8lfGcaP9UMZ               samba   pt\n",
              "74      02dc1Q6fV1ByAouz           mpb,samba   pt\n",
              "125     04zfuN5RyJWYXDRH  pop,portuguese pop   pt\n",
              "...                  ...                 ...  ...\n",
              "109218  zy2Fae6WwnDGK4bR            jazz,mpb   pt\n",
              "109230  zygPT2dpQ0TeIJek                 mpb   pt\n",
              "109243  zz8vXezxvsdgWb3D        pagode,samba   pt\n",
              "109247  zzOS4kMGV0gCaQLq       hardcore,rock   pt\n",
              "109263  zzyb5LvKJTWLVnrk  soul,soul,mpb,funk   pt\n",
              "\n",
              "[7020 rows x 3 columns]"
            ],
            "text/html": [
              "\n",
              "  <div id=\"df-cbbf6796-481d-40ff-8e59-d61ebe10324f\">\n",
              "    <div class=\"colab-df-container\">\n",
              "      <div>\n",
              "<style scoped>\n",
              "    .dataframe tbody tr th:only-of-type {\n",
              "        vertical-align: middle;\n",
              "    }\n",
              "\n",
              "    .dataframe tbody tr th {\n",
              "        vertical-align: top;\n",
              "    }\n",
              "\n",
              "    .dataframe thead th {\n",
              "        text-align: right;\n",
              "    }\n",
              "</style>\n",
              "<table border=\"1\" class=\"dataframe\">\n",
              "  <thead>\n",
              "    <tr style=\"text-align: right;\">\n",
              "      <th></th>\n",
              "      <th>id</th>\n",
              "      <th>genres</th>\n",
              "      <th>lang</th>\n",
              "    </tr>\n",
              "  </thead>\n",
              "  <tbody>\n",
              "    <tr>\n",
              "      <th>13</th>\n",
              "      <td>00SamUQvdyE4IFBM</td>\n",
              "      <td>salsa</td>\n",
              "      <td>pt</td>\n",
              "    </tr>\n",
              "    <tr>\n",
              "      <th>49</th>\n",
              "      <td>01zNMO11qGa7tLqa</td>\n",
              "      <td>rap</td>\n",
              "      <td>pt</td>\n",
              "    </tr>\n",
              "    <tr>\n",
              "      <th>56</th>\n",
              "      <td>02Fwq8lfGcaP9UMZ</td>\n",
              "      <td>samba</td>\n",
              "      <td>pt</td>\n",
              "    </tr>\n",
              "    <tr>\n",
              "      <th>74</th>\n",
              "      <td>02dc1Q6fV1ByAouz</td>\n",
              "      <td>mpb,samba</td>\n",
              "      <td>pt</td>\n",
              "    </tr>\n",
              "    <tr>\n",
              "      <th>125</th>\n",
              "      <td>04zfuN5RyJWYXDRH</td>\n",
              "      <td>pop,portuguese pop</td>\n",
              "      <td>pt</td>\n",
              "    </tr>\n",
              "    <tr>\n",
              "      <th>...</th>\n",
              "      <td>...</td>\n",
              "      <td>...</td>\n",
              "      <td>...</td>\n",
              "    </tr>\n",
              "    <tr>\n",
              "      <th>109218</th>\n",
              "      <td>zy2Fae6WwnDGK4bR</td>\n",
              "      <td>jazz,mpb</td>\n",
              "      <td>pt</td>\n",
              "    </tr>\n",
              "    <tr>\n",
              "      <th>109230</th>\n",
              "      <td>zygPT2dpQ0TeIJek</td>\n",
              "      <td>mpb</td>\n",
              "      <td>pt</td>\n",
              "    </tr>\n",
              "    <tr>\n",
              "      <th>109243</th>\n",
              "      <td>zz8vXezxvsdgWb3D</td>\n",
              "      <td>pagode,samba</td>\n",
              "      <td>pt</td>\n",
              "    </tr>\n",
              "    <tr>\n",
              "      <th>109247</th>\n",
              "      <td>zzOS4kMGV0gCaQLq</td>\n",
              "      <td>hardcore,rock</td>\n",
              "      <td>pt</td>\n",
              "    </tr>\n",
              "    <tr>\n",
              "      <th>109263</th>\n",
              "      <td>zzyb5LvKJTWLVnrk</td>\n",
              "      <td>soul,soul,mpb,funk</td>\n",
              "      <td>pt</td>\n",
              "    </tr>\n",
              "  </tbody>\n",
              "</table>\n",
              "<p>7020 rows × 3 columns</p>\n",
              "</div>\n",
              "      <button class=\"colab-df-convert\" onclick=\"convertToInteractive('df-cbbf6796-481d-40ff-8e59-d61ebe10324f')\"\n",
              "              title=\"Convert this dataframe to an interactive table.\"\n",
              "              style=\"display:none;\">\n",
              "        \n",
              "  <svg xmlns=\"http://www.w3.org/2000/svg\" height=\"24px\"viewBox=\"0 0 24 24\"\n",
              "       width=\"24px\">\n",
              "    <path d=\"M0 0h24v24H0V0z\" fill=\"none\"/>\n",
              "    <path d=\"M18.56 5.44l.94 2.06.94-2.06 2.06-.94-2.06-.94-.94-2.06-.94 2.06-2.06.94zm-11 1L8.5 8.5l.94-2.06 2.06-.94-2.06-.94L8.5 2.5l-.94 2.06-2.06.94zm10 10l.94 2.06.94-2.06 2.06-.94-2.06-.94-.94-2.06-.94 2.06-2.06.94z\"/><path d=\"M17.41 7.96l-1.37-1.37c-.4-.4-.92-.59-1.43-.59-.52 0-1.04.2-1.43.59L10.3 9.45l-7.72 7.72c-.78.78-.78 2.05 0 2.83L4 21.41c.39.39.9.59 1.41.59.51 0 1.02-.2 1.41-.59l7.78-7.78 2.81-2.81c.8-.78.8-2.07 0-2.86zM5.41 20L4 18.59l7.72-7.72 1.47 1.35L5.41 20z\"/>\n",
              "  </svg>\n",
              "      </button>\n",
              "      \n",
              "  <style>\n",
              "    .colab-df-container {\n",
              "      display:flex;\n",
              "      flex-wrap:wrap;\n",
              "      gap: 12px;\n",
              "    }\n",
              "\n",
              "    .colab-df-convert {\n",
              "      background-color: #E8F0FE;\n",
              "      border: none;\n",
              "      border-radius: 50%;\n",
              "      cursor: pointer;\n",
              "      display: none;\n",
              "      fill: #1967D2;\n",
              "      height: 32px;\n",
              "      padding: 0 0 0 0;\n",
              "      width: 32px;\n",
              "    }\n",
              "\n",
              "    .colab-df-convert:hover {\n",
              "      background-color: #E2EBFA;\n",
              "      box-shadow: 0px 1px 2px rgba(60, 64, 67, 0.3), 0px 1px 3px 1px rgba(60, 64, 67, 0.15);\n",
              "      fill: #174EA6;\n",
              "    }\n",
              "\n",
              "    [theme=dark] .colab-df-convert {\n",
              "      background-color: #3B4455;\n",
              "      fill: #D2E3FC;\n",
              "    }\n",
              "\n",
              "    [theme=dark] .colab-df-convert:hover {\n",
              "      background-color: #434B5C;\n",
              "      box-shadow: 0px 1px 3px 1px rgba(0, 0, 0, 0.15);\n",
              "      filter: drop-shadow(0px 1px 2px rgba(0, 0, 0, 0.3));\n",
              "      fill: #FFFFFF;\n",
              "    }\n",
              "  </style>\n",
              "\n",
              "      <script>\n",
              "        const buttonEl =\n",
              "          document.querySelector('#df-cbbf6796-481d-40ff-8e59-d61ebe10324f button.colab-df-convert');\n",
              "        buttonEl.style.display =\n",
              "          google.colab.kernel.accessAllowed ? 'block' : 'none';\n",
              "\n",
              "        async function convertToInteractive(key) {\n",
              "          const element = document.querySelector('#df-cbbf6796-481d-40ff-8e59-d61ebe10324f');\n",
              "          const dataTable =\n",
              "            await google.colab.kernel.invokeFunction('convertToInteractive',\n",
              "                                                     [key], {});\n",
              "          if (!dataTable) return;\n",
              "\n",
              "          const docLinkHtml = 'Like what you see? Visit the ' +\n",
              "            '<a target=\"_blank\" href=https://colab.research.google.com/notebooks/data_table.ipynb>data table notebook</a>'\n",
              "            + ' to learn more about interactive tables.';\n",
              "          element.innerHTML = '';\n",
              "          dataTable['output_type'] = 'display_data';\n",
              "          await google.colab.output.renderOutput(dataTable, element);\n",
              "          const docLink = document.createElement('div');\n",
              "          docLink.innerHTML = docLinkHtml;\n",
              "          element.appendChild(docLink);\n",
              "        }\n",
              "      </script>\n",
              "    </div>\n",
              "  </div>\n",
              "  "
            ]
          },
          "metadata": {},
          "execution_count": 13
        }
      ]
    },
    {
      "cell_type": "code",
      "source": [
        "genre_counter_pt = analyze_genre_tag_df(df_genre_pt, top_n = 5)\n",
        "plt.tight_layout()\n",
        "genre_counter_pt = sorted(genre_counter_pt.items(), key=lambda item: item[1], reverse = True)\n",
        "genre_counter_top_list_pt = [genre for genre, count in genre_counter_pt[:5] ]\n",
        "genre_counter_top_list_pt"
      ],
      "metadata": {
        "colab": {
          "base_uri": "https://localhost:8080/",
          "height": 291
        },
        "id": "xTY0I201VF_7",
        "outputId": "03da2386-5e41-4aea-b680-577fa9e9be02"
      },
      "execution_count": 14,
      "outputs": [
        {
          "output_type": "stream",
          "name": "stdout",
          "text": [
            "Number of genres: 247\n"
          ]
        },
        {
          "output_type": "execute_result",
          "data": {
            "text/plain": [
              "['mpb', 'rock', 'pop', 'samba', 'bossa nova']"
            ]
          },
          "metadata": {},
          "execution_count": 14
        },
        {
          "output_type": "display_data",
          "data": {
            "text/plain": [
              "<Figure size 1296x504 with 1 Axes>"
            ],
            "image/png": "[encoded data removed]"
          },
          "metadata": {}
        }
      ]
    },
    {
      "cell_type": "code",
      "source": [
        "df_genre_pt = df_genre_pt[df_genre_pt['genres'].isin(genre_counter_top_list_pt)]\n",
        "df_genre_pt"
      ],
      "metadata": {
        "colab": {
          "base_uri": "https://localhost:8080/",
          "height": 423
        },
        "id": "EzFddMF-qLR_",
        "outputId": "bada4bc7-d645-4c3d-a608-c37c7b30ebe6"
      },
      "execution_count": 15,
      "outputs": [
        {
          "output_type": "execute_result",
          "data": {
            "text/plain": [
              "                      id      genres lang\n",
              "56      02Fwq8lfGcaP9UMZ       samba   pt\n",
              "398     0EoiY1vEVwSXLH1u         mpb   pt\n",
              "414     0FK9SM3bDg5uG5x2       samba   pt\n",
              "627     0MIOHtRyY6LRpleM         mpb   pt\n",
              "656     0N5HaBTkWt5stsQa       samba   pt\n",
              "...                  ...         ...  ...\n",
              "108821  zjnYSeJ41VYcKa29  bossa nova   pt\n",
              "109017  zqvmMIUrqZXFIH8u       samba   pt\n",
              "109061  zsRdrEEdvOV1pvJW       samba   pt\n",
              "109131  zuQuGr1ObYEQdmVu         mpb   pt\n",
              "109230  zygPT2dpQ0TeIJek         mpb   pt\n",
              "\n",
              "[1347 rows x 3 columns]"
            ],
            "text/html": [
              "\n",
              "  <div id=\"df-ff3c2f26-3306-482e-a4a7-e80ada791a2e\">\n",
              "    <div class=\"colab-df-container\">\n",
              "      <div>\n",
              "<style scoped>\n",
              "    .dataframe tbody tr th:only-of-type {\n",
              "        vertical-align: middle;\n",
              "    }\n",
              "\n",
              "    .dataframe tbody tr th {\n",
              "        vertical-align: top;\n",
              "    }\n",
              "\n",
              "    .dataframe thead th {\n",
              "        text-align: right;\n",
              "    }\n",
              "</style>\n",
              "<table border=\"1\" class=\"dataframe\">\n",
              "  <thead>\n",
              "    <tr style=\"text-align: right;\">\n",
              "      <th></th>\n",
              "      <th>id</th>\n",
              "      <th>genres</th>\n",
              "      <th>lang</th>\n",
              "    </tr>\n",
              "  </thead>\n",
              "  <tbody>\n",
              "    <tr>\n",
              "      <th>56</th>\n",
              "      <td>02Fwq8lfGcaP9UMZ</td>\n",
              "      <td>samba</td>\n",
              "      <td>pt</td>\n",
              "    </tr>\n",
              "    <tr>\n",
              "      <th>398</th>\n",
              "      <td>0EoiY1vEVwSXLH1u</td>\n",
              "      <td>mpb</td>\n",
              "      <td>pt</td>\n",
              "    </tr>\n",
              "    <tr>\n",
              "      <th>414</th>\n",
              "      <td>0FK9SM3bDg5uG5x2</td>\n",
              "      <td>samba</td>\n",
              "      <td>pt</td>\n",
              "    </tr>\n",
              "    <tr>\n",
              "      <th>627</th>\n",
              "      <td>0MIOHtRyY6LRpleM</td>\n",
              "      <td>mpb</td>\n",
              "      <td>pt</td>\n",
              "    </tr>\n",
              "    <tr>\n",
              "      <th>656</th>\n",
              "      <td>0N5HaBTkWt5stsQa</td>\n",
              "      <td>samba</td>\n",
              "      <td>pt</td>\n",
              "    </tr>\n",
              "    <tr>\n",
              "      <th>...</th>\n",
              "      <td>...</td>\n",
              "      <td>...</td>\n",
              "      <td>...</td>\n",
              "    </tr>\n",
              "    <tr>\n",
              "      <th>108821</th>\n",
              "      <td>zjnYSeJ41VYcKa29</td>\n",
              "      <td>bossa nova</td>\n",
              "      <td>pt</td>\n",
              "    </tr>\n",
              "    <tr>\n",
              "      <th>109017</th>\n",
              "      <td>zqvmMIUrqZXFIH8u</td>\n",
              "      <td>samba</td>\n",
              "      <td>pt</td>\n",
              "    </tr>\n",
              "    <tr>\n",
              "      <th>109061</th>\n",
              "      <td>zsRdrEEdvOV1pvJW</td>\n",
              "      <td>samba</td>\n",
              "      <td>pt</td>\n",
              "    </tr>\n",
              "    <tr>\n",
              "      <th>109131</th>\n",
              "      <td>zuQuGr1ObYEQdmVu</td>\n",
              "      <td>mpb</td>\n",
              "      <td>pt</td>\n",
              "    </tr>\n",
              "    <tr>\n",
              "      <th>109230</th>\n",
              "      <td>zygPT2dpQ0TeIJek</td>\n",
              "      <td>mpb</td>\n",
              "      <td>pt</td>\n",
              "    </tr>\n",
              "  </tbody>\n",
              "</table>\n",
              "<p>1347 rows × 3 columns</p>\n",
              "</div>\n",
              "      <button class=\"colab-df-convert\" onclick=\"convertToInteractive('df-ff3c2f26-3306-482e-a4a7-e80ada791a2e')\"\n",
              "              title=\"Convert this dataframe to an interactive table.\"\n",
              "              style=\"display:none;\">\n",
              "        \n",
              "  <svg xmlns=\"http://www.w3.org/2000/svg\" height=\"24px\"viewBox=\"0 0 24 24\"\n",
              "       width=\"24px\">\n",
              "    <path d=\"M0 0h24v24H0V0z\" fill=\"none\"/>\n",
              "    <path d=\"M18.56 5.44l.94 2.06.94-2.06 2.06-.94-2.06-.94-.94-2.06-.94 2.06-2.06.94zm-11 1L8.5 8.5l.94-2.06 2.06-.94-2.06-.94L8.5 2.5l-.94 2.06-2.06.94zm10 10l.94 2.06.94-2.06 2.06-.94-2.06-.94-.94-2.06-.94 2.06-2.06.94z\"/><path d=\"M17.41 7.96l-1.37-1.37c-.4-.4-.92-.59-1.43-.59-.52 0-1.04.2-1.43.59L10.3 9.45l-7.72 7.72c-.78.78-.78 2.05 0 2.83L4 21.41c.39.39.9.59 1.41.59.51 0 1.02-.2 1.41-.59l7.78-7.78 2.81-2.81c.8-.78.8-2.07 0-2.86zM5.41 20L4 18.59l7.72-7.72 1.47 1.35L5.41 20z\"/>\n",
              "  </svg>\n",
              "      </button>\n",
              "      \n",
              "  <style>\n",
              "    .colab-df-container {\n",
              "      display:flex;\n",
              "      flex-wrap:wrap;\n",
              "      gap: 12px;\n",
              "    }\n",
              "\n",
              "    .colab-df-convert {\n",
              "      background-color: #E8F0FE;\n",
              "      border: none;\n",
              "      border-radius: 50%;\n",
              "      cursor: pointer;\n",
              "      display: none;\n",
              "      fill: #1967D2;\n",
              "      height: 32px;\n",
              "      padding: 0 0 0 0;\n",
              "      width: 32px;\n",
              "    }\n",
              "\n",
              "    .colab-df-convert:hover {\n",
              "      background-color: #E2EBFA;\n",
              "      box-shadow: 0px 1px 2px rgba(60, 64, 67, 0.3), 0px 1px 3px 1px rgba(60, 64, 67, 0.15);\n",
              "      fill: #174EA6;\n",
              "    }\n",
              "\n",
              "    [theme=dark] .colab-df-convert {\n",
              "      background-color: #3B4455;\n",
              "      fill: #D2E3FC;\n",
              "    }\n",
              "\n",
              "    [theme=dark] .colab-df-convert:hover {\n",
              "      background-color: #434B5C;\n",
              "      box-shadow: 0px 1px 3px 1px rgba(0, 0, 0, 0.15);\n",
              "      filter: drop-shadow(0px 1px 2px rgba(0, 0, 0, 0.3));\n",
              "      fill: #FFFFFF;\n",
              "    }\n",
              "  </style>\n",
              "\n",
              "      <script>\n",
              "        const buttonEl =\n",
              "          document.querySelector('#df-ff3c2f26-3306-482e-a4a7-e80ada791a2e button.colab-df-convert');\n",
              "        buttonEl.style.display =\n",
              "          google.colab.kernel.accessAllowed ? 'block' : 'none';\n",
              "\n",
              "        async function convertToInteractive(key) {\n",
              "          const element = document.querySelector('#df-ff3c2f26-3306-482e-a4a7-e80ada791a2e');\n",
              "          const dataTable =\n",
              "            await google.colab.kernel.invokeFunction('convertToInteractive',\n",
              "                                                     [key], {});\n",
              "          if (!dataTable) return;\n",
              "\n",
              "          const docLinkHtml = 'Like what you see? Visit the ' +\n",
              "            '<a target=\"_blank\" href=https://colab.research.google.com/notebooks/data_table.ipynb>data table notebook</a>'\n",
              "            + ' to learn more about interactive tables.';\n",
              "          element.innerHTML = '';\n",
              "          dataTable['output_type'] = 'display_data';\n",
              "          await google.colab.output.renderOutput(dataTable, element);\n",
              "          const docLink = document.createElement('div');\n",
              "          docLink.innerHTML = docLinkHtml;\n",
              "          element.appendChild(docLink);\n",
              "        }\n",
              "      </script>\n",
              "    </div>\n",
              "  </div>\n",
              "  "
            ]
          },
          "metadata": {},
          "execution_count": 15
        }
      ]
    },
    {
      "cell_type": "markdown",
      "source": [
        "Spanish"
      ],
      "metadata": {
        "id": "UZBfmCxEqdPO"
      }
    },
    {
      "cell_type": "code",
      "source": [
        "#fileter Eng\n",
        "df_lang = pd.read_csv(os.path.join(CSV_FOLDER, 'id_lang.csv'), header=0, sep='\t')\n",
        "df_lang_es=df_lang[ df_lang['lang'].isin(['es']) ]\n",
        "df_lang_es"
      ],
      "metadata": {
        "colab": {
          "base_uri": "https://localhost:8080/",
          "height": 423
        },
        "id": "qlSCiM44qd2k",
        "outputId": "fe4d97f4-330e-4c3e-a8d3-61134186a8c0"
      },
      "execution_count": 16,
      "outputs": [
        {
          "output_type": "execute_result",
          "data": {
            "text/plain": [
              "                      id lang\n",
              "14      00XWljDxNBgBKEEA   es\n",
              "51      023KeDV5DfyxOplZ   es\n",
              "95      03ZQb2ctptlPqj4K   es\n",
              "99      03ouHBQJK0nNWXUQ   es\n",
              "192     07QRvQw4sk50K7ZS   es\n",
              "...                  ...  ...\n",
              "109055  zsHiSjhYdEQdkRcZ   es\n",
              "109137  zuoO1Uw4sHUDE1Vl   es\n",
              "109163  zvpDM2CCI3BdjrKm   es\n",
              "109196  zxE8Hv3rDDFdgZzu   es\n",
              "109233  zyuLEHUygzY8xYeo   es\n",
              "\n",
              "[3225 rows x 2 columns]"
            ],
            "text/html": [
              "\n",
              "  <div id=\"df-91c32a44-e019-4fc5-aa1d-68d14467a3b3\">\n",
              "    <div class=\"colab-df-container\">\n",
              "      <div>\n",
              "<style scoped>\n",
              "    .dataframe tbody tr th:only-of-type {\n",
              "        vertical-align: middle;\n",
              "    }\n",
              "\n",
              "    .dataframe tbody tr th {\n",
              "        vertical-align: top;\n",
              "    }\n",
              "\n",
              "    .dataframe thead th {\n",
              "        text-align: right;\n",
              "    }\n",
              "</style>\n",
              "<table border=\"1\" class=\"dataframe\">\n",
              "  <thead>\n",
              "    <tr style=\"text-align: right;\">\n",
              "      <th></th>\n",
              "      <th>id</th>\n",
              "      <th>lang</th>\n",
              "    </tr>\n",
              "  </thead>\n",
              "  <tbody>\n",
              "    <tr>\n",
              "      <th>14</th>\n",
              "      <td>00XWljDxNBgBKEEA</td>\n",
              "      <td>es</td>\n",
              "    </tr>\n",
              "    <tr>\n",
              "      <th>51</th>\n",
              "      <td>023KeDV5DfyxOplZ</td>\n",
              "      <td>es</td>\n",
              "    </tr>\n",
              "    <tr>\n",
              "      <th>95</th>\n",
              "      <td>03ZQb2ctptlPqj4K</td>\n",
              "      <td>es</td>\n",
              "    </tr>\n",
              "    <tr>\n",
              "      <th>99</th>\n",
              "      <td>03ouHBQJK0nNWXUQ</td>\n",
              "      <td>es</td>\n",
              "    </tr>\n",
              "    <tr>\n",
              "      <th>192</th>\n",
              "      <td>07QRvQw4sk50K7ZS</td>\n",
              "      <td>es</td>\n",
              "    </tr>\n",
              "    <tr>\n",
              "      <th>...</th>\n",
              "      <td>...</td>\n",
              "      <td>...</td>\n",
              "    </tr>\n",
              "    <tr>\n",
              "      <th>109055</th>\n",
              "      <td>zsHiSjhYdEQdkRcZ</td>\n",
              "      <td>es</td>\n",
              "    </tr>\n",
              "    <tr>\n",
              "      <th>109137</th>\n",
              "      <td>zuoO1Uw4sHUDE1Vl</td>\n",
              "      <td>es</td>\n",
              "    </tr>\n",
              "    <tr>\n",
              "      <th>109163</th>\n",
              "      <td>zvpDM2CCI3BdjrKm</td>\n",
              "      <td>es</td>\n",
              "    </tr>\n",
              "    <tr>\n",
              "      <th>109196</th>\n",
              "      <td>zxE8Hv3rDDFdgZzu</td>\n",
              "      <td>es</td>\n",
              "    </tr>\n",
              "    <tr>\n",
              "      <th>109233</th>\n",
              "      <td>zyuLEHUygzY8xYeo</td>\n",
              "      <td>es</td>\n",
              "    </tr>\n",
              "  </tbody>\n",
              "</table>\n",
              "<p>3225 rows × 2 columns</p>\n",
              "</div>\n",
              "      <button class=\"colab-df-convert\" onclick=\"convertToInteractive('df-91c32a44-e019-4fc5-aa1d-68d14467a3b3')\"\n",
              "              title=\"Convert this dataframe to an interactive table.\"\n",
              "              style=\"display:none;\">\n",
              "        \n",
              "  <svg xmlns=\"http://www.w3.org/2000/svg\" height=\"24px\"viewBox=\"0 0 24 24\"\n",
              "       width=\"24px\">\n",
              "    <path d=\"M0 0h24v24H0V0z\" fill=\"none\"/>\n",
              "    <path d=\"M18.56 5.44l.94 2.06.94-2.06 2.06-.94-2.06-.94-.94-2.06-.94 2.06-2.06.94zm-11 1L8.5 8.5l.94-2.06 2.06-.94-2.06-.94L8.5 2.5l-.94 2.06-2.06.94zm10 10l.94 2.06.94-2.06 2.06-.94-2.06-.94-.94-2.06-.94 2.06-2.06.94z\"/><path d=\"M17.41 7.96l-1.37-1.37c-.4-.4-.92-.59-1.43-.59-.52 0-1.04.2-1.43.59L10.3 9.45l-7.72 7.72c-.78.78-.78 2.05 0 2.83L4 21.41c.39.39.9.59 1.41.59.51 0 1.02-.2 1.41-.59l7.78-7.78 2.81-2.81c.8-.78.8-2.07 0-2.86zM5.41 20L4 18.59l7.72-7.72 1.47 1.35L5.41 20z\"/>\n",
              "  </svg>\n",
              "      </button>\n",
              "      \n",
              "  <style>\n",
              "    .colab-df-container {\n",
              "      display:flex;\n",
              "      flex-wrap:wrap;\n",
              "      gap: 12px;\n",
              "    }\n",
              "\n",
              "    .colab-df-convert {\n",
              "      background-color: #E8F0FE;\n",
              "      border: none;\n",
              "      border-radius: 50%;\n",
              "      cursor: pointer;\n",
              "      display: none;\n",
              "      fill: #1967D2;\n",
              "      height: 32px;\n",
              "      padding: 0 0 0 0;\n",
              "      width: 32px;\n",
              "    }\n",
              "\n",
              "    .colab-df-convert:hover {\n",
              "      background-color: #E2EBFA;\n",
              "      box-shadow: 0px 1px 2px rgba(60, 64, 67, 0.3), 0px 1px 3px 1px rgba(60, 64, 67, 0.15);\n",
              "      fill: #174EA6;\n",
              "    }\n",
              "\n",
              "    [theme=dark] .colab-df-convert {\n",
              "      background-color: #3B4455;\n",
              "      fill: #D2E3FC;\n",
              "    }\n",
              "\n",
              "    [theme=dark] .colab-df-convert:hover {\n",
              "      background-color: #434B5C;\n",
              "      box-shadow: 0px 1px 3px 1px rgba(0, 0, 0, 0.15);\n",
              "      filter: drop-shadow(0px 1px 2px rgba(0, 0, 0, 0.3));\n",
              "      fill: #FFFFFF;\n",
              "    }\n",
              "  </style>\n",
              "\n",
              "      <script>\n",
              "        const buttonEl =\n",
              "          document.querySelector('#df-91c32a44-e019-4fc5-aa1d-68d14467a3b3 button.colab-df-convert');\n",
              "        buttonEl.style.display =\n",
              "          google.colab.kernel.accessAllowed ? 'block' : 'none';\n",
              "\n",
              "        async function convertToInteractive(key) {\n",
              "          const element = document.querySelector('#df-91c32a44-e019-4fc5-aa1d-68d14467a3b3');\n",
              "          const dataTable =\n",
              "            await google.colab.kernel.invokeFunction('convertToInteractive',\n",
              "                                                     [key], {});\n",
              "          if (!dataTable) return;\n",
              "\n",
              "          const docLinkHtml = 'Like what you see? Visit the ' +\n",
              "            '<a target=\"_blank\" href=https://colab.research.google.com/notebooks/data_table.ipynb>data table notebook</a>'\n",
              "            + ' to learn more about interactive tables.';\n",
              "          element.innerHTML = '';\n",
              "          dataTable['output_type'] = 'display_data';\n",
              "          await google.colab.output.renderOutput(dataTable, element);\n",
              "          const docLink = document.createElement('div');\n",
              "          docLink.innerHTML = docLinkHtml;\n",
              "          element.appendChild(docLink);\n",
              "        }\n",
              "      </script>\n",
              "    </div>\n",
              "  </div>\n",
              "  "
            ]
          },
          "metadata": {},
          "execution_count": 16
        }
      ]
    },
    {
      "cell_type": "code",
      "source": [
        "# merge en dataframes & genres into one\n",
        "df_genre_es = pd.concat([df_genres['id'], df_genres['genres'], df_lang_es['lang']]\n",
        "                             , join='inner' ,axis=1)\n",
        "\n",
        "#Do inner join\n",
        "df_genre_es"
      ],
      "metadata": {
        "colab": {
          "base_uri": "https://localhost:8080/",
          "height": 467
        },
        "id": "yz7EHiOwqqaN",
        "outputId": "1bf241de-cf1a-4851-e516-23e70ec983c1"
      },
      "execution_count": 17,
      "outputs": [
        {
          "output_type": "execute_result",
          "data": {
            "text/plain": [
              "                      id                                             genres  \\\n",
              "14      00XWljDxNBgBKEEA                                                pop   \n",
              "51      023KeDV5DfyxOplZ                                        latin,world   \n",
              "95      03ZQb2ctptlPqj4K                                                pop   \n",
              "99      03ouHBQJK0nNWXUQ                                            hip hop   \n",
              "192     07QRvQw4sk50K7ZS                                       spanish rock   \n",
              "...                  ...                                                ...   \n",
              "109055  zsHiSjhYdEQdkRcZ                                    rock en espanol   \n",
              "109137  zuoO1Uw4sHUDE1Vl                                              banda   \n",
              "109163  zvpDM2CCI3BdjrKm  lounge,alternative rock,rock en espanol,rock,a...   \n",
              "109196  zxE8Hv3rDDFdgZzu                                    latin,reggaeton   \n",
              "109233  zyuLEHUygzY8xYeo                               dancehall,reggae,rap   \n",
              "\n",
              "       lang  \n",
              "14       es  \n",
              "51       es  \n",
              "95       es  \n",
              "99       es  \n",
              "192      es  \n",
              "...     ...  \n",
              "109055   es  \n",
              "109137   es  \n",
              "109163   es  \n",
              "109196   es  \n",
              "109233   es  \n",
              "\n",
              "[3225 rows x 3 columns]"
            ],
            "text/html": [
              "\n",
              "  <div id=\"df-a610c3bf-a371-4934-ae64-029374da1add\">\n",
              "    <div class=\"colab-df-container\">\n",
              "      <div>\n",
              "<style scoped>\n",
              "    .dataframe tbody tr th:only-of-type {\n",
              "        vertical-align: middle;\n",
              "    }\n",
              "\n",
              "    .dataframe tbody tr th {\n",
              "        vertical-align: top;\n",
              "    }\n",
              "\n",
              "    .dataframe thead th {\n",
              "        text-align: right;\n",
              "    }\n",
              "</style>\n",
              "<table border=\"1\" class=\"dataframe\">\n",
              "  <thead>\n",
              "    <tr style=\"text-align: right;\">\n",
              "      <th></th>\n",
              "      <th>id</th>\n",
              "      <th>genres</th>\n",
              "      <th>lang</th>\n",
              "    </tr>\n",
              "  </thead>\n",
              "  <tbody>\n",
              "    <tr>\n",
              "      <th>14</th>\n",
              "      <td>00XWljDxNBgBKEEA</td>\n",
              "      <td>pop</td>\n",
              "      <td>es</td>\n",
              "    </tr>\n",
              "    <tr>\n",
              "      <th>51</th>\n",
              "      <td>023KeDV5DfyxOplZ</td>\n",
              "      <td>latin,world</td>\n",
              "      <td>es</td>\n",
              "    </tr>\n",
              "    <tr>\n",
              "      <th>95</th>\n",
              "      <td>03ZQb2ctptlPqj4K</td>\n",
              "      <td>pop</td>\n",
              "      <td>es</td>\n",
              "    </tr>\n",
              "    <tr>\n",
              "      <th>99</th>\n",
              "      <td>03ouHBQJK0nNWXUQ</td>\n",
              "      <td>hip hop</td>\n",
              "      <td>es</td>\n",
              "    </tr>\n",
              "    <tr>\n",
              "      <th>192</th>\n",
              "      <td>07QRvQw4sk50K7ZS</td>\n",
              "      <td>spanish rock</td>\n",
              "      <td>es</td>\n",
              "    </tr>\n",
              "    <tr>\n",
              "      <th>...</th>\n",
              "      <td>...</td>\n",
              "      <td>...</td>\n",
              "      <td>...</td>\n",
              "    </tr>\n",
              "    <tr>\n",
              "      <th>109055</th>\n",
              "      <td>zsHiSjhYdEQdkRcZ</td>\n",
              "      <td>rock en espanol</td>\n",
              "      <td>es</td>\n",
              "    </tr>\n",
              "    <tr>\n",
              "      <th>109137</th>\n",
              "      <td>zuoO1Uw4sHUDE1Vl</td>\n",
              "      <td>banda</td>\n",
              "      <td>es</td>\n",
              "    </tr>\n",
              "    <tr>\n",
              "      <th>109163</th>\n",
              "      <td>zvpDM2CCI3BdjrKm</td>\n",
              "      <td>lounge,alternative rock,rock en espanol,rock,a...</td>\n",
              "      <td>es</td>\n",
              "    </tr>\n",
              "    <tr>\n",
              "      <th>109196</th>\n",
              "      <td>zxE8Hv3rDDFdgZzu</td>\n",
              "      <td>latin,reggaeton</td>\n",
              "      <td>es</td>\n",
              "    </tr>\n",
              "    <tr>\n",
              "      <th>109233</th>\n",
              "      <td>zyuLEHUygzY8xYeo</td>\n",
              "      <td>dancehall,reggae,rap</td>\n",
              "      <td>es</td>\n",
              "    </tr>\n",
              "  </tbody>\n",
              "</table>\n",
              "<p>3225 rows × 3 columns</p>\n",
              "</div>\n",
              "      <button class=\"colab-df-convert\" onclick=\"convertToInteractive('df-a610c3bf-a371-4934-ae64-029374da1add')\"\n",
              "              title=\"Convert this dataframe to an interactive table.\"\n",
              "              style=\"display:none;\">\n",
              "        \n",
              "  <svg xmlns=\"http://www.w3.org/2000/svg\" height=\"24px\"viewBox=\"0 0 24 24\"\n",
              "       width=\"24px\">\n",
              "    <path d=\"M0 0h24v24H0V0z\" fill=\"none\"/>\n",
              "    <path d=\"M18.56 5.44l.94 2.06.94-2.06 2.06-.94-2.06-.94-.94-2.06-.94 2.06-2.06.94zm-11 1L8.5 8.5l.94-2.06 2.06-.94-2.06-.94L8.5 2.5l-.94 2.06-2.06.94zm10 10l.94 2.06.94-2.06 2.06-.94-2.06-.94-.94-2.06-.94 2.06-2.06.94z\"/><path d=\"M17.41 7.96l-1.37-1.37c-.4-.4-.92-.59-1.43-.59-.52 0-1.04.2-1.43.59L10.3 9.45l-7.72 7.72c-.78.78-.78 2.05 0 2.83L4 21.41c.39.39.9.59 1.41.59.51 0 1.02-.2 1.41-.59l7.78-7.78 2.81-2.81c.8-.78.8-2.07 0-2.86zM5.41 20L4 18.59l7.72-7.72 1.47 1.35L5.41 20z\"/>\n",
              "  </svg>\n",
              "      </button>\n",
              "      \n",
              "  <style>\n",
              "    .colab-df-container {\n",
              "      display:flex;\n",
              "      flex-wrap:wrap;\n",
              "      gap: 12px;\n",
              "    }\n",
              "\n",
              "    .colab-df-convert {\n",
              "      background-color: #E8F0FE;\n",
              "      border: none;\n",
              "      border-radius: 50%;\n",
              "      cursor: pointer;\n",
              "      display: none;\n",
              "      fill: #1967D2;\n",
              "      height: 32px;\n",
              "      padding: 0 0 0 0;\n",
              "      width: 32px;\n",
              "    }\n",
              "\n",
              "    .colab-df-convert:hover {\n",
              "      background-color: #E2EBFA;\n",
              "      box-shadow: 0px 1px 2px rgba(60, 64, 67, 0.3), 0px 1px 3px 1px rgba(60, 64, 67, 0.15);\n",
              "      fill: #174EA6;\n",
              "    }\n",
              "\n",
              "    [theme=dark] .colab-df-convert {\n",
              "      background-color: #3B4455;\n",
              "      fill: #D2E3FC;\n",
              "    }\n",
              "\n",
              "    [theme=dark] .colab-df-convert:hover {\n",
              "      background-color: #434B5C;\n",
              "      box-shadow: 0px 1px 3px 1px rgba(0, 0, 0, 0.15);\n",
              "      filter: drop-shadow(0px 1px 2px rgba(0, 0, 0, 0.3));\n",
              "      fill: #FFFFFF;\n",
              "    }\n",
              "  </style>\n",
              "\n",
              "      <script>\n",
              "        const buttonEl =\n",
              "          document.querySelector('#df-a610c3bf-a371-4934-ae64-029374da1add button.colab-df-convert');\n",
              "        buttonEl.style.display =\n",
              "          google.colab.kernel.accessAllowed ? 'block' : 'none';\n",
              "\n",
              "        async function convertToInteractive(key) {\n",
              "          const element = document.querySelector('#df-a610c3bf-a371-4934-ae64-029374da1add');\n",
              "          const dataTable =\n",
              "            await google.colab.kernel.invokeFunction('convertToInteractive',\n",
              "                                                     [key], {});\n",
              "          if (!dataTable) return;\n",
              "\n",
              "          const docLinkHtml = 'Like what you see? Visit the ' +\n",
              "            '<a target=\"_blank\" href=https://colab.research.google.com/notebooks/data_table.ipynb>data table notebook</a>'\n",
              "            + ' to learn more about interactive tables.';\n",
              "          element.innerHTML = '';\n",
              "          dataTable['output_type'] = 'display_data';\n",
              "          await google.colab.output.renderOutput(dataTable, element);\n",
              "          const docLink = document.createElement('div');\n",
              "          docLink.innerHTML = docLinkHtml;\n",
              "          element.appendChild(docLink);\n",
              "        }\n",
              "      </script>\n",
              "    </div>\n",
              "  </div>\n",
              "  "
            ]
          },
          "metadata": {},
          "execution_count": 17
        }
      ]
    },
    {
      "cell_type": "code",
      "source": [
        "genre_counter_es = analyze_genre_tag_df(df_genre_es, top_n = 5)\n",
        "plt.tight_layout()\n",
        "genre_counter_es = sorted(genre_counter_es.items(), key=lambda item: item[1], reverse = True)\n",
        "genre_counter_top_list_es = [genre for genre, count in genre_counter_es[:5] ]\n",
        "genre_counter_top_list_es"
      ],
      "metadata": {
        "colab": {
          "base_uri": "https://localhost:8080/",
          "height": 291
        },
        "id": "pRMiaWcgqwtp",
        "outputId": "452e22ab-8b19-443d-b2a9-b12c1ce43529"
      },
      "execution_count": 18,
      "outputs": [
        {
          "output_type": "stream",
          "name": "stdout",
          "text": [
            "Number of genres: 213\n"
          ]
        },
        {
          "output_type": "execute_result",
          "data": {
            "text/plain": [
              "['pop', 'latin', 'latin pop', 'rock', 'reggaeton']"
            ]
          },
          "metadata": {},
          "execution_count": 18
        },
        {
          "output_type": "display_data",
          "data": {
            "text/plain": [
              "<Figure size 1296x504 with 1 Axes>"
            ],
            "image/png": "[encoded data removed]"
          },
          "metadata": {}
        }
      ]
    },
    {
      "cell_type": "code",
      "source": [
        "df_genre_es = df_genre_es[df_genre_es['genres'].isin(genre_counter_top_list_es)]\n",
        "df_genre_es"
      ],
      "metadata": {
        "colab": {
          "base_uri": "https://localhost:8080/",
          "height": 423
        },
        "id": "57KAGFMJq4vH",
        "outputId": "aece4a59-1ac4-4773-dc13-d7ff41dcd099"
      },
      "execution_count": 19,
      "outputs": [
        {
          "output_type": "execute_result",
          "data": {
            "text/plain": [
              "                      id     genres lang\n",
              "14      00XWljDxNBgBKEEA        pop   es\n",
              "95      03ZQb2ctptlPqj4K        pop   es\n",
              "279     0AUKdqKreusplDjG       rock   es\n",
              "358     0DDGPJTcQaNL45dy      latin   es\n",
              "423     0FbB6l6wAEh8Enoe  latin pop   es\n",
              "...                  ...        ...  ...\n",
              "108561  zZpef5PJiTG9eSUW  reggaeton   es\n",
              "108588  zayBcP8wuOWcxjLY      latin   es\n",
              "108697  zf6I9Rp77pkBkbZE        pop   es\n",
              "108740  zgUn3BX8GFAWZu9U      latin   es\n",
              "108892  zm2yRXhoimeoSGFq        pop   es\n",
              "\n",
              "[563 rows x 3 columns]"
            ],
            "text/html": [
              "\n",
              "  <div id=\"df-a1bb1e93-dd0a-464a-b3db-1add2d75cafe\">\n",
              "    <div class=\"colab-df-container\">\n",
              "      <div>\n",
              "<style scoped>\n",
              "    .dataframe tbody tr th:only-of-type {\n",
              "        vertical-align: middle;\n",
              "    }\n",
              "\n",
              "    .dataframe tbody tr th {\n",
              "        vertical-align: top;\n",
              "    }\n",
              "\n",
              "    .dataframe thead th {\n",
              "        text-align: right;\n",
              "    }\n",
              "</style>\n",
              "<table border=\"1\" class=\"dataframe\">\n",
              "  <thead>\n",
              "    <tr style=\"text-align: right;\">\n",
              "      <th></th>\n",
              "      <th>id</th>\n",
              "      <th>genres</th>\n",
              "      <th>lang</th>\n",
              "    </tr>\n",
              "  </thead>\n",
              "  <tbody>\n",
              "    <tr>\n",
              "      <th>14</th>\n",
              "      <td>00XWljDxNBgBKEEA</td>\n",
              "      <td>pop</td>\n",
              "      <td>es</td>\n",
              "    </tr>\n",
              "    <tr>\n",
              "      <th>95</th>\n",
              "      <td>03ZQb2ctptlPqj4K</td>\n",
              "      <td>pop</td>\n",
              "      <td>es</td>\n",
              "    </tr>\n",
              "    <tr>\n",
              "      <th>279</th>\n",
              "      <td>0AUKdqKreusplDjG</td>\n",
              "      <td>rock</td>\n",
              "      <td>es</td>\n",
              "    </tr>\n",
              "    <tr>\n",
              "      <th>358</th>\n",
              "      <td>0DDGPJTcQaNL45dy</td>\n",
              "      <td>latin</td>\n",
              "      <td>es</td>\n",
              "    </tr>\n",
              "    <tr>\n",
              "      <th>423</th>\n",
              "      <td>0FbB6l6wAEh8Enoe</td>\n",
              "      <td>latin pop</td>\n",
              "      <td>es</td>\n",
              "    </tr>\n",
              "    <tr>\n",
              "      <th>...</th>\n",
              "      <td>...</td>\n",
              "      <td>...</td>\n",
              "      <td>...</td>\n",
              "    </tr>\n",
              "    <tr>\n",
              "      <th>108561</th>\n",
              "      <td>zZpef5PJiTG9eSUW</td>\n",
              "      <td>reggaeton</td>\n",
              "      <td>es</td>\n",
              "    </tr>\n",
              "    <tr>\n",
              "      <th>108588</th>\n",
              "      <td>zayBcP8wuOWcxjLY</td>\n",
              "      <td>latin</td>\n",
              "      <td>es</td>\n",
              "    </tr>\n",
              "    <tr>\n",
              "      <th>108697</th>\n",
              "      <td>zf6I9Rp77pkBkbZE</td>\n",
              "      <td>pop</td>\n",
              "      <td>es</td>\n",
              "    </tr>\n",
              "    <tr>\n",
              "      <th>108740</th>\n",
              "      <td>zgUn3BX8GFAWZu9U</td>\n",
              "      <td>latin</td>\n",
              "      <td>es</td>\n",
              "    </tr>\n",
              "    <tr>\n",
              "      <th>108892</th>\n",
              "      <td>zm2yRXhoimeoSGFq</td>\n",
              "      <td>pop</td>\n",
              "      <td>es</td>\n",
              "    </tr>\n",
              "  </tbody>\n",
              "</table>\n",
              "<p>563 rows × 3 columns</p>\n",
              "</div>\n",
              "      <button class=\"colab-df-convert\" onclick=\"convertToInteractive('df-a1bb1e93-dd0a-464a-b3db-1add2d75cafe')\"\n",
              "              title=\"Convert this dataframe to an interactive table.\"\n",
              "              style=\"display:none;\">\n",
              "        \n",
              "  <svg xmlns=\"http://www.w3.org/2000/svg\" height=\"24px\"viewBox=\"0 0 24 24\"\n",
              "       width=\"24px\">\n",
              "    <path d=\"M0 0h24v24H0V0z\" fill=\"none\"/>\n",
              "    <path d=\"M18.56 5.44l.94 2.06.94-2.06 2.06-.94-2.06-.94-.94-2.06-.94 2.06-2.06.94zm-11 1L8.5 8.5l.94-2.06 2.06-.94-2.06-.94L8.5 2.5l-.94 2.06-2.06.94zm10 10l.94 2.06.94-2.06 2.06-.94-2.06-.94-.94-2.06-.94 2.06-2.06.94z\"/><path d=\"M17.41 7.96l-1.37-1.37c-.4-.4-.92-.59-1.43-.59-.52 0-1.04.2-1.43.59L10.3 9.45l-7.72 7.72c-.78.78-.78 2.05 0 2.83L4 21.41c.39.39.9.59 1.41.59.51 0 1.02-.2 1.41-.59l7.78-7.78 2.81-2.81c.8-.78.8-2.07 0-2.86zM5.41 20L4 18.59l7.72-7.72 1.47 1.35L5.41 20z\"/>\n",
              "  </svg>\n",
              "      </button>\n",
              "      \n",
              "  <style>\n",
              "    .colab-df-container {\n",
              "      display:flex;\n",
              "      flex-wrap:wrap;\n",
              "      gap: 12px;\n",
              "    }\n",
              "\n",
              "    .colab-df-convert {\n",
              "      background-color: #E8F0FE;\n",
              "      border: none;\n",
              "      border-radius: 50%;\n",
              "      cursor: pointer;\n",
              "      display: none;\n",
              "      fill: #1967D2;\n",
              "      height: 32px;\n",
              "      padding: 0 0 0 0;\n",
              "      width: 32px;\n",
              "    }\n",
              "\n",
              "    .colab-df-convert:hover {\n",
              "      background-color: #E2EBFA;\n",
              "      box-shadow: 0px 1px 2px rgba(60, 64, 67, 0.3), 0px 1px 3px 1px rgba(60, 64, 67, 0.15);\n",
              "      fill: #174EA6;\n",
              "    }\n",
              "\n",
              "    [theme=dark] .colab-df-convert {\n",
              "      background-color: #3B4455;\n",
              "      fill: #D2E3FC;\n",
              "    }\n",
              "\n",
              "    [theme=dark] .colab-df-convert:hover {\n",
              "      background-color: #434B5C;\n",
              "      box-shadow: 0px 1px 3px 1px rgba(0, 0, 0, 0.15);\n",
              "      filter: drop-shadow(0px 1px 2px rgba(0, 0, 0, 0.3));\n",
              "      fill: #FFFFFF;\n",
              "    }\n",
              "  </style>\n",
              "\n",
              "      <script>\n",
              "        const buttonEl =\n",
              "          document.querySelector('#df-a1bb1e93-dd0a-464a-b3db-1add2d75cafe button.colab-df-convert');\n",
              "        buttonEl.style.display =\n",
              "          google.colab.kernel.accessAllowed ? 'block' : 'none';\n",
              "\n",
              "        async function convertToInteractive(key) {\n",
              "          const element = document.querySelector('#df-a1bb1e93-dd0a-464a-b3db-1add2d75cafe');\n",
              "          const dataTable =\n",
              "            await google.colab.kernel.invokeFunction('convertToInteractive',\n",
              "                                                     [key], {});\n",
              "          if (!dataTable) return;\n",
              "\n",
              "          const docLinkHtml = 'Like what you see? Visit the ' +\n",
              "            '<a target=\"_blank\" href=https://colab.research.google.com/notebooks/data_table.ipynb>data table notebook</a>'\n",
              "            + ' to learn more about interactive tables.';\n",
              "          element.innerHTML = '';\n",
              "          dataTable['output_type'] = 'display_data';\n",
              "          await google.colab.output.renderOutput(dataTable, element);\n",
              "          const docLink = document.createElement('div');\n",
              "          docLink.innerHTML = docLinkHtml;\n",
              "          element.appendChild(docLink);\n",
              "        }\n",
              "      </script>\n",
              "    </div>\n",
              "  </div>\n",
              "  "
            ]
          },
          "metadata": {},
          "execution_count": 19
        }
      ]
    },
    {
      "cell_type": "markdown",
      "source": [
        "Get conbined dataframe for clf1"
      ],
      "metadata": {
        "id": "8BMQRYvIrXK_"
      }
    },
    {
      "cell_type": "code",
      "source": [
        "df_genre_en_pt_es = pd.concat([df_genre_en, df_genre_pt, df_genre_es], ignore_index=True)\n",
        "df_genre_en_pt_es"
      ],
      "metadata": {
        "colab": {
          "base_uri": "https://localhost:8080/",
          "height": 423
        },
        "id": "Nx2AQDLJradf",
        "outputId": "51792a5f-b4b5-4826-a1a9-b2229d54647e"
      },
      "execution_count": 20,
      "outputs": [
        {
          "output_type": "execute_result",
          "data": {
            "text/plain": [
              "                     id     genres lang\n",
              "0      0009fFIM1eYThaPg        pop   en\n",
              "1      00b6fV3nx5z2b8Ls        pop   en\n",
              "2      013QDoTqbexEwkHr        pop   en\n",
              "3      01EKNot8qVgZpKM7       rock   en\n",
              "4      01I5p010ajulr0O5        pop   en\n",
              "...                 ...        ...  ...\n",
              "10905  zZpef5PJiTG9eSUW  reggaeton   es\n",
              "10906  zayBcP8wuOWcxjLY      latin   es\n",
              "10907  zf6I9Rp77pkBkbZE        pop   es\n",
              "10908  zgUn3BX8GFAWZu9U      latin   es\n",
              "10909  zm2yRXhoimeoSGFq        pop   es\n",
              "\n",
              "[10910 rows x 3 columns]"
            ],
            "text/html": [
              "\n",
              "  <div id=\"df-4d57ce7f-9fde-45f5-8927-9d0e812fe76c\">\n",
              "    <div class=\"colab-df-container\">\n",
              "      <div>\n",
              "<style scoped>\n",
              "    .dataframe tbody tr th:only-of-type {\n",
              "        vertical-align: middle;\n",
              "    }\n",
              "\n",
              "    .dataframe tbody tr th {\n",
              "        vertical-align: top;\n",
              "    }\n",
              "\n",
              "    .dataframe thead th {\n",
              "        text-align: right;\n",
              "    }\n",
              "</style>\n",
              "<table border=\"1\" class=\"dataframe\">\n",
              "  <thead>\n",
              "    <tr style=\"text-align: right;\">\n",
              "      <th></th>\n",
              "      <th>id</th>\n",
              "      <th>genres</th>\n",
              "      <th>lang</th>\n",
              "    </tr>\n",
              "  </thead>\n",
              "  <tbody>\n",
              "    <tr>\n",
              "      <th>0</th>\n",
              "      <td>0009fFIM1eYThaPg</td>\n",
              "      <td>pop</td>\n",
              "      <td>en</td>\n",
              "    </tr>\n",
              "    <tr>\n",
              "      <th>1</th>\n",
              "      <td>00b6fV3nx5z2b8Ls</td>\n",
              "      <td>pop</td>\n",
              "      <td>en</td>\n",
              "    </tr>\n",
              "    <tr>\n",
              "      <th>2</th>\n",
              "      <td>013QDoTqbexEwkHr</td>\n",
              "      <td>pop</td>\n",
              "      <td>en</td>\n",
              "    </tr>\n",
              "    <tr>\n",
              "      <th>3</th>\n",
              "      <td>01EKNot8qVgZpKM7</td>\n",
              "      <td>rock</td>\n",
              "      <td>en</td>\n",
              "    </tr>\n",
              "    <tr>\n",
              "      <th>4</th>\n",
              "      <td>01I5p010ajulr0O5</td>\n",
              "      <td>pop</td>\n",
              "      <td>en</td>\n",
              "    </tr>\n",
              "    <tr>\n",
              "      <th>...</th>\n",
              "      <td>...</td>\n",
              "      <td>...</td>\n",
              "      <td>...</td>\n",
              "    </tr>\n",
              "    <tr>\n",
              "      <th>10905</th>\n",
              "      <td>zZpef5PJiTG9eSUW</td>\n",
              "      <td>reggaeton</td>\n",
              "      <td>es</td>\n",
              "    </tr>\n",
              "    <tr>\n",
              "      <th>10906</th>\n",
              "      <td>zayBcP8wuOWcxjLY</td>\n",
              "      <td>latin</td>\n",
              "      <td>es</td>\n",
              "    </tr>\n",
              "    <tr>\n",
              "      <th>10907</th>\n",
              "      <td>zf6I9Rp77pkBkbZE</td>\n",
              "      <td>pop</td>\n",
              "      <td>es</td>\n",
              "    </tr>\n",
              "    <tr>\n",
              "      <th>10908</th>\n",
              "      <td>zgUn3BX8GFAWZu9U</td>\n",
              "      <td>latin</td>\n",
              "      <td>es</td>\n",
              "    </tr>\n",
              "    <tr>\n",
              "      <th>10909</th>\n",
              "      <td>zm2yRXhoimeoSGFq</td>\n",
              "      <td>pop</td>\n",
              "      <td>es</td>\n",
              "    </tr>\n",
              "  </tbody>\n",
              "</table>\n",
              "<p>10910 rows × 3 columns</p>\n",
              "</div>\n",
              "      <button class=\"colab-df-convert\" onclick=\"convertToInteractive('df-4d57ce7f-9fde-45f5-8927-9d0e812fe76c')\"\n",
              "              title=\"Convert this dataframe to an interactive table.\"\n",
              "              style=\"display:none;\">\n",
              "        \n",
              "  <svg xmlns=\"http://www.w3.org/2000/svg\" height=\"24px\"viewBox=\"0 0 24 24\"\n",
              "       width=\"24px\">\n",
              "    <path d=\"M0 0h24v24H0V0z\" fill=\"none\"/>\n",
              "    <path d=\"M18.56 5.44l.94 2.06.94-2.06 2.06-.94-2.06-.94-.94-2.06-.94 2.06-2.06.94zm-11 1L8.5 8.5l.94-2.06 2.06-.94-2.06-.94L8.5 2.5l-.94 2.06-2.06.94zm10 10l.94 2.06.94-2.06 2.06-.94-2.06-.94-.94-2.06-.94 2.06-2.06.94z\"/><path d=\"M17.41 7.96l-1.37-1.37c-.4-.4-.92-.59-1.43-.59-.52 0-1.04.2-1.43.59L10.3 9.45l-7.72 7.72c-.78.78-.78 2.05 0 2.83L4 21.41c.39.39.9.59 1.41.59.51 0 1.02-.2 1.41-.59l7.78-7.78 2.81-2.81c.8-.78.8-2.07 0-2.86zM5.41 20L4 18.59l7.72-7.72 1.47 1.35L5.41 20z\"/>\n",
              "  </svg>\n",
              "      </button>\n",
              "      \n",
              "  <style>\n",
              "    .colab-df-container {\n",
              "      display:flex;\n",
              "      flex-wrap:wrap;\n",
              "      gap: 12px;\n",
              "    }\n",
              "\n",
              "    .colab-df-convert {\n",
              "      background-color: #E8F0FE;\n",
              "      border: none;\n",
              "      border-radius: 50%;\n",
              "      cursor: pointer;\n",
              "      display: none;\n",
              "      fill: #1967D2;\n",
              "      height: 32px;\n",
              "      padding: 0 0 0 0;\n",
              "      width: 32px;\n",
              "    }\n",
              "\n",
              "    .colab-df-convert:hover {\n",
              "      background-color: #E2EBFA;\n",
              "      box-shadow: 0px 1px 2px rgba(60, 64, 67, 0.3), 0px 1px 3px 1px rgba(60, 64, 67, 0.15);\n",
              "      fill: #174EA6;\n",
              "    }\n",
              "\n",
              "    [theme=dark] .colab-df-convert {\n",
              "      background-color: #3B4455;\n",
              "      fill: #D2E3FC;\n",
              "    }\n",
              "\n",
              "    [theme=dark] .colab-df-convert:hover {\n",
              "      background-color: #434B5C;\n",
              "      box-shadow: 0px 1px 3px 1px rgba(0, 0, 0, 0.15);\n",
              "      filter: drop-shadow(0px 1px 2px rgba(0, 0, 0, 0.3));\n",
              "      fill: #FFFFFF;\n",
              "    }\n",
              "  </style>\n",
              "\n",
              "      <script>\n",
              "        const buttonEl =\n",
              "          document.querySelector('#df-4d57ce7f-9fde-45f5-8927-9d0e812fe76c button.colab-df-convert');\n",
              "        buttonEl.style.display =\n",
              "          google.colab.kernel.accessAllowed ? 'block' : 'none';\n",
              "\n",
              "        async function convertToInteractive(key) {\n",
              "          const element = document.querySelector('#df-4d57ce7f-9fde-45f5-8927-9d0e812fe76c');\n",
              "          const dataTable =\n",
              "            await google.colab.kernel.invokeFunction('convertToInteractive',\n",
              "                                                     [key], {});\n",
              "          if (!dataTable) return;\n",
              "\n",
              "          const docLinkHtml = 'Like what you see? Visit the ' +\n",
              "            '<a target=\"_blank\" href=https://colab.research.google.com/notebooks/data_table.ipynb>data table notebook</a>'\n",
              "            + ' to learn more about interactive tables.';\n",
              "          element.innerHTML = '';\n",
              "          dataTable['output_type'] = 'display_data';\n",
              "          await google.colab.output.renderOutput(dataTable, element);\n",
              "          const docLink = document.createElement('div');\n",
              "          docLink.innerHTML = docLinkHtml;\n",
              "          element.appendChild(docLink);\n",
              "        }\n",
              "      </script>\n",
              "    </div>\n",
              "  </div>\n",
              "  "
            ]
          },
          "metadata": {},
          "execution_count": 20
        }
      ]
    },
    {
      "cell_type": "markdown",
      "metadata": {
        "id": "8JJvXhg8akUW"
      },
      "source": [
        "### Get lyrics document as dataframe and append to X_train, X_test"
      ]
    },
    {
      "cell_type": "code",
      "execution_count": 21,
      "metadata": {
        "colab": {
          "base_uri": "https://localhost:8080/",
          "height": 423
        },
        "id": "Jvg0HbHVpQ8w",
        "outputId": "eedccea6-0bd5-4ff1-ca19-0faa2921ef52"
      },
      "outputs": [
        {
          "output_type": "execute_result",
          "data": {
            "text/plain": [
              "                     id     genres lang lyric\n",
              "0      0009fFIM1eYThaPg        pop   en      \n",
              "1      00b6fV3nx5z2b8Ls        pop   en      \n",
              "2      013QDoTqbexEwkHr        pop   en      \n",
              "3      01EKNot8qVgZpKM7       rock   en      \n",
              "4      01I5p010ajulr0O5        pop   en      \n",
              "...                 ...        ...  ...   ...\n",
              "10905  zZpef5PJiTG9eSUW  reggaeton   es      \n",
              "10906  zayBcP8wuOWcxjLY      latin   es      \n",
              "10907  zf6I9Rp77pkBkbZE        pop   es      \n",
              "10908  zgUn3BX8GFAWZu9U      latin   es      \n",
              "10909  zm2yRXhoimeoSGFq        pop   es      \n",
              "\n",
              "[10910 rows x 4 columns]"
            ],
            "text/html": [
              "\n",
              "  <div id=\"df-647294da-d7a2-4bb9-981c-399e3044b208\">\n",
              "    <div class=\"colab-df-container\">\n",
              "      <div>\n",
              "<style scoped>\n",
              "    .dataframe tbody tr th:only-of-type {\n",
              "        vertical-align: middle;\n",
              "    }\n",
              "\n",
              "    .dataframe tbody tr th {\n",
              "        vertical-align: top;\n",
              "    }\n",
              "\n",
              "    .dataframe thead th {\n",
              "        text-align: right;\n",
              "    }\n",
              "</style>\n",
              "<table border=\"1\" class=\"dataframe\">\n",
              "  <thead>\n",
              "    <tr style=\"text-align: right;\">\n",
              "      <th></th>\n",
              "      <th>id</th>\n",
              "      <th>genres</th>\n",
              "      <th>lang</th>\n",
              "      <th>lyric</th>\n",
              "    </tr>\n",
              "  </thead>\n",
              "  <tbody>\n",
              "    <tr>\n",
              "      <th>0</th>\n",
              "      <td>0009fFIM1eYThaPg</td>\n",
              "      <td>pop</td>\n",
              "      <td>en</td>\n",
              "      <td></td>\n",
              "    </tr>\n",
              "    <tr>\n",
              "      <th>1</th>\n",
              "      <td>00b6fV3nx5z2b8Ls</td>\n",
              "      <td>pop</td>\n",
              "      <td>en</td>\n",
              "      <td></td>\n",
              "    </tr>\n",
              "    <tr>\n",
              "      <th>2</th>\n",
              "      <td>013QDoTqbexEwkHr</td>\n",
              "      <td>pop</td>\n",
              "      <td>en</td>\n",
              "      <td></td>\n",
              "    </tr>\n",
              "    <tr>\n",
              "      <th>3</th>\n",
              "      <td>01EKNot8qVgZpKM7</td>\n",
              "      <td>rock</td>\n",
              "      <td>en</td>\n",
              "      <td></td>\n",
              "    </tr>\n",
              "    <tr>\n",
              "      <th>4</th>\n",
              "      <td>01I5p010ajulr0O5</td>\n",
              "      <td>pop</td>\n",
              "      <td>en</td>\n",
              "      <td></td>\n",
              "    </tr>\n",
              "    <tr>\n",
              "      <th>...</th>\n",
              "      <td>...</td>\n",
              "      <td>...</td>\n",
              "      <td>...</td>\n",
              "      <td>...</td>\n",
              "    </tr>\n",
              "    <tr>\n",
              "      <th>10905</th>\n",
              "      <td>zZpef5PJiTG9eSUW</td>\n",
              "      <td>reggaeton</td>\n",
              "      <td>es</td>\n",
              "      <td></td>\n",
              "    </tr>\n",
              "    <tr>\n",
              "      <th>10906</th>\n",
              "      <td>zayBcP8wuOWcxjLY</td>\n",
              "      <td>latin</td>\n",
              "      <td>es</td>\n",
              "      <td></td>\n",
              "    </tr>\n",
              "    <tr>\n",
              "      <th>10907</th>\n",
              "      <td>zf6I9Rp77pkBkbZE</td>\n",
              "      <td>pop</td>\n",
              "      <td>es</td>\n",
              "      <td></td>\n",
              "    </tr>\n",
              "    <tr>\n",
              "      <th>10908</th>\n",
              "      <td>zgUn3BX8GFAWZu9U</td>\n",
              "      <td>latin</td>\n",
              "      <td>es</td>\n",
              "      <td></td>\n",
              "    </tr>\n",
              "    <tr>\n",
              "      <th>10909</th>\n",
              "      <td>zm2yRXhoimeoSGFq</td>\n",
              "      <td>pop</td>\n",
              "      <td>es</td>\n",
              "      <td></td>\n",
              "    </tr>\n",
              "  </tbody>\n",
              "</table>\n",
              "<p>10910 rows × 4 columns</p>\n",
              "</div>\n",
              "      <button class=\"colab-df-convert\" onclick=\"convertToInteractive('df-647294da-d7a2-4bb9-981c-399e3044b208')\"\n",
              "              title=\"Convert this dataframe to an interactive table.\"\n",
              "              style=\"display:none;\">\n",
              "        \n",
              "  <svg xmlns=\"http://www.w3.org/2000/svg\" height=\"24px\"viewBox=\"0 0 24 24\"\n",
              "       width=\"24px\">\n",
              "    <path d=\"M0 0h24v24H0V0z\" fill=\"none\"/>\n",
              "    <path d=\"M18.56 5.44l.94 2.06.94-2.06 2.06-.94-2.06-.94-.94-2.06-.94 2.06-2.06.94zm-11 1L8.5 8.5l.94-2.06 2.06-.94-2.06-.94L8.5 2.5l-.94 2.06-2.06.94zm10 10l.94 2.06.94-2.06 2.06-.94-2.06-.94-.94-2.06-.94 2.06-2.06.94z\"/><path d=\"M17.41 7.96l-1.37-1.37c-.4-.4-.92-.59-1.43-.59-.52 0-1.04.2-1.43.59L10.3 9.45l-7.72 7.72c-.78.78-.78 2.05 0 2.83L4 21.41c.39.39.9.59 1.41.59.51 0 1.02-.2 1.41-.59l7.78-7.78 2.81-2.81c.8-.78.8-2.07 0-2.86zM5.41 20L4 18.59l7.72-7.72 1.47 1.35L5.41 20z\"/>\n",
              "  </svg>\n",
              "      </button>\n",
              "      \n",
              "  <style>\n",
              "    .colab-df-container {\n",
              "      display:flex;\n",
              "      flex-wrap:wrap;\n",
              "      gap: 12px;\n",
              "    }\n",
              "\n",
              "    .colab-df-convert {\n",
              "      background-color: #E8F0FE;\n",
              "      border: none;\n",
              "      border-radius: 50%;\n",
              "      cursor: pointer;\n",
              "      display: none;\n",
              "      fill: #1967D2;\n",
              "      height: 32px;\n",
              "      padding: 0 0 0 0;\n",
              "      width: 32px;\n",
              "    }\n",
              "\n",
              "    .colab-df-convert:hover {\n",
              "      background-color: #E2EBFA;\n",
              "      box-shadow: 0px 1px 2px rgba(60, 64, 67, 0.3), 0px 1px 3px 1px rgba(60, 64, 67, 0.15);\n",
              "      fill: #174EA6;\n",
              "    }\n",
              "\n",
              "    [theme=dark] .colab-df-convert {\n",
              "      background-color: #3B4455;\n",
              "      fill: #D2E3FC;\n",
              "    }\n",
              "\n",
              "    [theme=dark] .colab-df-convert:hover {\n",
              "      background-color: #434B5C;\n",
              "      box-shadow: 0px 1px 3px 1px rgba(0, 0, 0, 0.15);\n",
              "      filter: drop-shadow(0px 1px 2px rgba(0, 0, 0, 0.3));\n",
              "      fill: #FFFFFF;\n",
              "    }\n",
              "  </style>\n",
              "\n",
              "      <script>\n",
              "        const buttonEl =\n",
              "          document.querySelector('#df-647294da-d7a2-4bb9-981c-399e3044b208 button.colab-df-convert');\n",
              "        buttonEl.style.display =\n",
              "          google.colab.kernel.accessAllowed ? 'block' : 'none';\n",
              "\n",
              "        async function convertToInteractive(key) {\n",
              "          const element = document.querySelector('#df-647294da-d7a2-4bb9-981c-399e3044b208');\n",
              "          const dataTable =\n",
              "            await google.colab.kernel.invokeFunction('convertToInteractive',\n",
              "                                                     [key], {});\n",
              "          if (!dataTable) return;\n",
              "\n",
              "          const docLinkHtml = 'Like what you see? Visit the ' +\n",
              "            '<a target=\"_blank\" href=https://colab.research.google.com/notebooks/data_table.ipynb>data table notebook</a>'\n",
              "            + ' to learn more about interactive tables.';\n",
              "          element.innerHTML = '';\n",
              "          dataTable['output_type'] = 'display_data';\n",
              "          await google.colab.output.renderOutput(dataTable, element);\n",
              "          const docLink = document.createElement('div');\n",
              "          docLink.innerHTML = docLinkHtml;\n",
              "          element.appendChild(docLink);\n",
              "        }\n",
              "      </script>\n",
              "    </div>\n",
              "  </div>\n",
              "  "
            ]
          },
          "metadata": {},
          "execution_count": 21
        }
      ],
      "source": [
        "#create lyric column\n",
        "df_genre_en_pt_es[\"lyric\"] = \"\"\n",
        "df_genre_en_pt_es"
      ]
    },
    {
      "cell_type": "code",
      "execution_count": 23,
      "metadata": {
        "colab": {
          "base_uri": "https://localhost:8080/"
        },
        "id": "KMGDkAFliFCB",
        "outputId": "37af5fb3-f40c-45fa-9d7c-5d2478c05285"
      },
      "outputs": [
        {
          "output_type": "stream",
          "name": "stdout",
          "text": [
            "Archive:  drive/MyDrive/music4all/lyrics.zip\n",
            "replace /content/lyrics/0009fFIM1eYThaPg.txt? [y]es, [n]o, [A]ll, [N]one, [r]ename: N\n",
            "N\n"
          ]
        }
      ],
      "source": [
        "#create temporary lyric folder on google collab\n",
        "# do not read texts from google drive. it is slow.\n",
        "ZIP_FILE =\"drive/MyDrive/music4all/lyrics.zip\"\n",
        "\n",
        "!unzip drive/MyDrive/music4all/lyrics.zip -d /content/"
      ]
    },
    {
      "cell_type": "code",
      "execution_count": 22,
      "metadata": {
        "id": "rmKX0LhSGuYm"
      },
      "outputs": [],
      "source": [
        "from nltk.stem.porter import PorterStemmer\n",
        "stemmer = PorterStemmer()"
      ]
    },
    {
      "cell_type": "code",
      "execution_count": 23,
      "metadata": {
        "id": "MILp_24Fe8Bd"
      },
      "outputs": [],
      "source": [
        "#First 5000\n",
        "LYRICS_FOLDER =\"lyrics/\"\n",
        "lyric_dict={}\n",
        "\n",
        "for idx, row in df_genre_en_pt_es.loc[0:5000].iterrows():\n",
        "  #print(row['id'])\n",
        "  filename=LYRICS_FOLDER+row['id']+\".txt\"\n",
        "  try:\n",
        "    with open(filename, 'r') as file:\n",
        "      lyric_document = file.read().replace('\\n', ' ')\n",
        "      lyric_document=[' '.join([stemmer.stem(word.lower()) for word in lyric_document.split(' ')]) ]\n",
        "\n",
        "      df_genre_en_pt_es.loc[df_genre_en_pt_es.id == row['id'], \"lyric\"] = lyric_document\n",
        "      #print(lyric_document)\n",
        "\n",
        "  except Exception as e:\n",
        "    print(e)\n"
      ]
    },
    {
      "cell_type": "code",
      "execution_count": 24,
      "metadata": {
        "id": "zwEhPaGVkTGg"
      },
      "outputs": [],
      "source": [
        "#index 5001 ~ 10,000\n",
        "LYRICS_FOLDER =\"lyrics/\"\n",
        "lyric_dict={}\n",
        "\n",
        "for idx, row in df_genre_en_pt_es.loc[5001:10000].iterrows():\n",
        "  #print(row['id'])\n",
        "  filename=LYRICS_FOLDER+row['id']+\".txt\"\n",
        "  try:\n",
        "    with open(filename, 'r') as file:\n",
        "      lyric_document = file.read().replace('\\n', ' ')\n",
        "      #Stemming and normalization\n",
        "      lyric_document=[' '.join([stemmer.stem(word.lower()) for word in lyric_document.split(' ')]) ]\n",
        "      #print(lyric_document)\n",
        "\n",
        "      df_genre_en_pt_es.loc[df_genre_en_pt_es.id == row['id'], \"lyric\"] = lyric_document\n",
        "      #print(lyric_document)\n",
        "\n",
        "  except Exception as e:\n",
        "    print(e)\n"
      ]
    },
    {
      "cell_type": "code",
      "execution_count": 25,
      "metadata": {
        "id": "pSFVGsGBklxx"
      },
      "outputs": [],
      "source": [
        "#index 10001 ~ 14696\n",
        "LYRICS_FOLDER =\"lyrics/\"\n",
        "lyric_dict={}\n",
        "\n",
        "for idx, row in df_genre_en_pt_es.loc[10001:df_genre_en_pt_es.shape[0]].iterrows():\n",
        "  #print(row['id'])\n",
        "  filename=LYRICS_FOLDER+row['id']+\".txt\"\n",
        "  try:\n",
        "    with open(filename, 'r') as file:\n",
        "      lyric_document = file.read().replace('\\n', ' ')\n",
        "      lyric_document=[' '.join([stemmer.stem(word.lower()) for word in lyric_document.split(' ')]) ]\n",
        "      \n",
        "      df_genre_en_pt_es.loc[df_genre_en_pt_es.id == row['id'], \"lyric\"] = lyric_document\n",
        "      #print(lyric_document)\n",
        "\n",
        "  except Exception as e:\n",
        "    print(e)\n"
      ]
    },
    {
      "cell_type": "code",
      "execution_count": 26,
      "metadata": {
        "colab": {
          "base_uri": "https://localhost:8080/",
          "height": 641
        },
        "id": "woYDxo6cyHMF",
        "outputId": "9d2051df-a75f-4342-c03a-2f51184c15b7"
      },
      "outputs": [
        {
          "output_type": "execute_result",
          "data": {
            "text/plain": [
              "                     id     genres lang  \\\n",
              "0      0009fFIM1eYThaPg        pop   en   \n",
              "1      00b6fV3nx5z2b8Ls        pop   en   \n",
              "2      013QDoTqbexEwkHr        pop   en   \n",
              "3      01EKNot8qVgZpKM7       rock   en   \n",
              "4      01I5p010ajulr0O5        pop   en   \n",
              "...                 ...        ...  ...   \n",
              "10905  zZpef5PJiTG9eSUW  reggaeton   es   \n",
              "10906  zayBcP8wuOWcxjLY      latin   es   \n",
              "10907  zf6I9Rp77pkBkbZE        pop   es   \n",
              "10908  zgUn3BX8GFAWZu9U      latin   es   \n",
              "10909  zm2yRXhoimeoSGFq        pop   es   \n",
              "\n",
              "                                                   lyric  \n",
              "0      it' a sunni day, so i got nowher to hide not a...  \n",
              "1      a buh-buh buh buh-buh a buh-buh buh buh-buh  y...  \n",
              "2      it' like a conversation, where no-on stop to b...  \n",
              "3      say the word i cannot say say them on anoth da...  \n",
              "4      i wa alon i wa made of stone you took me home ...  \n",
              "...                                                  ...  \n",
              "10905  for the world el duo dinamico w con yandel!  a...  \n",
              "10906  girl al salto, pura, papayo, mr. worldwide, da...  \n",
              "10907  sin ti no soy nada, una gota de lluvia mojando...  \n",
              "10908  papi no me llore lagrimita que me siento una c...  \n",
              "10909  en tu cuerpo inventaré otra cosa intento hacer...  \n",
              "\n",
              "[10910 rows x 4 columns]"
            ],
            "text/html": [
              "\n",
              "  <div id=\"df-e761f367-f587-4c04-94c4-577b0abfca4b\">\n",
              "    <div class=\"colab-df-container\">\n",
              "      <div>\n",
              "<style scoped>\n",
              "    .dataframe tbody tr th:only-of-type {\n",
              "        vertical-align: middle;\n",
              "    }\n",
              "\n",
              "    .dataframe tbody tr th {\n",
              "        vertical-align: top;\n",
              "    }\n",
              "\n",
              "    .dataframe thead th {\n",
              "        text-align: right;\n",
              "    }\n",
              "</style>\n",
              "<table border=\"1\" class=\"dataframe\">\n",
              "  <thead>\n",
              "    <tr style=\"text-align: right;\">\n",
              "      <th></th>\n",
              "      <th>id</th>\n",
              "      <th>genres</th>\n",
              "      <th>lang</th>\n",
              "      <th>lyric</th>\n",
              "    </tr>\n",
              "  </thead>\n",
              "  <tbody>\n",
              "    <tr>\n",
              "      <th>0</th>\n",
              "      <td>0009fFIM1eYThaPg</td>\n",
              "      <td>pop</td>\n",
              "      <td>en</td>\n",
              "      <td>it' a sunni day, so i got nowher to hide not a...</td>\n",
              "    </tr>\n",
              "    <tr>\n",
              "      <th>1</th>\n",
              "      <td>00b6fV3nx5z2b8Ls</td>\n",
              "      <td>pop</td>\n",
              "      <td>en</td>\n",
              "      <td>a buh-buh buh buh-buh a buh-buh buh buh-buh  y...</td>\n",
              "    </tr>\n",
              "    <tr>\n",
              "      <th>2</th>\n",
              "      <td>013QDoTqbexEwkHr</td>\n",
              "      <td>pop</td>\n",
              "      <td>en</td>\n",
              "      <td>it' like a conversation, where no-on stop to b...</td>\n",
              "    </tr>\n",
              "    <tr>\n",
              "      <th>3</th>\n",
              "      <td>01EKNot8qVgZpKM7</td>\n",
              "      <td>rock</td>\n",
              "      <td>en</td>\n",
              "      <td>say the word i cannot say say them on anoth da...</td>\n",
              "    </tr>\n",
              "    <tr>\n",
              "      <th>4</th>\n",
              "      <td>01I5p010ajulr0O5</td>\n",
              "      <td>pop</td>\n",
              "      <td>en</td>\n",
              "      <td>i wa alon i wa made of stone you took me home ...</td>\n",
              "    </tr>\n",
              "    <tr>\n",
              "      <th>...</th>\n",
              "      <td>...</td>\n",
              "      <td>...</td>\n",
              "      <td>...</td>\n",
              "      <td>...</td>\n",
              "    </tr>\n",
              "    <tr>\n",
              "      <th>10905</th>\n",
              "      <td>zZpef5PJiTG9eSUW</td>\n",
              "      <td>reggaeton</td>\n",
              "      <td>es</td>\n",
              "      <td>for the world el duo dinamico w con yandel!  a...</td>\n",
              "    </tr>\n",
              "    <tr>\n",
              "      <th>10906</th>\n",
              "      <td>zayBcP8wuOWcxjLY</td>\n",
              "      <td>latin</td>\n",
              "      <td>es</td>\n",
              "      <td>girl al salto, pura, papayo, mr. worldwide, da...</td>\n",
              "    </tr>\n",
              "    <tr>\n",
              "      <th>10907</th>\n",
              "      <td>zf6I9Rp77pkBkbZE</td>\n",
              "      <td>pop</td>\n",
              "      <td>es</td>\n",
              "      <td>sin ti no soy nada, una gota de lluvia mojando...</td>\n",
              "    </tr>\n",
              "    <tr>\n",
              "      <th>10908</th>\n",
              "      <td>zgUn3BX8GFAWZu9U</td>\n",
              "      <td>latin</td>\n",
              "      <td>es</td>\n",
              "      <td>papi no me llore lagrimita que me siento una c...</td>\n",
              "    </tr>\n",
              "    <tr>\n",
              "      <th>10909</th>\n",
              "      <td>zm2yRXhoimeoSGFq</td>\n",
              "      <td>pop</td>\n",
              "      <td>es</td>\n",
              "      <td>en tu cuerpo inventaré otra cosa intento hacer...</td>\n",
              "    </tr>\n",
              "  </tbody>\n",
              "</table>\n",
              "<p>10910 rows × 4 columns</p>\n",
              "</div>\n",
              "      <button class=\"colab-df-convert\" onclick=\"convertToInteractive('df-e761f367-f587-4c04-94c4-577b0abfca4b')\"\n",
              "              title=\"Convert this dataframe to an interactive table.\"\n",
              "              style=\"display:none;\">\n",
              "        \n",
              "  <svg xmlns=\"http://www.w3.org/2000/svg\" height=\"24px\"viewBox=\"0 0 24 24\"\n",
              "       width=\"24px\">\n",
              "    <path d=\"M0 0h24v24H0V0z\" fill=\"none\"/>\n",
              "    <path d=\"M18.56 5.44l.94 2.06.94-2.06 2.06-.94-2.06-.94-.94-2.06-.94 2.06-2.06.94zm-11 1L8.5 8.5l.94-2.06 2.06-.94-2.06-.94L8.5 2.5l-.94 2.06-2.06.94zm10 10l.94 2.06.94-2.06 2.06-.94-2.06-.94-.94-2.06-.94 2.06-2.06.94z\"/><path d=\"M17.41 7.96l-1.37-1.37c-.4-.4-.92-.59-1.43-.59-.52 0-1.04.2-1.43.59L10.3 9.45l-7.72 7.72c-.78.78-.78 2.05 0 2.83L4 21.41c.39.39.9.59 1.41.59.51 0 1.02-.2 1.41-.59l7.78-7.78 2.81-2.81c.8-.78.8-2.07 0-2.86zM5.41 20L4 18.59l7.72-7.72 1.47 1.35L5.41 20z\"/>\n",
              "  </svg>\n",
              "      </button>\n",
              "      \n",
              "  <style>\n",
              "    .colab-df-container {\n",
              "      display:flex;\n",
              "      flex-wrap:wrap;\n",
              "      gap: 12px;\n",
              "    }\n",
              "\n",
              "    .colab-df-convert {\n",
              "      background-color: #E8F0FE;\n",
              "      border: none;\n",
              "      border-radius: 50%;\n",
              "      cursor: pointer;\n",
              "      display: none;\n",
              "      fill: #1967D2;\n",
              "      height: 32px;\n",
              "      padding: 0 0 0 0;\n",
              "      width: 32px;\n",
              "    }\n",
              "\n",
              "    .colab-df-convert:hover {\n",
              "      background-color: #E2EBFA;\n",
              "      box-shadow: 0px 1px 2px rgba(60, 64, 67, 0.3), 0px 1px 3px 1px rgba(60, 64, 67, 0.15);\n",
              "      fill: #174EA6;\n",
              "    }\n",
              "\n",
              "    [theme=dark] .colab-df-convert {\n",
              "      background-color: #3B4455;\n",
              "      fill: #D2E3FC;\n",
              "    }\n",
              "\n",
              "    [theme=dark] .colab-df-convert:hover {\n",
              "      background-color: #434B5C;\n",
              "      box-shadow: 0px 1px 3px 1px rgba(0, 0, 0, 0.15);\n",
              "      filter: drop-shadow(0px 1px 2px rgba(0, 0, 0, 0.3));\n",
              "      fill: #FFFFFF;\n",
              "    }\n",
              "  </style>\n",
              "\n",
              "      <script>\n",
              "        const buttonEl =\n",
              "          document.querySelector('#df-e761f367-f587-4c04-94c4-577b0abfca4b button.colab-df-convert');\n",
              "        buttonEl.style.display =\n",
              "          google.colab.kernel.accessAllowed ? 'block' : 'none';\n",
              "\n",
              "        async function convertToInteractive(key) {\n",
              "          const element = document.querySelector('#df-e761f367-f587-4c04-94c4-577b0abfca4b');\n",
              "          const dataTable =\n",
              "            await google.colab.kernel.invokeFunction('convertToInteractive',\n",
              "                                                     [key], {});\n",
              "          if (!dataTable) return;\n",
              "\n",
              "          const docLinkHtml = 'Like what you see? Visit the ' +\n",
              "            '<a target=\"_blank\" href=https://colab.research.google.com/notebooks/data_table.ipynb>data table notebook</a>'\n",
              "            + ' to learn more about interactive tables.';\n",
              "          element.innerHTML = '';\n",
              "          dataTable['output_type'] = 'display_data';\n",
              "          await google.colab.output.renderOutput(dataTable, element);\n",
              "          const docLink = document.createElement('div');\n",
              "          docLink.innerHTML = docLinkHtml;\n",
              "          element.appendChild(docLink);\n",
              "        }\n",
              "      </script>\n",
              "    </div>\n",
              "  </div>\n",
              "  "
            ]
          },
          "metadata": {},
          "execution_count": 26
        }
      ],
      "source": [
        "df_genre_en_pt_es[0:14696]"
      ]
    },
    {
      "cell_type": "markdown",
      "source": [
        "Note: for En,Es,Pt dataframe, we will copy them after split is done, because we want to use same test set for clfs as well.\n"
      ],
      "metadata": {
        "id": "T6kciAntsjzm"
      }
    },
    {
      "cell_type": "markdown",
      "source": [
        "### KfoldSplit"
      ],
      "metadata": {
        "id": "Wv6S3zuqtJ_X"
      }
    },
    {
      "cell_type": "code",
      "source": [
        "def StratifiedKFold_feature_and_df(df, y_name):\n",
        "  skf = StratifiedKFold(n_splits=5)  # 20% for test set \n",
        "  # In the above code, I removed from random_state=1209 due to an error message\n",
        "  y = df[y_name]\n",
        "  skf.get_n_splits(df[['id', 'lyric', 'lang']], y)\n",
        "\n",
        "  splits = []\n",
        "\n",
        "  for train_index, test_index in skf.split(df[['id', 'lyric']], y):\n",
        "      print(\"TRAIN:\", train_index, \"TEST:\", test_index)\n",
        "      X_train, X_test = df[['id', 'lyric', 'lang']].loc[train_index], df[['id', 'lyric', 'lang']].loc[test_index]\n",
        "      y_train, y_test = y.loc[train_index], y.loc[test_index]\n",
        "      splits.append({'X_train': X_train, 'X_test': X_test, 'y_train':y_train, 'y_test':y_test })\n",
        "  return splits"
      ],
      "metadata": {
        "id": "Y9mKvPXvtL9g"
      },
      "execution_count": 27,
      "outputs": []
    },
    {
      "cell_type": "code",
      "source": [
        "splits = StratifiedKFold_feature_and_df( df_genre_en_pt_es, 'genres')"
      ],
      "metadata": {
        "colab": {
          "base_uri": "https://localhost:8080/"
        },
        "id": "oe1lgQZ6ti1r",
        "outputId": "6cbb7aab-2f3e-4a09-fea5-5d862667fdb4"
      },
      "execution_count": 28,
      "outputs": [
        {
          "output_type": "stream",
          "name": "stdout",
          "text": [
            "TRAIN: [ 1629  1663  1708 ... 10907 10908 10909] TEST: [    0     1     2 ... 10459 10463 10465]\n",
            "TRAIN: [    0     1     2 ... 10907 10908 10909] TEST: [ 1629  1663  1708 ... 10564 10567 10572]\n",
            "TRAIN: [    0     1     2 ... 10907 10908 10909] TEST: [ 3570  3573  3649 ... 10665 10666 10670]\n",
            "TRAIN: [    0     1     2 ... 10907 10908 10909] TEST: [ 5345  5368  5385 ... 10766 10788 10800]\n",
            "TRAIN: [    0     1     2 ... 10766 10788 10800] TEST: [ 7075  7101  7116 ... 10907 10908 10909]\n"
          ]
        }
      ]
    },
    {
      "cell_type": "code",
      "source": [
        "split0=splits[0]\n",
        "print(split0['X_train'].shape)\n",
        "print(split0['y_train'].shape)"
      ],
      "metadata": {
        "colab": {
          "base_uri": "https://localhost:8080/"
        },
        "id": "C0BkxLFXto0k",
        "outputId": "a7c5ec10-0366-4cd5-fe07-b88b603c1a0c"
      },
      "execution_count": 29,
      "outputs": [
        {
          "output_type": "stream",
          "name": "stdout",
          "text": [
            "(8728, 3)\n",
            "(8728,)\n"
          ]
        }
      ]
    },
    {
      "cell_type": "markdown",
      "source": [
        "### Step3 Create X_train_en/es/pt from X_train, repeat for y_train_en/es/pt"
      ],
      "metadata": {
        "id": "vBoh8TVgt2Ij"
      }
    },
    {
      "cell_type": "code",
      "source": [
        "split0['X_train'][\"lang\"]"
      ],
      "metadata": {
        "colab": {
          "base_uri": "https://localhost:8080/"
        },
        "id": "c9ovolWzuaRa",
        "outputId": "41e4218d-2d3d-44c7-b839-4a4cf1c60dfc"
      },
      "execution_count": 30,
      "outputs": [
        {
          "output_type": "execute_result",
          "data": {
            "text/plain": [
              "1629     en\n",
              "1663     en\n",
              "1708     en\n",
              "1714     en\n",
              "1741     en\n",
              "         ..\n",
              "10905    es\n",
              "10906    es\n",
              "10907    es\n",
              "10908    es\n",
              "10909    es\n",
              "Name: lang, Length: 8728, dtype: object"
            ]
          },
          "metadata": {},
          "execution_count": 30
        }
      ]
    },
    {
      "cell_type": "code",
      "source": [
        "X_train_en  = split0['X_train'][ split0['X_train'][\"lang\"] == \"en\" ]\n",
        "X_train_pt  = split0['X_train'][ split0['X_train'][\"lang\"] == \"pt\" ]\n",
        "X_train_es  = split0['X_train'][ split0['X_train'][\"lang\"] == \"es\" ]"
      ],
      "metadata": {
        "id": "8ib0ruu1uG2S"
      },
      "execution_count": 31,
      "outputs": []
    },
    {
      "cell_type": "code",
      "source": [
        "X_train_en.index"
      ],
      "metadata": {
        "colab": {
          "base_uri": "https://localhost:8080/"
        },
        "id": "_96G-nCFu-Ny",
        "outputId": "17fdf92d-8099-43db-9b2a-0745a8bb57f9"
      },
      "execution_count": 32,
      "outputs": [
        {
          "output_type": "execute_result",
          "data": {
            "text/plain": [
              "Int64Index([1629, 1663, 1708, 1714, 1741, 1749, 1754, 1786, 1802, 1808,\n",
              "            ...\n",
              "            8990, 8991, 8992, 8993, 8994, 8995, 8996, 8997, 8998, 8999],\n",
              "           dtype='int64', length=7056)"
            ]
          },
          "metadata": {},
          "execution_count": 32
        }
      ]
    },
    {
      "cell_type": "code",
      "source": [
        "y_train_en = split0['y_train'][split0['y_train'].index.isin( X_train_en.index) ]\n",
        "y_train_pt = split0['y_train'][split0['y_train'].index.isin( X_train_pt.index) ]\n",
        "y_train_es = split0['y_train'][split0['y_train'].index.isin( X_train_es.index) ]"
      ],
      "metadata": {
        "id": "APfWsVyIu1t7"
      },
      "execution_count": 33,
      "outputs": []
    },
    {
      "cell_type": "code",
      "source": [
        "X_test_en = split0['X_test'][split0['X_test'][\"lang\"] == \"en\"]\n",
        "X_test_pt = split0['X_test'][split0['X_test'][\"lang\"] == \"pt\"]\n",
        "X_test_es = split0['X_test'][split0['X_test'][\"lang\"] == \"es\"]"
      ],
      "metadata": {
        "id": "VbqMZMyPvWSY"
      },
      "execution_count": 34,
      "outputs": []
    },
    {
      "cell_type": "code",
      "source": [
        "y_test_en = split0['y_test'][split0['y_test'].index.isin( X_test_en.index) ]\n",
        "y_test_pt = split0['y_test'][split0['y_test'].index.isin( X_test_pt.index) ]\n",
        "y_test_es = split0['y_test'][split0['y_test'].index.isin( X_test_es.index) ]"
      ],
      "metadata": {
        "id": "XB20K80NkEp2"
      },
      "execution_count": 48,
      "outputs": []
    },
    {
      "cell_type": "code",
      "source": [
        "X_test_es"
      ],
      "metadata": {
        "colab": {
          "base_uri": "https://localhost:8080/",
          "height": 1000
        },
        "id": "Tw1fIGVkwQdz",
        "outputId": "9cfe2b76-da94-4d56-a56f-05f1aea60d10"
      },
      "execution_count": 35,
      "outputs": [
        {
          "output_type": "execute_result",
          "data": {
            "text/plain": [
              "                     id                                              lyric  \\\n",
              "10350  0DDGPJTcQaNL45dy  ere lo que má quiero en est mundo, eso ere mi ...   \n",
              "10351  0FbB6l6wAEh8Enoe  tien que bailarlo natur pued ir bailándolo hac...   \n",
              "10352  0JYtXY3CuqIzHvfy  si miro al cielo siempr encuentro consuelo por...   \n",
              "10353  0RKIUAOJaWQNCWyz  cada día es igual por mi pasillo nunca llego a...   \n",
              "10357  1AqpsTHvfqi7CWtW  sentí que ya te conocía y me entregu todo tu c...   \n",
              "10358  1J6y12wluBzEUtiJ  bonito, todo me parec bonito bonita mañana, bo...   \n",
              "10360  1Ro6zcwKhJC8ISwi  yo soy reykon el líder i-i-i-icon rudeboyz  pa...   \n",
              "10363  1dFFzY3N5N4wZetJ  kenedi  si necesita' reggaetón, dale sigu bail...   \n",
              "10364  1gI7efcSkZQAydia  hace día perdí en alguna cantina la mitad de m...   \n",
              "10366  1jkzzxdtdUcstunm  siempr será la niña que me llena el alma como ...   \n",
              "10368  27DjChTF9XSPUULG  ¡yo! es trebol clan en gargola fuera del pacto...   \n",
              "10369  2UQcnK1ws7ZjmD1L  ese beso de tu boca que me sabe a fruta fresca...   \n",
              "10370  2wRVd0g2zqH2o7sl  en casa dejemo lo antifac hora de quitars lo d...   \n",
              "10372  33VCiKEMvUwa0s9o  atrévete-te-t salt del closet destápate, quíta...   \n",
              "10373  3H7LGp3wZyxKqt0k  me mirast a lo ojo y crei que el amor se pasea...   \n",
              "10374  3bYtyJv2VLskoUCw  te marchast sin palabras, cerrando la puerta j...   \n",
              "10375  3lbjr66Xz7t5MygC  que, que, que daddi wesaili daddi yanke pal vi...   \n",
              "10376  3may0YLw8Oupk9hU  ayer me besast y no podía parar y me bailast h...   \n",
              "10377  4CEomkWLD7tPQ6zp  si ve que me he alejado de mí mismo y que no m...   \n",
              "10385  5EvaZxYmUAiIjfG8  sé que piensa marchart ya lo sé y no te detend...   \n",
              "10386  5NUPbSRwAxxpIWWH  cuando era chico quería ser como superman pero...   \n",
              "10389  5ebgptThrj1fcXp7  luni hey mucho le llaman bachateo yo le llamo ...   \n",
              "10392  5z6F7LStS5P7GPRJ  en la vida hay amor que nunca pueden olvidars ...   \n",
              "10393  66ReHjesmBDuAZ3K  bendito el lugar y el motivo de estar ahí bend...   \n",
              "10394  69QbPeCZgeBiMWmG  soledad la única que vien cuando todo se van l...   \n",
              "10395  6K938DkXkSyTPkY7  guaya guaya don omar  shorti me salió picúa.  ...   \n",
              "10396  6KXQxVZXHC2P3Q0b  choru vengo vengo vengo de caña vengo vengo ve...   \n",
              "10397  6OjLBcrAVFPFM94S  sé que aún me queda una oportunidad. sé que aú...   \n",
              "10399  6uCWuQcXs0IhwNlw  si no te importa lo que digo y si me ignora al...   \n",
              "10400  7CaH6K5B9f8Idf7m  atención a toda la unidad llamado de emergenci...   \n",
              "10401  7PrvLoutGMzQQxf8  recuerdo de esa noch cuando te fui a encontrar...   \n",
              "10403  7S8mRlShrFyo0mCp  voy buscándot a ti. tú no sabe como yo pienso ...   \n",
              "10404  7Tiaknw29VmCJGkx  estaba pensando en la noch que te vi la misma ...   \n",
              "10409  8CDAbK0QFrF9yibm  oh-uoh (duele, duele, duele)  he tratado de no...   \n",
              "10410  8Fyzrnnj7NnRrygq  quizá te pueda preguntar ¿qué le hace falta? ¿...   \n",
              "10412  8PFmzXuUMSumbKNw  tengo que reconoc que me sorprendió el amor me...   \n",
              "10415  8gqM37DvkwpEV8ie  para realizar mi sueño, qué haré... por dónde ...   \n",
              "10421  9PPpuEd0cYey65wk  yeh yeh yeh yeh yeh yeh yeh yeh ah ah, ah ah y...   \n",
              "10422  9QfPMmoxSapDFNyW  la noch huel a ausencia la casa esta muy fría ...   \n",
              "10424  9XqOponhvWM9N7lh  no me pregunt porqu porqu te miro así si tiemb...   \n",
              "10430  AOS7fKldQL5DIcN7  qué trist fue decirno adió cuando no adorábamo...   \n",
              "10437  B9SefUj9Pkx37zQG  si tu me dice que por la noch no pasan la hora...   \n",
              "10441  CIFZmQkOQQ4Y40YI  tú me decía que nada te haría cambiar y yo te ...   \n",
              "10442  CLtPEcep00zlBPgY  pued que haya nacido en la cara buena del mund...   \n",
              "10446  CuKpZFzEnaoBD1g7  alo, me presento, soy karmacereza algo tengo r...   \n",
              "10448  D7Gxyx6FOfaJKj0X  ¡ingrata! no me diga que me quier no me diga q...   \n",
              "10450  DJM8Xxt0jwi1qHrD  no comprendo en que momento me deje engañar  h...   \n",
              "10453  Dvtcls2EvP6d34es  yo tengo tanto hermano que no lo puedo contar ...   \n",
              "10458  EONmUMNPm3ko4sLt  siento algo que me muev un ritmo que me hace b...   \n",
              "10459  EWZPkeEWLgfkccjN  selena: bueno? hombre: soy yo mi amor, ant que...   \n",
              "10463  EtwYKOg3IioqbVXb  y juro que es vert la cara y mi alma se encien...   \n",
              "10465  F1eKgpddISHcqlfz  temblando con lo ojo cerrado el cielo está nub...   \n",
              "\n",
              "      lang  \n",
              "10350   es  \n",
              "10351   es  \n",
              "10352   es  \n",
              "10353   es  \n",
              "10357   es  \n",
              "10358   es  \n",
              "10360   es  \n",
              "10363   es  \n",
              "10364   es  \n",
              "10366   es  \n",
              "10368   es  \n",
              "10369   es  \n",
              "10370   es  \n",
              "10372   es  \n",
              "10373   es  \n",
              "10374   es  \n",
              "10375   es  \n",
              "10376   es  \n",
              "10377   es  \n",
              "10385   es  \n",
              "10386   es  \n",
              "10389   es  \n",
              "10392   es  \n",
              "10393   es  \n",
              "10394   es  \n",
              "10395   es  \n",
              "10396   es  \n",
              "10397   es  \n",
              "10399   es  \n",
              "10400   es  \n",
              "10401   es  \n",
              "10403   es  \n",
              "10404   es  \n",
              "10409   es  \n",
              "10410   es  \n",
              "10412   es  \n",
              "10415   es  \n",
              "10421   es  \n",
              "10422   es  \n",
              "10424   es  \n",
              "10430   es  \n",
              "10437   es  \n",
              "10441   es  \n",
              "10442   es  \n",
              "10446   es  \n",
              "10448   es  \n",
              "10450   es  \n",
              "10453   es  \n",
              "10458   es  \n",
              "10459   es  \n",
              "10463   es  \n",
              "10465   es  "
            ],
            "text/html": [
              "\n",
              "  <div id=\"df-a26b9f31-493d-4174-8946-8f92e3b6e7c7\">\n",
              "    <div class=\"colab-df-container\">\n",
              "      <div>\n",
              "<style scoped>\n",
              "    .dataframe tbody tr th:only-of-type {\n",
              "        vertical-align: middle;\n",
              "    }\n",
              "\n",
              "    .dataframe tbody tr th {\n",
              "        vertical-align: top;\n",
              "    }\n",
              "\n",
              "    .dataframe thead th {\n",
              "        text-align: right;\n",
              "    }\n",
              "</style>\n",
              "<table border=\"1\" class=\"dataframe\">\n",
              "  <thead>\n",
              "    <tr style=\"text-align: right;\">\n",
              "      <th></th>\n",
              "      <th>id</th>\n",
              "      <th>lyric</th>\n",
              "      <th>lang</th>\n",
              "    </tr>\n",
              "  </thead>\n",
              "  <tbody>\n",
              "    <tr>\n",
              "      <th>10350</th>\n",
              "      <td>0DDGPJTcQaNL45dy</td>\n",
              "      <td>ere lo que má quiero en est mundo, eso ere mi ...</td>\n",
              "      <td>es</td>\n",
              "    </tr>\n",
              "    <tr>\n",
              "      <th>10351</th>\n",
              "      <td>0FbB6l6wAEh8Enoe</td>\n",
              "      <td>tien que bailarlo natur pued ir bailándolo hac...</td>\n",
              "      <td>es</td>\n",
              "    </tr>\n",
              "    <tr>\n",
              "      <th>10352</th>\n",
              "      <td>0JYtXY3CuqIzHvfy</td>\n",
              "      <td>si miro al cielo siempr encuentro consuelo por...</td>\n",
              "      <td>es</td>\n",
              "    </tr>\n",
              "    <tr>\n",
              "      <th>10353</th>\n",
              "      <td>0RKIUAOJaWQNCWyz</td>\n",
              "      <td>cada día es igual por mi pasillo nunca llego a...</td>\n",
              "      <td>es</td>\n",
              "    </tr>\n",
              "    <tr>\n",
              "      <th>10357</th>\n",
              "      <td>1AqpsTHvfqi7CWtW</td>\n",
              "      <td>sentí que ya te conocía y me entregu todo tu c...</td>\n",
              "      <td>es</td>\n",
              "    </tr>\n",
              "    <tr>\n",
              "      <th>10358</th>\n",
              "      <td>1J6y12wluBzEUtiJ</td>\n",
              "      <td>bonito, todo me parec bonito bonita mañana, bo...</td>\n",
              "      <td>es</td>\n",
              "    </tr>\n",
              "    <tr>\n",
              "      <th>10360</th>\n",
              "      <td>1Ro6zcwKhJC8ISwi</td>\n",
              "      <td>yo soy reykon el líder i-i-i-icon rudeboyz  pa...</td>\n",
              "      <td>es</td>\n",
              "    </tr>\n",
              "    <tr>\n",
              "      <th>10363</th>\n",
              "      <td>1dFFzY3N5N4wZetJ</td>\n",
              "      <td>kenedi  si necesita' reggaetón, dale sigu bail...</td>\n",
              "      <td>es</td>\n",
              "    </tr>\n",
              "    <tr>\n",
              "      <th>10364</th>\n",
              "      <td>1gI7efcSkZQAydia</td>\n",
              "      <td>hace día perdí en alguna cantina la mitad de m...</td>\n",
              "      <td>es</td>\n",
              "    </tr>\n",
              "    <tr>\n",
              "      <th>10366</th>\n",
              "      <td>1jkzzxdtdUcstunm</td>\n",
              "      <td>siempr será la niña que me llena el alma como ...</td>\n",
              "      <td>es</td>\n",
              "    </tr>\n",
              "    <tr>\n",
              "      <th>10368</th>\n",
              "      <td>27DjChTF9XSPUULG</td>\n",
              "      <td>¡yo! es trebol clan en gargola fuera del pacto...</td>\n",
              "      <td>es</td>\n",
              "    </tr>\n",
              "    <tr>\n",
              "      <th>10369</th>\n",
              "      <td>2UQcnK1ws7ZjmD1L</td>\n",
              "      <td>ese beso de tu boca que me sabe a fruta fresca...</td>\n",
              "      <td>es</td>\n",
              "    </tr>\n",
              "    <tr>\n",
              "      <th>10370</th>\n",
              "      <td>2wRVd0g2zqH2o7sl</td>\n",
              "      <td>en casa dejemo lo antifac hora de quitars lo d...</td>\n",
              "      <td>es</td>\n",
              "    </tr>\n",
              "    <tr>\n",
              "      <th>10372</th>\n",
              "      <td>33VCiKEMvUwa0s9o</td>\n",
              "      <td>atrévete-te-t salt del closet destápate, quíta...</td>\n",
              "      <td>es</td>\n",
              "    </tr>\n",
              "    <tr>\n",
              "      <th>10373</th>\n",
              "      <td>3H7LGp3wZyxKqt0k</td>\n",
              "      <td>me mirast a lo ojo y crei que el amor se pasea...</td>\n",
              "      <td>es</td>\n",
              "    </tr>\n",
              "    <tr>\n",
              "      <th>10374</th>\n",
              "      <td>3bYtyJv2VLskoUCw</td>\n",
              "      <td>te marchast sin palabras, cerrando la puerta j...</td>\n",
              "      <td>es</td>\n",
              "    </tr>\n",
              "    <tr>\n",
              "      <th>10375</th>\n",
              "      <td>3lbjr66Xz7t5MygC</td>\n",
              "      <td>que, que, que daddi wesaili daddi yanke pal vi...</td>\n",
              "      <td>es</td>\n",
              "    </tr>\n",
              "    <tr>\n",
              "      <th>10376</th>\n",
              "      <td>3may0YLw8Oupk9hU</td>\n",
              "      <td>ayer me besast y no podía parar y me bailast h...</td>\n",
              "      <td>es</td>\n",
              "    </tr>\n",
              "    <tr>\n",
              "      <th>10377</th>\n",
              "      <td>4CEomkWLD7tPQ6zp</td>\n",
              "      <td>si ve que me he alejado de mí mismo y que no m...</td>\n",
              "      <td>es</td>\n",
              "    </tr>\n",
              "    <tr>\n",
              "      <th>10385</th>\n",
              "      <td>5EvaZxYmUAiIjfG8</td>\n",
              "      <td>sé que piensa marchart ya lo sé y no te detend...</td>\n",
              "      <td>es</td>\n",
              "    </tr>\n",
              "    <tr>\n",
              "      <th>10386</th>\n",
              "      <td>5NUPbSRwAxxpIWWH</td>\n",
              "      <td>cuando era chico quería ser como superman pero...</td>\n",
              "      <td>es</td>\n",
              "    </tr>\n",
              "    <tr>\n",
              "      <th>10389</th>\n",
              "      <td>5ebgptThrj1fcXp7</td>\n",
              "      <td>luni hey mucho le llaman bachateo yo le llamo ...</td>\n",
              "      <td>es</td>\n",
              "    </tr>\n",
              "    <tr>\n",
              "      <th>10392</th>\n",
              "      <td>5z6F7LStS5P7GPRJ</td>\n",
              "      <td>en la vida hay amor que nunca pueden olvidars ...</td>\n",
              "      <td>es</td>\n",
              "    </tr>\n",
              "    <tr>\n",
              "      <th>10393</th>\n",
              "      <td>66ReHjesmBDuAZ3K</td>\n",
              "      <td>bendito el lugar y el motivo de estar ahí bend...</td>\n",
              "      <td>es</td>\n",
              "    </tr>\n",
              "    <tr>\n",
              "      <th>10394</th>\n",
              "      <td>69QbPeCZgeBiMWmG</td>\n",
              "      <td>soledad la única que vien cuando todo se van l...</td>\n",
              "      <td>es</td>\n",
              "    </tr>\n",
              "    <tr>\n",
              "      <th>10395</th>\n",
              "      <td>6K938DkXkSyTPkY7</td>\n",
              "      <td>guaya guaya don omar  shorti me salió picúa.  ...</td>\n",
              "      <td>es</td>\n",
              "    </tr>\n",
              "    <tr>\n",
              "      <th>10396</th>\n",
              "      <td>6KXQxVZXHC2P3Q0b</td>\n",
              "      <td>choru vengo vengo vengo de caña vengo vengo ve...</td>\n",
              "      <td>es</td>\n",
              "    </tr>\n",
              "    <tr>\n",
              "      <th>10397</th>\n",
              "      <td>6OjLBcrAVFPFM94S</td>\n",
              "      <td>sé que aún me queda una oportunidad. sé que aú...</td>\n",
              "      <td>es</td>\n",
              "    </tr>\n",
              "    <tr>\n",
              "      <th>10399</th>\n",
              "      <td>6uCWuQcXs0IhwNlw</td>\n",
              "      <td>si no te importa lo que digo y si me ignora al...</td>\n",
              "      <td>es</td>\n",
              "    </tr>\n",
              "    <tr>\n",
              "      <th>10400</th>\n",
              "      <td>7CaH6K5B9f8Idf7m</td>\n",
              "      <td>atención a toda la unidad llamado de emergenci...</td>\n",
              "      <td>es</td>\n",
              "    </tr>\n",
              "    <tr>\n",
              "      <th>10401</th>\n",
              "      <td>7PrvLoutGMzQQxf8</td>\n",
              "      <td>recuerdo de esa noch cuando te fui a encontrar...</td>\n",
              "      <td>es</td>\n",
              "    </tr>\n",
              "    <tr>\n",
              "      <th>10403</th>\n",
              "      <td>7S8mRlShrFyo0mCp</td>\n",
              "      <td>voy buscándot a ti. tú no sabe como yo pienso ...</td>\n",
              "      <td>es</td>\n",
              "    </tr>\n",
              "    <tr>\n",
              "      <th>10404</th>\n",
              "      <td>7Tiaknw29VmCJGkx</td>\n",
              "      <td>estaba pensando en la noch que te vi la misma ...</td>\n",
              "      <td>es</td>\n",
              "    </tr>\n",
              "    <tr>\n",
              "      <th>10409</th>\n",
              "      <td>8CDAbK0QFrF9yibm</td>\n",
              "      <td>oh-uoh (duele, duele, duele)  he tratado de no...</td>\n",
              "      <td>es</td>\n",
              "    </tr>\n",
              "    <tr>\n",
              "      <th>10410</th>\n",
              "      <td>8Fyzrnnj7NnRrygq</td>\n",
              "      <td>quizá te pueda preguntar ¿qué le hace falta? ¿...</td>\n",
              "      <td>es</td>\n",
              "    </tr>\n",
              "    <tr>\n",
              "      <th>10412</th>\n",
              "      <td>8PFmzXuUMSumbKNw</td>\n",
              "      <td>tengo que reconoc que me sorprendió el amor me...</td>\n",
              "      <td>es</td>\n",
              "    </tr>\n",
              "    <tr>\n",
              "      <th>10415</th>\n",
              "      <td>8gqM37DvkwpEV8ie</td>\n",
              "      <td>para realizar mi sueño, qué haré... por dónde ...</td>\n",
              "      <td>es</td>\n",
              "    </tr>\n",
              "    <tr>\n",
              "      <th>10421</th>\n",
              "      <td>9PPpuEd0cYey65wk</td>\n",
              "      <td>yeh yeh yeh yeh yeh yeh yeh yeh ah ah, ah ah y...</td>\n",
              "      <td>es</td>\n",
              "    </tr>\n",
              "    <tr>\n",
              "      <th>10422</th>\n",
              "      <td>9QfPMmoxSapDFNyW</td>\n",
              "      <td>la noch huel a ausencia la casa esta muy fría ...</td>\n",
              "      <td>es</td>\n",
              "    </tr>\n",
              "    <tr>\n",
              "      <th>10424</th>\n",
              "      <td>9XqOponhvWM9N7lh</td>\n",
              "      <td>no me pregunt porqu porqu te miro así si tiemb...</td>\n",
              "      <td>es</td>\n",
              "    </tr>\n",
              "    <tr>\n",
              "      <th>10430</th>\n",
              "      <td>AOS7fKldQL5DIcN7</td>\n",
              "      <td>qué trist fue decirno adió cuando no adorábamo...</td>\n",
              "      <td>es</td>\n",
              "    </tr>\n",
              "    <tr>\n",
              "      <th>10437</th>\n",
              "      <td>B9SefUj9Pkx37zQG</td>\n",
              "      <td>si tu me dice que por la noch no pasan la hora...</td>\n",
              "      <td>es</td>\n",
              "    </tr>\n",
              "    <tr>\n",
              "      <th>10441</th>\n",
              "      <td>CIFZmQkOQQ4Y40YI</td>\n",
              "      <td>tú me decía que nada te haría cambiar y yo te ...</td>\n",
              "      <td>es</td>\n",
              "    </tr>\n",
              "    <tr>\n",
              "      <th>10442</th>\n",
              "      <td>CLtPEcep00zlBPgY</td>\n",
              "      <td>pued que haya nacido en la cara buena del mund...</td>\n",
              "      <td>es</td>\n",
              "    </tr>\n",
              "    <tr>\n",
              "      <th>10446</th>\n",
              "      <td>CuKpZFzEnaoBD1g7</td>\n",
              "      <td>alo, me presento, soy karmacereza algo tengo r...</td>\n",
              "      <td>es</td>\n",
              "    </tr>\n",
              "    <tr>\n",
              "      <th>10448</th>\n",
              "      <td>D7Gxyx6FOfaJKj0X</td>\n",
              "      <td>¡ingrata! no me diga que me quier no me diga q...</td>\n",
              "      <td>es</td>\n",
              "    </tr>\n",
              "    <tr>\n",
              "      <th>10450</th>\n",
              "      <td>DJM8Xxt0jwi1qHrD</td>\n",
              "      <td>no comprendo en que momento me deje engañar  h...</td>\n",
              "      <td>es</td>\n",
              "    </tr>\n",
              "    <tr>\n",
              "      <th>10453</th>\n",
              "      <td>Dvtcls2EvP6d34es</td>\n",
              "      <td>yo tengo tanto hermano que no lo puedo contar ...</td>\n",
              "      <td>es</td>\n",
              "    </tr>\n",
              "    <tr>\n",
              "      <th>10458</th>\n",
              "      <td>EONmUMNPm3ko4sLt</td>\n",
              "      <td>siento algo que me muev un ritmo que me hace b...</td>\n",
              "      <td>es</td>\n",
              "    </tr>\n",
              "    <tr>\n",
              "      <th>10459</th>\n",
              "      <td>EWZPkeEWLgfkccjN</td>\n",
              "      <td>selena: bueno? hombre: soy yo mi amor, ant que...</td>\n",
              "      <td>es</td>\n",
              "    </tr>\n",
              "    <tr>\n",
              "      <th>10463</th>\n",
              "      <td>EtwYKOg3IioqbVXb</td>\n",
              "      <td>y juro que es vert la cara y mi alma se encien...</td>\n",
              "      <td>es</td>\n",
              "    </tr>\n",
              "    <tr>\n",
              "      <th>10465</th>\n",
              "      <td>F1eKgpddISHcqlfz</td>\n",
              "      <td>temblando con lo ojo cerrado el cielo está nub...</td>\n",
              "      <td>es</td>\n",
              "    </tr>\n",
              "  </tbody>\n",
              "</table>\n",
              "</div>\n",
              "      <button class=\"colab-df-convert\" onclick=\"convertToInteractive('df-a26b9f31-493d-4174-8946-8f92e3b6e7c7')\"\n",
              "              title=\"Convert this dataframe to an interactive table.\"\n",
              "              style=\"display:none;\">\n",
              "        \n",
              "  <svg xmlns=\"http://www.w3.org/2000/svg\" height=\"24px\"viewBox=\"0 0 24 24\"\n",
              "       width=\"24px\">\n",
              "    <path d=\"M0 0h24v24H0V0z\" fill=\"none\"/>\n",
              "    <path d=\"M18.56 5.44l.94 2.06.94-2.06 2.06-.94-2.06-.94-.94-2.06-.94 2.06-2.06.94zm-11 1L8.5 8.5l.94-2.06 2.06-.94-2.06-.94L8.5 2.5l-.94 2.06-2.06.94zm10 10l.94 2.06.94-2.06 2.06-.94-2.06-.94-.94-2.06-.94 2.06-2.06.94z\"/><path d=\"M17.41 7.96l-1.37-1.37c-.4-.4-.92-.59-1.43-.59-.52 0-1.04.2-1.43.59L10.3 9.45l-7.72 7.72c-.78.78-.78 2.05 0 2.83L4 21.41c.39.39.9.59 1.41.59.51 0 1.02-.2 1.41-.59l7.78-7.78 2.81-2.81c.8-.78.8-2.07 0-2.86zM5.41 20L4 18.59l7.72-7.72 1.47 1.35L5.41 20z\"/>\n",
              "  </svg>\n",
              "      </button>\n",
              "      \n",
              "  <style>\n",
              "    .colab-df-container {\n",
              "      display:flex;\n",
              "      flex-wrap:wrap;\n",
              "      gap: 12px;\n",
              "    }\n",
              "\n",
              "    .colab-df-convert {\n",
              "      background-color: #E8F0FE;\n",
              "      border: none;\n",
              "      border-radius: 50%;\n",
              "      cursor: pointer;\n",
              "      display: none;\n",
              "      fill: #1967D2;\n",
              "      height: 32px;\n",
              "      padding: 0 0 0 0;\n",
              "      width: 32px;\n",
              "    }\n",
              "\n",
              "    .colab-df-convert:hover {\n",
              "      background-color: #E2EBFA;\n",
              "      box-shadow: 0px 1px 2px rgba(60, 64, 67, 0.3), 0px 1px 3px 1px rgba(60, 64, 67, 0.15);\n",
              "      fill: #174EA6;\n",
              "    }\n",
              "\n",
              "    [theme=dark] .colab-df-convert {\n",
              "      background-color: #3B4455;\n",
              "      fill: #D2E3FC;\n",
              "    }\n",
              "\n",
              "    [theme=dark] .colab-df-convert:hover {\n",
              "      background-color: #434B5C;\n",
              "      box-shadow: 0px 1px 3px 1px rgba(0, 0, 0, 0.15);\n",
              "      filter: drop-shadow(0px 1px 2px rgba(0, 0, 0, 0.3));\n",
              "      fill: #FFFFFF;\n",
              "    }\n",
              "  </style>\n",
              "\n",
              "      <script>\n",
              "        const buttonEl =\n",
              "          document.querySelector('#df-a26b9f31-493d-4174-8946-8f92e3b6e7c7 button.colab-df-convert');\n",
              "        buttonEl.style.display =\n",
              "          google.colab.kernel.accessAllowed ? 'block' : 'none';\n",
              "\n",
              "        async function convertToInteractive(key) {\n",
              "          const element = document.querySelector('#df-a26b9f31-493d-4174-8946-8f92e3b6e7c7');\n",
              "          const dataTable =\n",
              "            await google.colab.kernel.invokeFunction('convertToInteractive',\n",
              "                                                     [key], {});\n",
              "          if (!dataTable) return;\n",
              "\n",
              "          const docLinkHtml = 'Like what you see? Visit the ' +\n",
              "            '<a target=\"_blank\" href=https://colab.research.google.com/notebooks/data_table.ipynb>data table notebook</a>'\n",
              "            + ' to learn more about interactive tables.';\n",
              "          element.innerHTML = '';\n",
              "          dataTable['output_type'] = 'display_data';\n",
              "          await google.colab.output.renderOutput(dataTable, element);\n",
              "          const docLink = document.createElement('div');\n",
              "          docLink.innerHTML = docLinkHtml;\n",
              "          element.appendChild(docLink);\n",
              "        }\n",
              "      </script>\n",
              "    </div>\n",
              "  </div>\n",
              "  "
            ]
          },
          "metadata": {},
          "execution_count": 35
        }
      ]
    },
    {
      "cell_type": "code",
      "source": [
        "y_test_en"
      ],
      "metadata": {
        "colab": {
          "base_uri": "https://localhost:8080/"
        },
        "id": "1Bt0S5zWk3ow",
        "outputId": "754670f8-663c-4939-81c9-22713827b994"
      },
      "execution_count": 49,
      "outputs": [
        {
          "output_type": "execute_result",
          "data": {
            "text/plain": [
              "0        pop\n",
              "1        pop\n",
              "2        pop\n",
              "3       rock\n",
              "4        pop\n",
              "        ... \n",
              "2078    rock\n",
              "2081    rock\n",
              "2090    rock\n",
              "2093    rock\n",
              "2099    rock\n",
              "Name: genres, Length: 1944, dtype: object"
            ]
          },
          "metadata": {},
          "execution_count": 49
        }
      ]
    },
    {
      "cell_type": "markdown",
      "source": [
        "### Step4: fit and transform, predict for clf1"
      ],
      "metadata": {
        "id": "nBINTFlRuC4l"
      }
    },
    {
      "cell_type": "code",
      "source": [
        "from sklearn.metrics import accuracy_score,hamming_loss,classification_report\n",
        "from sklearn.feature_extraction.text import TfidfVectorizer\n",
        "\n",
        "tfidf_vectorizer = TfidfVectorizer(analyzer=\"word\", stop_words='english')\n",
        "\n",
        "X_train_tfidf = tfidf_vectorizer.fit_transform(split0['X_train']['lyric']).toarray()\n",
        "X_train_tfidf"
      ],
      "metadata": {
        "colab": {
          "base_uri": "https://localhost:8080/"
        },
        "id": "qoPEo_ezuApi",
        "outputId": "c310a547-1a30-442c-b03e-66428e1de150"
      },
      "execution_count": 36,
      "outputs": [
        {
          "output_type": "execute_result",
          "data": {
            "text/plain": [
              "array([[0., 0., 0., ..., 0., 0., 0.],\n",
              "       [0., 0., 0., ..., 0., 0., 0.],\n",
              "       [0., 0., 0., ..., 0., 0., 0.],\n",
              "       ...,\n",
              "       [0., 0., 0., ..., 0., 0., 0.],\n",
              "       [0., 0., 0., ..., 0., 0., 0.],\n",
              "       [0., 0., 0., ..., 0., 0., 0.]])"
            ]
          },
          "metadata": {},
          "execution_count": 36
        }
      ]
    },
    {
      "cell_type": "code",
      "source": [
        "from imblearn.over_sampling import SMOTE\n",
        "X_resampled, y_resampled = SMOTE().fit_resample(X_train_tfidf, split0['y_train']) \n",
        "print(sorted(Counter(y_resampled).items()))"
      ],
      "metadata": {
        "colab": {
          "base_uri": "https://localhost:8080/"
        },
        "id": "nGvg-QJ8wwcD",
        "outputId": "d1c5ff2d-1cf2-4788-bb73-fcb6aed3c685"
      },
      "execution_count": 37,
      "outputs": [
        {
          "output_type": "stream",
          "name": "stdout",
          "text": [
            "[('alternative rock', 4504), ('bossa nova', 4504), ('electronic', 4504), ('indie rock', 4504), ('latin', 4504), ('latin pop', 4504), ('mpb', 4504), ('pop', 4504), ('reggaeton', 4504), ('rock', 4504), ('samba', 4504)]\n"
          ]
        }
      ]
    },
    {
      "cell_type": "code",
      "source": [
        "from sklearn.naive_bayes import MultinomialNB\n",
        "import numpy as np\n",
        "from sklearn import metrics\n",
        "#Step4: Create MultinomialNB classifier and fit()\n",
        "#Use X_resampled, y_resampled\n",
        "clf_mnb = MultinomialNB().fit(X_resampled, y_resampled)"
      ],
      "metadata": {
        "id": "cqaKrR_sw52n"
      },
      "execution_count": 38,
      "outputs": []
    },
    {
      "cell_type": "code",
      "source": [
        "X_test_tfidf = tfidf_vectorizer.transform(split0['X_test']['lyric']).toarray()"
      ],
      "metadata": {
        "id": "WoeKqjGew_Ya"
      },
      "execution_count": 39,
      "outputs": []
    },
    {
      "cell_type": "code",
      "source": [
        "print(\"Train/Test Vector Size : \", X_resampled.shape, X_test_tfidf.shape)"
      ],
      "metadata": {
        "colab": {
          "base_uri": "https://localhost:8080/"
        },
        "id": "kB-8bmbnxEgI",
        "outputId": "a34acaad-0e6f-4e0e-e8ab-e2f4f1144c53"
      },
      "execution_count": 40,
      "outputs": [
        {
          "output_type": "stream",
          "name": "stdout",
          "text": [
            "Train/Test Vector Size :  (49544, 35842) (2182, 35842)\n"
          ]
        }
      ]
    },
    {
      "cell_type": "code",
      "source": [
        "predicted_mnb_SMOTE = clf_mnb.predict(X_test_tfidf)\n",
        "print(metrics.classification_report(split0['y_test'], predicted_mnb_SMOTE) )"
      ],
      "metadata": {
        "colab": {
          "base_uri": "https://localhost:8080/"
        },
        "id": "sJzGTzevxGOU",
        "outputId": "274b8d39-4443-4a9d-84a8-c51b78f1585f"
      },
      "execution_count": 43,
      "outputs": [
        {
          "output_type": "stream",
          "name": "stdout",
          "text": [
            "                  precision    recall  f1-score   support\n",
            "\n",
            "alternative rock       0.06      0.33      0.11        67\n",
            "      bossa nova       0.31      0.25      0.28        16\n",
            "      electronic       0.16      0.27      0.20       190\n",
            "      indie rock       0.20      0.52      0.29       217\n",
            "           latin       0.72      0.50      0.59        26\n",
            "       latin pop       0.33      0.50      0.40        12\n",
            "             mpb       0.82      0.89      0.85       141\n",
            "             pop       0.81      0.50      0.62      1127\n",
            "       reggaeton       0.50      0.64      0.56        14\n",
            "            rock       0.40      0.03      0.05       343\n",
            "           samba       0.43      0.31      0.36        29\n",
            "\n",
            "        accuracy                           0.42      2182\n",
            "       macro avg       0.43      0.43      0.39      2182\n",
            "    weighted avg       0.59      0.42      0.45      2182\n",
            "\n"
          ]
        }
      ]
    },
    {
      "cell_type": "code",
      "source": [
        "from sklearn.metrics import balanced_accuracy_score\n",
        "balanced_accuracy_score(split0['y_test'], predicted_mnb_SMOTE)"
      ],
      "metadata": {
        "colab": {
          "base_uri": "https://localhost:8080/"
        },
        "id": "PX7kBgw_zLqb",
        "outputId": "c571c253-8fd9-4231-d4a4-32fc62fe5342"
      },
      "execution_count": 45,
      "outputs": [
        {
          "output_type": "execute_result",
          "data": {
            "text/plain": [
              "0.4300416944331104"
            ]
          },
          "metadata": {},
          "execution_count": 45
        }
      ]
    },
    {
      "cell_type": "code",
      "source": [
        "import matplotlib.pyplot as plt\n",
        "from sklearn.metrics import confusion_matrix, ConfusionMatrixDisplay\n",
        "ConfusionMatrixDisplay.from_predictions(split0['y_test'], predicted_mnb_SMOTE\n",
        "                                        , cmap=plt.cm.Blues)\n",
        "plt.figure(figsize=(10, 10))\n",
        "plt.show()"
      ],
      "metadata": {
        "colab": {
          "base_uri": "https://localhost:8080/",
          "height": 378
        },
        "id": "k4vtDp3szbTl",
        "outputId": "613af951-0dcf-426a-cca2-433d98886841"
      },
      "execution_count": 46,
      "outputs": [
        {
          "output_type": "display_data",
          "data": {
            "text/plain": [
              "<Figure size 576x396 with 2 Axes>"
            ],
            "image/png": "[encoded data removed]"
          },
          "metadata": {}
        },
        {
          "output_type": "display_data",
          "data": {
            "text/plain": [
              "<Figure size 720x720 with 0 Axes>"
            ]
          },
          "metadata": {}
        }
      ]
    },
    {
      "cell_type": "markdown",
      "source": [
        "All language , but this time use SVM"
      ],
      "metadata": {
        "id": "JYztrIq30Yyp"
      }
    },
    {
      "cell_type": "code",
      "source": [
        "from sklearn import svm\n",
        "clf_svm_SMOTE = svm.SVC(C=1.0, kernel='linear', degree=3, gamma='auto')\n",
        "clf_svm_SMOTE.fit(X_resampled, y_resampled)"
      ],
      "metadata": {
        "colab": {
          "base_uri": "https://localhost:8080/"
        },
        "id": "Kl5UQ_Un0dNP",
        "outputId": "ed04ddf9-9c8e-4868-962e-828f6cd646f3"
      },
      "execution_count": 41,
      "outputs": [
        {
          "output_type": "execute_result",
          "data": {
            "text/plain": [
              "SVC(gamma='auto', kernel='linear')"
            ]
          },
          "metadata": {},
          "execution_count": 41
        }
      ]
    },
    {
      "cell_type": "markdown",
      "source": [
        "Took 1 Hour and 45 min"
      ],
      "metadata": {
        "id": "F2yJiJrKknCi"
      }
    },
    {
      "cell_type": "code",
      "source": [
        "#predicted_mnb_SMOTE = clf_mnb.predict(X_test_tfidf)\n",
        "predicted_svm_SMOTE = clf_svm_SMOTE.predict(X_test_tfidf)\n",
        "print(metrics.classification_report(split0['y_test'], predicted_svm_SMOTE) )"
      ],
      "metadata": {
        "colab": {
          "base_uri": "https://localhost:8080/"
        },
        "id": "HzS8BWmp0lwT",
        "outputId": "21bf6404-0cf6-4442-ed7e-563525912dc9"
      },
      "execution_count": 42,
      "outputs": [
        {
          "output_type": "stream",
          "name": "stdout",
          "text": [
            "                  precision    recall  f1-score   support\n",
            "\n",
            "alternative rock       0.13      0.19      0.15        67\n",
            "      bossa nova       0.38      0.19      0.25        16\n",
            "      electronic       0.18      0.31      0.23       190\n",
            "      indie rock       0.19      0.25      0.22       217\n",
            "           latin       0.60      0.35      0.44        26\n",
            "       latin pop       0.33      0.17      0.22        12\n",
            "             mpb       0.80      0.77      0.79       141\n",
            "             pop       0.75      0.60      0.67      1127\n",
            "       reggaeton       0.75      0.43      0.55        14\n",
            "            rock       0.23      0.24      0.24       343\n",
            "           samba       0.60      0.31      0.41        29\n",
            "\n",
            "        accuracy                           0.47      2182\n",
            "       macro avg       0.45      0.35      0.38      2182\n",
            "    weighted avg       0.54      0.47      0.50      2182\n",
            "\n"
          ]
        }
      ]
    },
    {
      "cell_type": "markdown",
      "source": [
        "Took 11 min."
      ],
      "metadata": {
        "id": "jZFS8EG_kpvz"
      }
    },
    {
      "cell_type": "code",
      "source": [
        "from sklearn.metrics import balanced_accuracy_score\n",
        "balanced_accuracy_score(split0['y_test'], predicted_svm_SMOTE)"
      ],
      "metadata": {
        "colab": {
          "base_uri": "https://localhost:8080/"
        },
        "id": "982rgmTB1PTt",
        "outputId": "d36e301e-2ef9-491f-e5e4-657f6ffb0c9b"
      },
      "execution_count": 43,
      "outputs": [
        {
          "output_type": "execute_result",
          "data": {
            "text/plain": [
              "0.3467447907575799"
            ]
          },
          "metadata": {},
          "execution_count": 43
        }
      ]
    },
    {
      "cell_type": "code",
      "source": [
        "import matplotlib.pyplot as plt\n",
        "from sklearn.metrics import confusion_matrix, ConfusionMatrixDisplay\n",
        "ConfusionMatrixDisplay.from_predictions(split0['y_test'], predicted_svm_SMOTE\n",
        "                                        , cmap=plt.cm.Blues)\n",
        "plt.figure(figsize=(10, 10))\n",
        "plt.show()"
      ],
      "metadata": {
        "colab": {
          "base_uri": "https://localhost:8080/",
          "height": 378
        },
        "id": "MlW2L0lF1QcX",
        "outputId": "2dd174fe-e955-498a-e3bc-1bc4c12b1e68"
      },
      "execution_count": 44,
      "outputs": [
        {
          "output_type": "display_data",
          "data": {
            "text/plain": [
              "<Figure size 576x396 with 2 Axes>"
            ],
            "image/png": "[encoded data removed]"
          },
          "metadata": {}
        },
        {
          "output_type": "display_data",
          "data": {
            "text/plain": [
              "<Figure size 720x720 with 0 Axes>"
            ]
          },
          "metadata": {}
        }
      ]
    },
    {
      "cell_type": "markdown",
      "source": [
        "### English classifier"
      ],
      "metadata": {
        "id": "GVtw18aL1gQZ"
      }
    },
    {
      "cell_type": "code",
      "source": [
        "from sklearn.metrics import accuracy_score,hamming_loss,classification_report\n",
        "from sklearn.feature_extraction.text import TfidfVectorizer\n",
        "\n",
        "tfidf_vectorizer_en = TfidfVectorizer(analyzer=\"word\", stop_words='english')\n",
        "\n",
        "X_train_tfidf_en = tfidf_vectorizer_en.fit_transform(X_train_en['lyric']).toarray()\n",
        "X_train_tfidf_en"
      ],
      "metadata": {
        "colab": {
          "base_uri": "https://localhost:8080/"
        },
        "id": "iQWpojdbiXus",
        "outputId": "7295c27c-d403-46af-ffcf-3427ffcee390"
      },
      "execution_count": 45,
      "outputs": [
        {
          "output_type": "execute_result",
          "data": {
            "text/plain": [
              "array([[0., 0., 0., ..., 0., 0., 0.],\n",
              "       [0., 0., 0., ..., 0., 0., 0.],\n",
              "       [0., 0., 0., ..., 0., 0., 0.],\n",
              "       ...,\n",
              "       [0., 0., 0., ..., 0., 0., 0.],\n",
              "       [0., 0., 0., ..., 0., 0., 0.],\n",
              "       [0., 0., 0., ..., 0., 0., 0.]])"
            ]
          },
          "metadata": {},
          "execution_count": 45
        }
      ]
    },
    {
      "cell_type": "code",
      "source": [
        "from imblearn.over_sampling import SMOTE\n",
        "X_resampled_en, y_resampled_en = SMOTE().fit_resample(X_train_tfidf_en, y_train_en)#split0['y_train'] \n",
        "print(sorted(Counter(y_resampled_en).items()))"
      ],
      "metadata": {
        "colab": {
          "base_uri": "https://localhost:8080/"
        },
        "id": "0ukpM9gTjAlG",
        "outputId": "0c7708b1-472a-48c2-86ae-ae5902405d35"
      },
      "execution_count": 46,
      "outputs": [
        {
          "output_type": "stream",
          "name": "stdout",
          "text": [
            "[('alternative rock', 4052), ('electronic', 4052), ('indie rock', 4052), ('pop', 4052), ('rock', 4052)]\n"
          ]
        }
      ]
    },
    {
      "cell_type": "code",
      "source": [
        "from sklearn.naive_bayes import MultinomialNB\n",
        "import numpy as np\n",
        "from sklearn import metrics\n",
        "#Step4: Create MultinomialNB classifier and fit()\n",
        "#Use X_resampled, y_resampled\n",
        "clf_mnb_en = MultinomialNB().fit(X_resampled_en, y_resampled_en)\n",
        "X_test_tfidf_en = tfidf_vectorizer_en.transform( X_test_en['lyric'] ).toarray() #split0['X_test']['lyric']\n",
        "\n",
        "predicted_mnb_en_SMOTE = clf_mnb_en.predict(X_test_tfidf_en)\n",
        "print(metrics.classification_report(y_test_en, predicted_mnb_en_SMOTE) )"
      ],
      "metadata": {
        "colab": {
          "base_uri": "https://localhost:8080/"
        },
        "id": "2tVpaxg9jL0p",
        "outputId": "10938159-e069-427c-c8aa-b502cbd4c078"
      },
      "execution_count": 51,
      "outputs": [
        {
          "output_type": "stream",
          "name": "stdout",
          "text": [
            "                  precision    recall  f1-score   support\n",
            "\n",
            "alternative rock       0.07      0.18      0.10        67\n",
            "      electronic       0.20      0.15      0.17       190\n",
            "      indie rock       0.25      0.28      0.27       217\n",
            "             pop       0.76      0.66      0.71      1127\n",
            "            rock       0.26      0.31      0.28       343\n",
            "\n",
            "        accuracy                           0.49      1944\n",
            "       macro avg       0.31      0.32      0.30      1944\n",
            "    weighted avg       0.54      0.49      0.51      1944\n",
            "\n"
          ]
        }
      ]
    },
    {
      "cell_type": "code",
      "source": [
        "from sklearn.metrics import balanced_accuracy_score\n",
        "balanced_accuracy_score(y_test_en, predicted_mnb_en_SMOTE)"
      ],
      "metadata": {
        "colab": {
          "base_uri": "https://localhost:8080/"
        },
        "id": "gU2Sa-eqlJqB",
        "outputId": "ee729f7c-6c01-4cc6-db6d-44630f740a80"
      },
      "execution_count": 52,
      "outputs": [
        {
          "output_type": "execute_result",
          "data": {
            "text/plain": [
              "0.31558346707707263"
            ]
          },
          "metadata": {},
          "execution_count": 52
        }
      ]
    },
    {
      "cell_type": "code",
      "source": [
        "import matplotlib.pyplot as plt\n",
        "from sklearn.metrics import confusion_matrix, ConfusionMatrixDisplay\n",
        "ConfusionMatrixDisplay.from_predictions(y_test_en, predicted_mnb_en_SMOTE\n",
        "                                        , cmap=plt.cm.Blues)\n",
        "plt.figure(figsize=(10, 10))\n",
        "plt.show()"
      ],
      "metadata": {
        "colab": {
          "base_uri": "https://localhost:8080/",
          "height": 378
        },
        "id": "8FPrNoQAlO5m",
        "outputId": "e38d2011-e49f-4576-c731-3a2572d5cc57"
      },
      "execution_count": 53,
      "outputs": [
        {
          "output_type": "display_data",
          "data": {
            "text/plain": [
              "<Figure size 576x396 with 2 Axes>"
            ],
            "image/png": "[encoded data removed]"
          },
          "metadata": {}
        },
        {
          "output_type": "display_data",
          "data": {
            "text/plain": [
              "<Figure size 720x720 with 0 Axes>"
            ]
          },
          "metadata": {}
        }
      ]
    },
    {
      "cell_type": "markdown",
      "source": [
        "English SVM"
      ],
      "metadata": {
        "id": "49yTe8y4kZOW"
      }
    },
    {
      "cell_type": "code",
      "source": [
        "from sklearn import svm\n",
        "clf_svm_SMOTE_en = svm.SVC(C=1.0, kernel='linear', degree=3, gamma='auto')\n",
        "clf_svm_SMOTE_en.fit(X_resampled_en, y_resampled_en)"
      ],
      "metadata": {
        "colab": {
          "base_uri": "https://localhost:8080/"
        },
        "id": "ITPzI7l3ka_j",
        "outputId": "203796ff-3fbd-4a8a-b752-f505be729605"
      },
      "execution_count": 54,
      "outputs": [
        {
          "output_type": "execute_result",
          "data": {
            "text/plain": [
              "SVC(gamma='auto', kernel='linear')"
            ]
          },
          "metadata": {},
          "execution_count": 54
        }
      ]
    },
    {
      "cell_type": "code",
      "source": [
        "#predicted_mnb_SMOTE = clf_mnb.predict(X_test_tfidf)\n",
        "predicted_svm_SMOTE_en = clf_svm_SMOTE_en.predict(X_test_tfidf_en)\n",
        "print(metrics.classification_report(y_test_en, predicted_svm_SMOTE_en) )"
      ],
      "metadata": {
        "colab": {
          "base_uri": "https://localhost:8080/"
        },
        "id": "pRjnp0PzltXk",
        "outputId": "db4ed6c2-1ead-405a-d572-98ab42590dbb"
      },
      "execution_count": 55,
      "outputs": [
        {
          "output_type": "stream",
          "name": "stdout",
          "text": [
            "                  precision    recall  f1-score   support\n",
            "\n",
            "alternative rock       0.12      0.19      0.15        67\n",
            "      electronic       0.17      0.28      0.21       190\n",
            "      indie rock       0.21      0.27      0.23       217\n",
            "             pop       0.77      0.61      0.68      1127\n",
            "            rock       0.27      0.27      0.27       343\n",
            "\n",
            "        accuracy                           0.47      1944\n",
            "       macro avg       0.31      0.33      0.31      1944\n",
            "    weighted avg       0.54      0.47      0.50      1944\n",
            "\n"
          ]
        }
      ]
    },
    {
      "cell_type": "code",
      "source": [
        "from sklearn.metrics import balanced_accuracy_score\n",
        "balanced_accuracy_score(y_test_en, predicted_svm_SMOTE_en)"
      ],
      "metadata": {
        "colab": {
          "base_uri": "https://localhost:8080/"
        },
        "id": "rtkMQ6Xbl_nv",
        "outputId": "99fd5d3c-53be-4d33-f643-30499ec9030c"
      },
      "execution_count": 56,
      "outputs": [
        {
          "output_type": "execute_result",
          "data": {
            "text/plain": [
              "0.325958143739482"
            ]
          },
          "metadata": {},
          "execution_count": 56
        }
      ]
    },
    {
      "cell_type": "code",
      "source": [
        "import matplotlib.pyplot as plt\n",
        "from sklearn.metrics import confusion_matrix, ConfusionMatrixDisplay\n",
        "ConfusionMatrixDisplay.from_predictions(y_test_en, predicted_svm_SMOTE_en\n",
        "                                        , cmap=plt.cm.Blues)\n",
        "plt.figure(figsize=(10, 10))\n",
        "plt.show()"
      ],
      "metadata": {
        "colab": {
          "base_uri": "https://localhost:8080/",
          "height": 378
        },
        "id": "xrRqa3jcmDcc",
        "outputId": "95beded9-6527-4bdc-da7e-9c6ef89f04f4"
      },
      "execution_count": 57,
      "outputs": [
        {
          "output_type": "display_data",
          "data": {
            "text/plain": [
              "<Figure size 576x396 with 2 Axes>"
            ],
            "image/png": "[encoded data removed]"
          },
          "metadata": {}
        },
        {
          "output_type": "display_data",
          "data": {
            "text/plain": [
              "<Figure size 720x720 with 0 Axes>"
            ]
          },
          "metadata": {}
        }
      ]
    },
    {
      "cell_type": "markdown",
      "source": [
        "### Portuguese classifier"
      ],
      "metadata": {
        "id": "b-d-PM5akbUg"
      }
    },
    {
      "cell_type": "code",
      "source": [
        "from sklearn.metrics import accuracy_score,hamming_loss,classification_report\n",
        "from sklearn.feature_extraction.text import TfidfVectorizer\n",
        "\n",
        "tfidf_vectorizer_pt = TfidfVectorizer(analyzer=\"word\", stop_words='english')\n",
        "\n",
        "X_train_tfidf_pt = tfidf_vectorizer_pt.fit_transform(X_train_pt['lyric']).toarray()\n",
        "X_train_tfidf_pt"
      ],
      "metadata": {
        "colab": {
          "base_uri": "https://localhost:8080/"
        },
        "id": "9HbxVKjtkeUL",
        "outputId": "45073c0b-69ba-4679-fcbe-0aef73bdc08a"
      },
      "execution_count": 58,
      "outputs": [
        {
          "output_type": "execute_result",
          "data": {
            "text/plain": [
              "array([[0.        , 0.        , 0.        , ..., 0.        , 0.        ,\n",
              "        0.        ],\n",
              "       [0.        , 0.        , 0.        , ..., 0.        , 0.        ,\n",
              "        0.        ],\n",
              "       [0.        , 0.        , 0.        , ..., 0.        , 0.        ,\n",
              "        0.        ],\n",
              "       ...,\n",
              "       [0.        , 0.        , 0.        , ..., 0.        , 0.        ,\n",
              "        0.        ],\n",
              "       [0.        , 0.        , 0.        , ..., 0.        , 0.11454238,\n",
              "        0.        ],\n",
              "       [0.        , 0.        , 0.        , ..., 0.        , 0.        ,\n",
              "        0.        ]])"
            ]
          },
          "metadata": {},
          "execution_count": 58
        }
      ]
    },
    {
      "cell_type": "code",
      "source": [
        "from imblearn.over_sampling import SMOTE\n",
        "X_resampled_pt, y_resampled_pt = SMOTE().fit_resample(X_train_tfidf_pt, y_train_pt)#split0['y_train'] \n",
        "print(sorted(Counter(y_resampled_pt).items()))"
      ],
      "metadata": {
        "colab": {
          "base_uri": "https://localhost:8080/"
        },
        "id": "VmPmxCtu0RwW",
        "outputId": "d961cc17-63db-4fcc-c416-58bc1815becc"
      },
      "execution_count": 59,
      "outputs": [
        {
          "output_type": "stream",
          "name": "stdout",
          "text": [
            "[('bossa nova', 567), ('mpb', 567), ('pop', 567), ('rock', 567), ('samba', 567)]\n"
          ]
        }
      ]
    },
    {
      "cell_type": "code",
      "source": [
        "X_test_tfidf_pt = tfidf_vectorizer_pt.transform( X_test_pt['lyric'] ).toarray()"
      ],
      "metadata": {
        "id": "vkoX626L07Q1"
      },
      "execution_count": 61,
      "outputs": []
    },
    {
      "cell_type": "markdown",
      "source": [
        "Pt -SVM"
      ],
      "metadata": {
        "id": "bR6GsA-60aFa"
      }
    },
    {
      "cell_type": "code",
      "source": [
        "from sklearn import svm\n",
        "clf_svm_SMOTE_pt = svm.SVC(C=1.0, kernel='linear', degree=3, gamma='auto')\n",
        "clf_svm_SMOTE_pt.fit(X_resampled_pt, y_resampled_pt)"
      ],
      "metadata": {
        "colab": {
          "base_uri": "https://localhost:8080/"
        },
        "id": "-2f4LFyZ0bnK",
        "outputId": "53ca971a-8b61-4339-8e0e-05e49a71e73f"
      },
      "execution_count": 60,
      "outputs": [
        {
          "output_type": "execute_result",
          "data": {
            "text/plain": [
              "SVC(gamma='auto', kernel='linear')"
            ]
          },
          "metadata": {},
          "execution_count": 60
        }
      ]
    },
    {
      "cell_type": "code",
      "source": [
        "predicted_svm_SMOTE_pt = clf_svm_SMOTE_pt.predict(X_test_tfidf_pt)\n",
        "print(metrics.classification_report(y_test_pt, predicted_svm_SMOTE_pt) )"
      ],
      "metadata": {
        "colab": {
          "base_uri": "https://localhost:8080/"
        },
        "id": "5iaTOMuY0yET",
        "outputId": "16a09a4d-1d68-4d67-8587-00455a0452a1"
      },
      "execution_count": 62,
      "outputs": [
        {
          "output_type": "stream",
          "name": "stdout",
          "text": [
            "              precision    recall  f1-score   support\n",
            "\n",
            "  bossa nova       0.25      0.12      0.17        16\n",
            "         mpb       0.77      0.73      0.75       141\n",
            "         pop       0.00      0.00      0.00         0\n",
            "        rock       0.00      0.00      0.00         0\n",
            "       samba       0.64      0.24      0.35        29\n",
            "\n",
            "    accuracy                           0.60       186\n",
            "   macro avg       0.33      0.22      0.25       186\n",
            "weighted avg       0.70      0.60      0.64       186\n",
            "\n"
          ]
        },
        {
          "output_type": "stream",
          "name": "stderr",
          "text": [
            "/usr/local/lib/python3.7/dist-packages/sklearn/metrics/_classification.py:1318: UndefinedMetricWarning: Recall and F-score are ill-defined and being set to 0.0 in labels with no true samples. Use `zero_division` parameter to control this behavior.\n",
            "  _warn_prf(average, modifier, msg_start, len(result))\n",
            "/usr/local/lib/python3.7/dist-packages/sklearn/metrics/_classification.py:1318: UndefinedMetricWarning: Recall and F-score are ill-defined and being set to 0.0 in labels with no true samples. Use `zero_division` parameter to control this behavior.\n",
            "  _warn_prf(average, modifier, msg_start, len(result))\n",
            "/usr/local/lib/python3.7/dist-packages/sklearn/metrics/_classification.py:1318: UndefinedMetricWarning: Recall and F-score are ill-defined and being set to 0.0 in labels with no true samples. Use `zero_division` parameter to control this behavior.\n",
            "  _warn_prf(average, modifier, msg_start, len(result))\n"
          ]
        }
      ]
    },
    {
      "cell_type": "code",
      "source": [
        "predicted_svm_SMOTE_pt"
      ],
      "metadata": {
        "colab": {
          "base_uri": "https://localhost:8080/"
        },
        "id": "aSruLQiQ1Z6D",
        "outputId": "b0dac502-4a4c-441b-f093-6c6123b44929"
      },
      "execution_count": 64,
      "outputs": [
        {
          "output_type": "execute_result",
          "data": {
            "text/plain": [
              "array(['mpb', 'mpb', 'mpb', 'mpb', 'mpb', 'samba', 'mpb', 'mpb', 'mpb',\n",
              "       'mpb', 'mpb', 'samba', 'bossa nova', 'mpb', 'mpb', 'rock', 'mpb',\n",
              "       'mpb', 'samba', 'mpb', 'mpb', 'mpb', 'mpb', 'pop', 'mpb', 'mpb',\n",
              "       'mpb', 'mpb', 'mpb', 'mpb', 'mpb', 'mpb', 'mpb', 'mpb', 'pop',\n",
              "       'mpb', 'rock', 'mpb', 'mpb', 'mpb', 'mpb', 'mpb', 'mpb', 'mpb',\n",
              "       'mpb', 'mpb', 'mpb', 'mpb', 'pop', 'mpb', 'rock', 'mpb', 'mpb',\n",
              "       'mpb', 'mpb', 'samba', 'mpb', 'mpb', 'rock', 'mpb', 'pop', 'mpb',\n",
              "       'bossa nova', 'bossa nova', 'mpb', 'rock', 'mpb', 'mpb', 'mpb',\n",
              "       'mpb', 'mpb', 'pop', 'mpb', 'mpb', 'bossa nova', 'mpb', 'mpb',\n",
              "       'mpb', 'mpb', 'rock', 'mpb', 'mpb', 'mpb', 'mpb', 'pop', 'mpb',\n",
              "       'rock', 'mpb', 'mpb', 'pop', 'mpb', 'mpb', 'mpb', 'mpb', 'rock',\n",
              "       'mpb', 'pop', 'pop', 'pop', 'mpb', 'mpb', 'mpb', 'mpb', 'samba',\n",
              "       'mpb', 'mpb', 'samba', 'mpb', 'mpb', 'rock', 'mpb', 'mpb', 'mpb',\n",
              "       'mpb', 'mpb', 'mpb', 'mpb', 'pop', 'mpb', 'mpb', 'mpb', 'mpb',\n",
              "       'mpb', 'rock', 'mpb', 'bossa nova', 'mpb', 'samba', 'mpb', 'pop',\n",
              "       'mpb', 'bossa nova', 'rock', 'mpb', 'rock', 'mpb', 'mpb', 'mpb',\n",
              "       'bossa nova', 'mpb', 'rock', 'mpb', 'mpb', 'mpb', 'mpb', 'rock',\n",
              "       'mpb', 'mpb', 'mpb', 'pop', 'mpb', 'mpb', 'mpb', 'pop', 'mpb',\n",
              "       'rock', 'mpb', 'mpb', 'mpb', 'rock', 'pop', 'mpb', 'mpb', 'mpb',\n",
              "       'mpb', 'mpb', 'mpb', 'rock', 'mpb', 'mpb', 'mpb', 'mpb', 'mpb',\n",
              "       'mpb', 'mpb', 'mpb', 'mpb', 'mpb', 'samba', 'bossa nova', 'samba',\n",
              "       'pop', 'mpb', 'samba', 'mpb', 'samba'], dtype=object)"
            ]
          },
          "metadata": {},
          "execution_count": 64
        }
      ]
    },
    {
      "cell_type": "code",
      "source": [
        "from sklearn.metrics import balanced_accuracy_score\n",
        "balanced_accuracy_score(y_test_pt, predicted_svm_SMOTE_pt)"
      ],
      "metadata": {
        "colab": {
          "base_uri": "https://localhost:8080/"
        },
        "id": "FAhSjCqL1K-R",
        "outputId": "9ca927da-c879-4521-dc74-838d1f2f4e92"
      },
      "execution_count": 63,
      "outputs": [
        {
          "output_type": "stream",
          "name": "stderr",
          "text": [
            "/usr/local/lib/python3.7/dist-packages/sklearn/metrics/_classification.py:1987: UserWarning: y_pred contains classes not in y_true\n",
            "  warnings.warn(\"y_pred contains classes not in y_true\")\n"
          ]
        },
        {
          "output_type": "execute_result",
          "data": {
            "text/plain": [
              "0.3656252547485123"
            ]
          },
          "metadata": {},
          "execution_count": 63
        }
      ]
    }
  ],
  "metadata": {
    "colab": {
      "background_execution": "on",
      "collapsed_sections": [
        "sZHqabhlMw-d",
        "JnmVYJwKZ3x2",
        "782wiYj26yba"
      ],
      "machine_shape": "hm",
      "name": "week7_lang_ingnored_clf_vs_lang_specific.ipynb",
      "provenance": [],
      "mount_file_id": "1fXwCGas8qufGN1rUdrdO1EalmLfIkDDz",
      "authorship_tag": "ABX9TyPjxiKaleF0wrhuVc5GIZSj",
      "include_colab_link": true
    },
    "kernelspec": {
      "display_name": "Python 3",
      "name": "python3"
    },
    "language_info": {
      "name": "python"
    }
  },
  "nbformat": 4,
  "nbformat_minor": 0
}