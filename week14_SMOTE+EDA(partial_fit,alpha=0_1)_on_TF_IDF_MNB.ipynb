{
  "cells": [
    {
      "cell_type": "markdown",
      "metadata": {
        "id": "view-in-github",
        "colab_type": "text"
      },
      "source": [
        "<a href=\"https://colab.research.google.com/github/KenObata/Music4All_personal_project/blob/main/week14_SMOTE%2BEDA(partial_fit%2Calpha%3D0_1)_on_TF_IDF_MNB.ipynb\" target=\"_parent\"><img src=\"https://colab.research.google.com/assets/colab-badge.svg\" alt=\"Open In Colab\"/></a>"
      ]
    },
    {
      "cell_type": "markdown",
      "metadata": {
        "id": "ZS8WVxEoWZG0"
      },
      "source": [
        "## Week14: This notebook is to apply Easy Data Augmentation -> then SMOTE to balance genres using TF-IDF.\n",
        "\n",
        "Situation: English only (=multi-class).\n",
        "Split: StratifiedKfold.\n",
        "Reference: https://github.com/jasonwei20/eda_nlp\n"
      ]
    },
    {
      "cell_type": "markdown",
      "metadata": {
        "id": "mhNJgkUfpSM_"
      },
      "source": [
        "### Preprocess: import files"
      ]
    },
    {
      "cell_type": "code",
      "execution_count": 1,
      "metadata": {
        "colab": {
          "base_uri": "https://localhost:8080/"
        },
        "id": "8idi3A-doa5r",
        "outputId": "d4e10791-0b82-49c5-fd1b-c2afe2126bdd"
      },
      "outputs": [
        {
          "output_type": "stream",
          "name": "stdout",
          "text": [
            "Your runtime has 54.8 gigabytes of available RAM\n",
            "\n",
            "You are using a high-RAM runtime!\n"
          ]
        }
      ],
      "source": [
        "#Check RAM size. If small, you can upgrade.\n",
        "#you can enable a high-RAM runtime via Runtime > Change runtime type in the menu\n",
        "from psutil import virtual_memory\n",
        "ram_gb = virtual_memory().total / 1e9\n",
        "print('Your runtime has {:.1f} gigabytes of available RAM\\n'.format(ram_gb))\n",
        "\n",
        "if ram_gb < 20:\n",
        "  print('Not using a high-RAM runtime')\n",
        "else:\n",
        "  print('You are using a high-RAM runtime!')"
      ]
    },
    {
      "cell_type": "code",
      "execution_count": 2,
      "metadata": {
        "colab": {
          "base_uri": "https://localhost:8080/"
        },
        "id": "j244pkH1XTxp",
        "outputId": "cb5e5f4b-1c5f-4598-992e-6987985f4058"
      },
      "outputs": [
        {
          "output_type": "stream",
          "name": "stdout",
          "text": [
            "Looking in indexes: https://pypi.org/simple, https://us-python.pkg.dev/colab-wheels/public/simple/\n",
            "Requirement already satisfied: scikit-multilearn in /usr/local/lib/python3.7/dist-packages (0.2.0)\n"
          ]
        }
      ],
      "source": [
        "!pip install scikit-multilearn"
      ]
    },
    {
      "cell_type": "code",
      "execution_count": 3,
      "metadata": {
        "id": "4kSV038xWQSm"
      },
      "outputs": [],
      "source": [
        "import os\n",
        "import sys\n",
        "import numpy as np\n",
        "import pandas as pd\n",
        "import matplotlib\n",
        "import matplotlib.pyplot as plt\n",
        "import sklearn\n",
        "from collections import Counter\n",
        "\n",
        "from skmultilearn.model_selection import IterativeStratification   \n",
        "from sklearn.model_selection import StratifiedKFold\n",
        "from scipy.sparse import csr_matrix\n",
        "plt.style.use('seaborn')\n",
        "\n",
        "CSV_FOLDER = 'drive/MyDrive/music4all/'\n",
        "LANG_DIR = 'drive/MyDrive/music4all/split-language_only-artist_grouped'\n",
        "SPLIT_DIR = 'drive/MyDrive/music4all/split-all_labels'\n",
        "FIG_DIR = 'drive/MyDrive/music4all/figures'\n",
        "\n",
        "font = {'size': 22}\n",
        "\n",
        "matplotlib.rc('font', **font)"
      ]
    },
    {
      "cell_type": "markdown",
      "metadata": {
        "id": "ljxagz0vYBho"
      },
      "source": [
        "scikit-multilearn has to be installed from pip\n",
        "https://github.com/scikit-multilearn/scikit-multilearn/issues/142"
      ]
    },
    {
      "cell_type": "code",
      "execution_count": 4,
      "metadata": {
        "id": "cYobEzfUWtpO"
      },
      "outputs": [],
      "source": [
        "def write_txt(path, list_of_str):\n",
        "    with open(path, 'w') as f:\n",
        "        for value in list_of_str:\n",
        "            f.write(value)\n",
        "            f.write('\\n')"
      ]
    },
    {
      "cell_type": "code",
      "execution_count": 5,
      "metadata": {
        "id": "sZvz0xKLX-eH"
      },
      "outputs": [],
      "source": [
        "def analyze_genre_tag_df(df, target_column:int, top_n=100):\n",
        "    \"\"\"plot the occurrences of top_n items in the given df\"\"\"\n",
        "    def get_counter(items: list):\n",
        "        \"\"\"items: list of list\"\"\"    \n",
        "        items = [g.split(',') for g in items]\n",
        "        items = [item for sublist in items for item in sublist]\n",
        "        items = Counter(items)    \n",
        "        return items\n",
        "    \n",
        "    def plot_freqs(counter: Counter, top_n, title=''):\n",
        "        most_common = counter.most_common(top_n)\n",
        "        names, counts = list(zip(*most_common))\n",
        "\n",
        "        xs = np.arange(len(names))\n",
        "        plt.figure(figsize=(18, 7))\n",
        "        plt.bar(xs, counts)\n",
        "        plt.xticks(xs + 0.2, names, rotation=60, size=17, ha='right') \n",
        "        plt.title('Top-%d %s (out of %d in total)' % (top_n, title, len(counter)), size=20)\n",
        "        plt.ylabel('occurrence', size=17)\n",
        "        \n",
        "    column_name = df.columns[target_column]\n",
        "    labels = df[column_name].tolist()\n",
        "    labels = get_counter(labels)\n",
        "    \n",
        "    print('Number of %s: %d' % (column_name, len(labels)))\n",
        "\n",
        "    plot_freqs(labels, top_n=top_n, title=column_name)\n",
        "    return labels\n",
        "    \n",
        "def analyze_genre_tag_csv(csv_path, top_n):\n",
        "    \"\"\"wrapper of analyze_genre_tag_df\"\"\"\n",
        "    basename = os.path.basename(csv_path)\n",
        "    df = pd.read_csv(os.path.join(CSV_FOLDER, csv_path), header=0, sep='\t')\n",
        "    df.head()\n",
        "    return analyze_genre_tag_df(df, target_column=1,top_n=top_n)"
      ]
    },
    {
      "cell_type": "markdown",
      "metadata": {
        "id": "K-fziEIMkhpU"
      },
      "source": [
        "### Data preparation"
      ]
    },
    {
      "cell_type": "markdown",
      "metadata": {
        "id": "1523saeRYv8j"
      },
      "source": [
        "id_genres.csv"
      ]
    },
    {
      "cell_type": "code",
      "execution_count": 6,
      "metadata": {
        "colab": {
          "base_uri": "https://localhost:8080/",
          "height": 0
        },
        "id": "3zcbRTyCYb0P",
        "outputId": "11a7e2e5-cb46-44d5-c418-acfba839f8e6"
      },
      "outputs": [
        {
          "output_type": "stream",
          "name": "stdout",
          "text": [
            "Number of genres: 853\n"
          ]
        },
        {
          "output_type": "display_data",
          "data": {
            "text/plain": [
              "<Figure size 1296x504 with 1 Axes>"
            ],
            "image/png": "[encoded data removed]"
          },
          "metadata": {}
        }
      ],
      "source": [
        "genre_counter = analyze_genre_tag_csv('id_genres.csv', top_n=20)\n",
        "plt.tight_layout()\n",
        "plt.savefig(os.path.join(FIG_DIR, 'occurrence-genre.png'))"
      ]
    },
    {
      "cell_type": "code",
      "execution_count": 7,
      "metadata": {
        "id": "vuVfNcahH_G8"
      },
      "outputs": [],
      "source": [
        "genre_counter = sorted(genre_counter.items(), key=lambda item: item[1], reverse = True)\n",
        "genre_counter_top = genre_counter[:15]"
      ]
    },
    {
      "cell_type": "code",
      "execution_count": 8,
      "metadata": {
        "colab": {
          "base_uri": "https://localhost:8080/"
        },
        "id": "Vy6HE_1mIpM5",
        "outputId": "fd408aff-aff8-49b2-e3d9-8ffa5fb0b3ef"
      },
      "outputs": [
        {
          "output_type": "execute_result",
          "data": {
            "text/plain": [
              "['rock',\n",
              " 'pop',\n",
              " 'electronic',\n",
              " 'alternative rock',\n",
              " 'indie rock',\n",
              " 'metal',\n",
              " 'folk',\n",
              " 'singer-songwriter',\n",
              " 'classic rock',\n",
              " 'soul',\n",
              " 'experimental',\n",
              " 'rap',\n",
              " 'indie pop',\n",
              " 'hard rock',\n",
              " 'punk']"
            ]
          },
          "metadata": {},
          "execution_count": 8
        }
      ],
      "source": [
        "genre_counter_top_list = [genre for genre, count in genre_counter_top ]\n",
        "genre_counter_top_list"
      ]
    },
    {
      "cell_type": "code",
      "execution_count": 9,
      "metadata": {
        "colab": {
          "base_uri": "https://localhost:8080/",
          "height": 0
        },
        "id": "ShToaD0dE6cf",
        "outputId": "04f90182-c197-43be-f8b7-09a5f1bd3e7e"
      },
      "outputs": [
        {
          "output_type": "execute_result",
          "data": {
            "text/plain": [
              "                      id             genres\n",
              "0       0009fFIM1eYThaPg                pop\n",
              "11      00P2bHdWFkghmDqz               soul\n",
              "14      00XWljDxNBgBKEEA                pop\n",
              "16      00b6fV3nx5z2b8Ls                pop\n",
              "26      013QDoTqbexEwkHr                pop\n",
              "...                  ...                ...\n",
              "109253  zzgS4ZqyswamEWNj                pop\n",
              "109254  zziALZG1JQ2uUjcy              metal\n",
              "109262  zzx8CWdM7qkxKQpC         indie rock\n",
              "109265  zzz0n04uuTUA7fNh                pop\n",
              "109266  zzzj3LYaZtYtbzSr  singer-songwriter\n",
              "\n",
              "[17365 rows x 2 columns]"
            ],
            "text/html": [
              "\n",
              "  <div id=\"df-dae25c7d-e284-4ebe-a8cb-0e11b6d0a99f\">\n",
              "    <div class=\"colab-df-container\">\n",
              "      <div>\n",
              "<style scoped>\n",
              "    .dataframe tbody tr th:only-of-type {\n",
              "        vertical-align: middle;\n",
              "    }\n",
              "\n",
              "    .dataframe tbody tr th {\n",
              "        vertical-align: top;\n",
              "    }\n",
              "\n",
              "    .dataframe thead th {\n",
              "        text-align: right;\n",
              "    }\n",
              "</style>\n",
              "<table border=\"1\" class=\"dataframe\">\n",
              "  <thead>\n",
              "    <tr style=\"text-align: right;\">\n",
              "      <th></th>\n",
              "      <th>id</th>\n",
              "      <th>genres</th>\n",
              "    </tr>\n",
              "  </thead>\n",
              "  <tbody>\n",
              "    <tr>\n",
              "      <th>0</th>\n",
              "      <td>0009fFIM1eYThaPg</td>\n",
              "      <td>pop</td>\n",
              "    </tr>\n",
              "    <tr>\n",
              "      <th>11</th>\n",
              "      <td>00P2bHdWFkghmDqz</td>\n",
              "      <td>soul</td>\n",
              "    </tr>\n",
              "    <tr>\n",
              "      <th>14</th>\n",
              "      <td>00XWljDxNBgBKEEA</td>\n",
              "      <td>pop</td>\n",
              "    </tr>\n",
              "    <tr>\n",
              "      <th>16</th>\n",
              "      <td>00b6fV3nx5z2b8Ls</td>\n",
              "      <td>pop</td>\n",
              "    </tr>\n",
              "    <tr>\n",
              "      <th>26</th>\n",
              "      <td>013QDoTqbexEwkHr</td>\n",
              "      <td>pop</td>\n",
              "    </tr>\n",
              "    <tr>\n",
              "      <th>...</th>\n",
              "      <td>...</td>\n",
              "      <td>...</td>\n",
              "    </tr>\n",
              "    <tr>\n",
              "      <th>109253</th>\n",
              "      <td>zzgS4ZqyswamEWNj</td>\n",
              "      <td>pop</td>\n",
              "    </tr>\n",
              "    <tr>\n",
              "      <th>109254</th>\n",
              "      <td>zziALZG1JQ2uUjcy</td>\n",
              "      <td>metal</td>\n",
              "    </tr>\n",
              "    <tr>\n",
              "      <th>109262</th>\n",
              "      <td>zzx8CWdM7qkxKQpC</td>\n",
              "      <td>indie rock</td>\n",
              "    </tr>\n",
              "    <tr>\n",
              "      <th>109265</th>\n",
              "      <td>zzz0n04uuTUA7fNh</td>\n",
              "      <td>pop</td>\n",
              "    </tr>\n",
              "    <tr>\n",
              "      <th>109266</th>\n",
              "      <td>zzzj3LYaZtYtbzSr</td>\n",
              "      <td>singer-songwriter</td>\n",
              "    </tr>\n",
              "  </tbody>\n",
              "</table>\n",
              "<p>17365 rows × 2 columns</p>\n",
              "</div>\n",
              "      <button class=\"colab-df-convert\" onclick=\"convertToInteractive('df-dae25c7d-e284-4ebe-a8cb-0e11b6d0a99f')\"\n",
              "              title=\"Convert this dataframe to an interactive table.\"\n",
              "              style=\"display:none;\">\n",
              "        \n",
              "  <svg xmlns=\"http://www.w3.org/2000/svg\" height=\"24px\"viewBox=\"0 0 24 24\"\n",
              "       width=\"24px\">\n",
              "    <path d=\"M0 0h24v24H0V0z\" fill=\"none\"/>\n",
              "    <path d=\"M18.56 5.44l.94 2.06.94-2.06 2.06-.94-2.06-.94-.94-2.06-.94 2.06-2.06.94zm-11 1L8.5 8.5l.94-2.06 2.06-.94-2.06-.94L8.5 2.5l-.94 2.06-2.06.94zm10 10l.94 2.06.94-2.06 2.06-.94-2.06-.94-.94-2.06-.94 2.06-2.06.94z\"/><path d=\"M17.41 7.96l-1.37-1.37c-.4-.4-.92-.59-1.43-.59-.52 0-1.04.2-1.43.59L10.3 9.45l-7.72 7.72c-.78.78-.78 2.05 0 2.83L4 21.41c.39.39.9.59 1.41.59.51 0 1.02-.2 1.41-.59l7.78-7.78 2.81-2.81c.8-.78.8-2.07 0-2.86zM5.41 20L4 18.59l7.72-7.72 1.47 1.35L5.41 20z\"/>\n",
              "  </svg>\n",
              "      </button>\n",
              "      \n",
              "  <style>\n",
              "    .colab-df-container {\n",
              "      display:flex;\n",
              "      flex-wrap:wrap;\n",
              "      gap: 12px;\n",
              "    }\n",
              "\n",
              "    .colab-df-convert {\n",
              "      background-color: #E8F0FE;\n",
              "      border: none;\n",
              "      border-radius: 50%;\n",
              "      cursor: pointer;\n",
              "      display: none;\n",
              "      fill: #1967D2;\n",
              "      height: 32px;\n",
              "      padding: 0 0 0 0;\n",
              "      width: 32px;\n",
              "    }\n",
              "\n",
              "    .colab-df-convert:hover {\n",
              "      background-color: #E2EBFA;\n",
              "      box-shadow: 0px 1px 2px rgba(60, 64, 67, 0.3), 0px 1px 3px 1px rgba(60, 64, 67, 0.15);\n",
              "      fill: #174EA6;\n",
              "    }\n",
              "\n",
              "    [theme=dark] .colab-df-convert {\n",
              "      background-color: #3B4455;\n",
              "      fill: #D2E3FC;\n",
              "    }\n",
              "\n",
              "    [theme=dark] .colab-df-convert:hover {\n",
              "      background-color: #434B5C;\n",
              "      box-shadow: 0px 1px 3px 1px rgba(0, 0, 0, 0.15);\n",
              "      filter: drop-shadow(0px 1px 2px rgba(0, 0, 0, 0.3));\n",
              "      fill: #FFFFFF;\n",
              "    }\n",
              "  </style>\n",
              "\n",
              "      <script>\n",
              "        const buttonEl =\n",
              "          document.querySelector('#df-dae25c7d-e284-4ebe-a8cb-0e11b6d0a99f button.colab-df-convert');\n",
              "        buttonEl.style.display =\n",
              "          google.colab.kernel.accessAllowed ? 'block' : 'none';\n",
              "\n",
              "        async function convertToInteractive(key) {\n",
              "          const element = document.querySelector('#df-dae25c7d-e284-4ebe-a8cb-0e11b6d0a99f');\n",
              "          const dataTable =\n",
              "            await google.colab.kernel.invokeFunction('convertToInteractive',\n",
              "                                                     [key], {});\n",
              "          if (!dataTable) return;\n",
              "\n",
              "          const docLinkHtml = 'Like what you see? Visit the ' +\n",
              "            '<a target=\"_blank\" href=https://colab.research.google.com/notebooks/data_table.ipynb>data table notebook</a>'\n",
              "            + ' to learn more about interactive tables.';\n",
              "          element.innerHTML = '';\n",
              "          dataTable['output_type'] = 'display_data';\n",
              "          await google.colab.output.renderOutput(dataTable, element);\n",
              "          const docLink = document.createElement('div');\n",
              "          docLink.innerHTML = docLinkHtml;\n",
              "          element.appendChild(docLink);\n",
              "        }\n",
              "      </script>\n",
              "    </div>\n",
              "  </div>\n",
              "  "
            ]
          },
          "metadata": {},
          "execution_count": 9
        }
      ],
      "source": [
        "#filter genre dataset as top15 genre only and later inner join with English.\n",
        "df_genres = pd.read_csv(os.path.join(CSV_FOLDER, 'id_genres.csv'), header=0, sep='\t')\n",
        "df_genre_top20 = df_genres[df_genres['genres'].isin(genre_counter_top_list)]\n",
        "df_genre_top20"
      ]
    },
    {
      "cell_type": "markdown",
      "metadata": {
        "id": "ZV16Isd-I32U"
      },
      "source": [
        "Dataframe narrowed down to 18603 rows. Notice that rank20 has only 169 data. So depending on the result we might need to narrow down to top10 genre?"
      ]
    },
    {
      "cell_type": "markdown",
      "metadata": {
        "id": "JnmVYJwKZ3x2"
      },
      "source": [
        "### Filter only English\n",
        " Note that this split have overlapping artist in both sets. See artist-grouped-stratified-split for an improved version."
      ]
    },
    {
      "cell_type": "code",
      "execution_count": 10,
      "metadata": {
        "colab": {
          "base_uri": "https://localhost:8080/",
          "height": 0
        },
        "id": "HMl8z7fWZ98M",
        "outputId": "709ac8d1-3851-43bf-c1db-68832b71a747"
      },
      "outputs": [
        {
          "output_type": "execute_result",
          "data": {
            "text/plain": [
              "                      id lang\n",
              "0       0009fFIM1eYThaPg   en\n",
              "1       0010xmHR6UICBOYT   en\n",
              "2       002Jyd0vN4HyCpqL   en\n",
              "3       006TYKNjNxWjfKjy   en\n",
              "4       007LIJOPQ4Sb98qV   en\n",
              "...                  ...  ...\n",
              "109264  zzyyPUs7hC9Nz2e1   en\n",
              "109265  zzz0n04uuTUA7fNh   en\n",
              "109266  zzzj3LYaZtYtbzSr   en\n",
              "109267  zzznMjZAKnJJXQSj   en\n",
              "109268  zzzwh2ktIWjsR7xp   en\n",
              "\n",
              "[84103 rows x 2 columns]"
            ],
            "text/html": [
              "\n",
              "  <div id=\"df-204efab3-b001-4dad-ac33-4a402b127210\">\n",
              "    <div class=\"colab-df-container\">\n",
              "      <div>\n",
              "<style scoped>\n",
              "    .dataframe tbody tr th:only-of-type {\n",
              "        vertical-align: middle;\n",
              "    }\n",
              "\n",
              "    .dataframe tbody tr th {\n",
              "        vertical-align: top;\n",
              "    }\n",
              "\n",
              "    .dataframe thead th {\n",
              "        text-align: right;\n",
              "    }\n",
              "</style>\n",
              "<table border=\"1\" class=\"dataframe\">\n",
              "  <thead>\n",
              "    <tr style=\"text-align: right;\">\n",
              "      <th></th>\n",
              "      <th>id</th>\n",
              "      <th>lang</th>\n",
              "    </tr>\n",
              "  </thead>\n",
              "  <tbody>\n",
              "    <tr>\n",
              "      <th>0</th>\n",
              "      <td>0009fFIM1eYThaPg</td>\n",
              "      <td>en</td>\n",
              "    </tr>\n",
              "    <tr>\n",
              "      <th>1</th>\n",
              "      <td>0010xmHR6UICBOYT</td>\n",
              "      <td>en</td>\n",
              "    </tr>\n",
              "    <tr>\n",
              "      <th>2</th>\n",
              "      <td>002Jyd0vN4HyCpqL</td>\n",
              "      <td>en</td>\n",
              "    </tr>\n",
              "    <tr>\n",
              "      <th>3</th>\n",
              "      <td>006TYKNjNxWjfKjy</td>\n",
              "      <td>en</td>\n",
              "    </tr>\n",
              "    <tr>\n",
              "      <th>4</th>\n",
              "      <td>007LIJOPQ4Sb98qV</td>\n",
              "      <td>en</td>\n",
              "    </tr>\n",
              "    <tr>\n",
              "      <th>...</th>\n",
              "      <td>...</td>\n",
              "      <td>...</td>\n",
              "    </tr>\n",
              "    <tr>\n",
              "      <th>109264</th>\n",
              "      <td>zzyyPUs7hC9Nz2e1</td>\n",
              "      <td>en</td>\n",
              "    </tr>\n",
              "    <tr>\n",
              "      <th>109265</th>\n",
              "      <td>zzz0n04uuTUA7fNh</td>\n",
              "      <td>en</td>\n",
              "    </tr>\n",
              "    <tr>\n",
              "      <th>109266</th>\n",
              "      <td>zzzj3LYaZtYtbzSr</td>\n",
              "      <td>en</td>\n",
              "    </tr>\n",
              "    <tr>\n",
              "      <th>109267</th>\n",
              "      <td>zzznMjZAKnJJXQSj</td>\n",
              "      <td>en</td>\n",
              "    </tr>\n",
              "    <tr>\n",
              "      <th>109268</th>\n",
              "      <td>zzzwh2ktIWjsR7xp</td>\n",
              "      <td>en</td>\n",
              "    </tr>\n",
              "  </tbody>\n",
              "</table>\n",
              "<p>84103 rows × 2 columns</p>\n",
              "</div>\n",
              "      <button class=\"colab-df-convert\" onclick=\"convertToInteractive('df-204efab3-b001-4dad-ac33-4a402b127210')\"\n",
              "              title=\"Convert this dataframe to an interactive table.\"\n",
              "              style=\"display:none;\">\n",
              "        \n",
              "  <svg xmlns=\"http://www.w3.org/2000/svg\" height=\"24px\"viewBox=\"0 0 24 24\"\n",
              "       width=\"24px\">\n",
              "    <path d=\"M0 0h24v24H0V0z\" fill=\"none\"/>\n",
              "    <path d=\"M18.56 5.44l.94 2.06.94-2.06 2.06-.94-2.06-.94-.94-2.06-.94 2.06-2.06.94zm-11 1L8.5 8.5l.94-2.06 2.06-.94-2.06-.94L8.5 2.5l-.94 2.06-2.06.94zm10 10l.94 2.06.94-2.06 2.06-.94-2.06-.94-.94-2.06-.94 2.06-2.06.94z\"/><path d=\"M17.41 7.96l-1.37-1.37c-.4-.4-.92-.59-1.43-.59-.52 0-1.04.2-1.43.59L10.3 9.45l-7.72 7.72c-.78.78-.78 2.05 0 2.83L4 21.41c.39.39.9.59 1.41.59.51 0 1.02-.2 1.41-.59l7.78-7.78 2.81-2.81c.8-.78.8-2.07 0-2.86zM5.41 20L4 18.59l7.72-7.72 1.47 1.35L5.41 20z\"/>\n",
              "  </svg>\n",
              "      </button>\n",
              "      \n",
              "  <style>\n",
              "    .colab-df-container {\n",
              "      display:flex;\n",
              "      flex-wrap:wrap;\n",
              "      gap: 12px;\n",
              "    }\n",
              "\n",
              "    .colab-df-convert {\n",
              "      background-color: #E8F0FE;\n",
              "      border: none;\n",
              "      border-radius: 50%;\n",
              "      cursor: pointer;\n",
              "      display: none;\n",
              "      fill: #1967D2;\n",
              "      height: 32px;\n",
              "      padding: 0 0 0 0;\n",
              "      width: 32px;\n",
              "    }\n",
              "\n",
              "    .colab-df-convert:hover {\n",
              "      background-color: #E2EBFA;\n",
              "      box-shadow: 0px 1px 2px rgba(60, 64, 67, 0.3), 0px 1px 3px 1px rgba(60, 64, 67, 0.15);\n",
              "      fill: #174EA6;\n",
              "    }\n",
              "\n",
              "    [theme=dark] .colab-df-convert {\n",
              "      background-color: #3B4455;\n",
              "      fill: #D2E3FC;\n",
              "    }\n",
              "\n",
              "    [theme=dark] .colab-df-convert:hover {\n",
              "      background-color: #434B5C;\n",
              "      box-shadow: 0px 1px 3px 1px rgba(0, 0, 0, 0.15);\n",
              "      filter: drop-shadow(0px 1px 2px rgba(0, 0, 0, 0.3));\n",
              "      fill: #FFFFFF;\n",
              "    }\n",
              "  </style>\n",
              "\n",
              "      <script>\n",
              "        const buttonEl =\n",
              "          document.querySelector('#df-204efab3-b001-4dad-ac33-4a402b127210 button.colab-df-convert');\n",
              "        buttonEl.style.display =\n",
              "          google.colab.kernel.accessAllowed ? 'block' : 'none';\n",
              "\n",
              "        async function convertToInteractive(key) {\n",
              "          const element = document.querySelector('#df-204efab3-b001-4dad-ac33-4a402b127210');\n",
              "          const dataTable =\n",
              "            await google.colab.kernel.invokeFunction('convertToInteractive',\n",
              "                                                     [key], {});\n",
              "          if (!dataTable) return;\n",
              "\n",
              "          const docLinkHtml = 'Like what you see? Visit the ' +\n",
              "            '<a target=\"_blank\" href=https://colab.research.google.com/notebooks/data_table.ipynb>data table notebook</a>'\n",
              "            + ' to learn more about interactive tables.';\n",
              "          element.innerHTML = '';\n",
              "          dataTable['output_type'] = 'display_data';\n",
              "          await google.colab.output.renderOutput(dataTable, element);\n",
              "          const docLink = document.createElement('div');\n",
              "          docLink.innerHTML = docLinkHtml;\n",
              "          element.appendChild(docLink);\n",
              "        }\n",
              "      </script>\n",
              "    </div>\n",
              "  </div>\n",
              "  "
            ]
          },
          "metadata": {},
          "execution_count": 10
        }
      ],
      "source": [
        "en_lang =['en']\n",
        "df_lang = pd.read_csv(os.path.join(CSV_FOLDER, 'id_lang.csv'), header=0, sep='\t')\n",
        "df_lang_en=df_lang[ df_lang['lang'].isin(en_lang) ]\n",
        "df_lang_en"
      ]
    },
    {
      "cell_type": "markdown",
      "metadata": {
        "id": "30dqqqp4G9IQ"
      },
      "source": [
        "Originally it was 109269 rows, and now there are 84103 rows.\n",
        "\n",
        "### Now, combine split by language and genre, so we classify each genre by language."
      ]
    },
    {
      "cell_type": "code",
      "execution_count": 11,
      "metadata": {
        "colab": {
          "base_uri": "https://localhost:8080/",
          "height": 0
        },
        "id": "6-3_sGsNJuyY",
        "outputId": "2a58b002-86a1-4e98-be37-43a8f398992b"
      },
      "outputs": [
        {
          "output_type": "execute_result",
          "data": {
            "text/plain": [
              "                      id             genres lang\n",
              "0       0009fFIM1eYThaPg                pop   en\n",
              "11      00P2bHdWFkghmDqz               soul   en\n",
              "16      00b6fV3nx5z2b8Ls                pop   en\n",
              "26      013QDoTqbexEwkHr                pop   en\n",
              "30      01EKNot8qVgZpKM7               rock   en\n",
              "...                  ...                ...  ...\n",
              "109253  zzgS4ZqyswamEWNj                pop   en\n",
              "109254  zziALZG1JQ2uUjcy              metal   en\n",
              "109262  zzx8CWdM7qkxKQpC         indie rock   en\n",
              "109265  zzz0n04uuTUA7fNh                pop   en\n",
              "109266  zzzj3LYaZtYtbzSr  singer-songwriter   en\n",
              "\n",
              "[14577 rows x 3 columns]"
            ],
            "text/html": [
              "\n",
              "  <div id=\"df-0d30eb80-a47d-4ff6-a968-625ac6f24c18\">\n",
              "    <div class=\"colab-df-container\">\n",
              "      <div>\n",
              "<style scoped>\n",
              "    .dataframe tbody tr th:only-of-type {\n",
              "        vertical-align: middle;\n",
              "    }\n",
              "\n",
              "    .dataframe tbody tr th {\n",
              "        vertical-align: top;\n",
              "    }\n",
              "\n",
              "    .dataframe thead th {\n",
              "        text-align: right;\n",
              "    }\n",
              "</style>\n",
              "<table border=\"1\" class=\"dataframe\">\n",
              "  <thead>\n",
              "    <tr style=\"text-align: right;\">\n",
              "      <th></th>\n",
              "      <th>id</th>\n",
              "      <th>genres</th>\n",
              "      <th>lang</th>\n",
              "    </tr>\n",
              "  </thead>\n",
              "  <tbody>\n",
              "    <tr>\n",
              "      <th>0</th>\n",
              "      <td>0009fFIM1eYThaPg</td>\n",
              "      <td>pop</td>\n",
              "      <td>en</td>\n",
              "    </tr>\n",
              "    <tr>\n",
              "      <th>11</th>\n",
              "      <td>00P2bHdWFkghmDqz</td>\n",
              "      <td>soul</td>\n",
              "      <td>en</td>\n",
              "    </tr>\n",
              "    <tr>\n",
              "      <th>16</th>\n",
              "      <td>00b6fV3nx5z2b8Ls</td>\n",
              "      <td>pop</td>\n",
              "      <td>en</td>\n",
              "    </tr>\n",
              "    <tr>\n",
              "      <th>26</th>\n",
              "      <td>013QDoTqbexEwkHr</td>\n",
              "      <td>pop</td>\n",
              "      <td>en</td>\n",
              "    </tr>\n",
              "    <tr>\n",
              "      <th>30</th>\n",
              "      <td>01EKNot8qVgZpKM7</td>\n",
              "      <td>rock</td>\n",
              "      <td>en</td>\n",
              "    </tr>\n",
              "    <tr>\n",
              "      <th>...</th>\n",
              "      <td>...</td>\n",
              "      <td>...</td>\n",
              "      <td>...</td>\n",
              "    </tr>\n",
              "    <tr>\n",
              "      <th>109253</th>\n",
              "      <td>zzgS4ZqyswamEWNj</td>\n",
              "      <td>pop</td>\n",
              "      <td>en</td>\n",
              "    </tr>\n",
              "    <tr>\n",
              "      <th>109254</th>\n",
              "      <td>zziALZG1JQ2uUjcy</td>\n",
              "      <td>metal</td>\n",
              "      <td>en</td>\n",
              "    </tr>\n",
              "    <tr>\n",
              "      <th>109262</th>\n",
              "      <td>zzx8CWdM7qkxKQpC</td>\n",
              "      <td>indie rock</td>\n",
              "      <td>en</td>\n",
              "    </tr>\n",
              "    <tr>\n",
              "      <th>109265</th>\n",
              "      <td>zzz0n04uuTUA7fNh</td>\n",
              "      <td>pop</td>\n",
              "      <td>en</td>\n",
              "    </tr>\n",
              "    <tr>\n",
              "      <th>109266</th>\n",
              "      <td>zzzj3LYaZtYtbzSr</td>\n",
              "      <td>singer-songwriter</td>\n",
              "      <td>en</td>\n",
              "    </tr>\n",
              "  </tbody>\n",
              "</table>\n",
              "<p>14577 rows × 3 columns</p>\n",
              "</div>\n",
              "      <button class=\"colab-df-convert\" onclick=\"convertToInteractive('df-0d30eb80-a47d-4ff6-a968-625ac6f24c18')\"\n",
              "              title=\"Convert this dataframe to an interactive table.\"\n",
              "              style=\"display:none;\">\n",
              "        \n",
              "  <svg xmlns=\"http://www.w3.org/2000/svg\" height=\"24px\"viewBox=\"0 0 24 24\"\n",
              "       width=\"24px\">\n",
              "    <path d=\"M0 0h24v24H0V0z\" fill=\"none\"/>\n",
              "    <path d=\"M18.56 5.44l.94 2.06.94-2.06 2.06-.94-2.06-.94-.94-2.06-.94 2.06-2.06.94zm-11 1L8.5 8.5l.94-2.06 2.06-.94-2.06-.94L8.5 2.5l-.94 2.06-2.06.94zm10 10l.94 2.06.94-2.06 2.06-.94-2.06-.94-.94-2.06-.94 2.06-2.06.94z\"/><path d=\"M17.41 7.96l-1.37-1.37c-.4-.4-.92-.59-1.43-.59-.52 0-1.04.2-1.43.59L10.3 9.45l-7.72 7.72c-.78.78-.78 2.05 0 2.83L4 21.41c.39.39.9.59 1.41.59.51 0 1.02-.2 1.41-.59l7.78-7.78 2.81-2.81c.8-.78.8-2.07 0-2.86zM5.41 20L4 18.59l7.72-7.72 1.47 1.35L5.41 20z\"/>\n",
              "  </svg>\n",
              "      </button>\n",
              "      \n",
              "  <style>\n",
              "    .colab-df-container {\n",
              "      display:flex;\n",
              "      flex-wrap:wrap;\n",
              "      gap: 12px;\n",
              "    }\n",
              "\n",
              "    .colab-df-convert {\n",
              "      background-color: #E8F0FE;\n",
              "      border: none;\n",
              "      border-radius: 50%;\n",
              "      cursor: pointer;\n",
              "      display: none;\n",
              "      fill: #1967D2;\n",
              "      height: 32px;\n",
              "      padding: 0 0 0 0;\n",
              "      width: 32px;\n",
              "    }\n",
              "\n",
              "    .colab-df-convert:hover {\n",
              "      background-color: #E2EBFA;\n",
              "      box-shadow: 0px 1px 2px rgba(60, 64, 67, 0.3), 0px 1px 3px 1px rgba(60, 64, 67, 0.15);\n",
              "      fill: #174EA6;\n",
              "    }\n",
              "\n",
              "    [theme=dark] .colab-df-convert {\n",
              "      background-color: #3B4455;\n",
              "      fill: #D2E3FC;\n",
              "    }\n",
              "\n",
              "    [theme=dark] .colab-df-convert:hover {\n",
              "      background-color: #434B5C;\n",
              "      box-shadow: 0px 1px 3px 1px rgba(0, 0, 0, 0.15);\n",
              "      filter: drop-shadow(0px 1px 2px rgba(0, 0, 0, 0.3));\n",
              "      fill: #FFFFFF;\n",
              "    }\n",
              "  </style>\n",
              "\n",
              "      <script>\n",
              "        const buttonEl =\n",
              "          document.querySelector('#df-0d30eb80-a47d-4ff6-a968-625ac6f24c18 button.colab-df-convert');\n",
              "        buttonEl.style.display =\n",
              "          google.colab.kernel.accessAllowed ? 'block' : 'none';\n",
              "\n",
              "        async function convertToInteractive(key) {\n",
              "          const element = document.querySelector('#df-0d30eb80-a47d-4ff6-a968-625ac6f24c18');\n",
              "          const dataTable =\n",
              "            await google.colab.kernel.invokeFunction('convertToInteractive',\n",
              "                                                     [key], {});\n",
              "          if (!dataTable) return;\n",
              "\n",
              "          const docLinkHtml = 'Like what you see? Visit the ' +\n",
              "            '<a target=\"_blank\" href=https://colab.research.google.com/notebooks/data_table.ipynb>data table notebook</a>'\n",
              "            + ' to learn more about interactive tables.';\n",
              "          element.innerHTML = '';\n",
              "          dataTable['output_type'] = 'display_data';\n",
              "          await google.colab.output.renderOutput(dataTable, element);\n",
              "          const docLink = document.createElement('div');\n",
              "          docLink.innerHTML = docLinkHtml;\n",
              "          element.appendChild(docLink);\n",
              "        }\n",
              "      </script>\n",
              "    </div>\n",
              "  </div>\n",
              "  "
            ]
          },
          "metadata": {},
          "execution_count": 11
        }
      ],
      "source": [
        "# merge three dataframes into one\n",
        "df_genre_by_lang = pd.concat([df_genre_top20['id'], df_genre_top20['genres'], df_lang_en['lang']]\n",
        "                             , join='inner' ,axis=1)\n",
        "\n",
        "#Do inner join\n",
        "df_genre_by_lang\n"
      ]
    },
    {
      "cell_type": "markdown",
      "metadata": {
        "id": "xFqS5uIqMbTV"
      },
      "source": [
        "ToDo: concatenate to the dataframe!"
      ]
    },
    {
      "cell_type": "code",
      "execution_count": 12,
      "metadata": {
        "id": "d1wY2eZnJ_xG"
      },
      "outputs": [],
      "source": [
        "final_genre_list = [\"pop\", \"rock\", \"soul\", \"indie rock\", \"rap\", \"electronic\", \"folk\", \"singer-songwriter\", \"indie pop\", \"punk\"]\n",
        "#df_lang_en=df_lang[ df_lang['lang'].isin(en_lang) ]\n",
        "df_genre_by_lang = df_genre_by_lang[ df_genre_by_lang[\"genres\"].isin(final_genre_list) ]"
      ]
    },
    {
      "cell_type": "markdown",
      "metadata": {
        "id": "sEBgSexPJwaB"
      },
      "source": [
        "After inner join, we can drop the bottom 5, alternative rock, hard rock, experimental, classic rock, and metal"
      ]
    },
    {
      "cell_type": "markdown",
      "metadata": {
        "id": "XM5gcrzmTh9x"
      },
      "source": [
        "Reindex"
      ]
    },
    {
      "cell_type": "code",
      "execution_count": 13,
      "metadata": {
        "colab": {
          "base_uri": "https://localhost:8080/",
          "height": 0
        },
        "id": "DbF16a17SN-F",
        "outputId": "79dd8d84-c616-4167-c293-654df4f27984"
      },
      "outputs": [
        {
          "output_type": "execute_result",
          "data": {
            "text/plain": [
              "                     id             genres lang\n",
              "0      0009fFIM1eYThaPg                pop   en\n",
              "1      00P2bHdWFkghmDqz               soul   en\n",
              "2      00b6fV3nx5z2b8Ls                pop   en\n",
              "3      013QDoTqbexEwkHr                pop   en\n",
              "4      01EKNot8qVgZpKM7               rock   en\n",
              "...                 ...                ...  ...\n",
              "13535  zzT504Z94j1IAuc3         indie rock   en\n",
              "13536  zzgS4ZqyswamEWNj                pop   en\n",
              "13537  zzx8CWdM7qkxKQpC         indie rock   en\n",
              "13538  zzz0n04uuTUA7fNh                pop   en\n",
              "13539  zzzj3LYaZtYtbzSr  singer-songwriter   en\n",
              "\n",
              "[13540 rows x 3 columns]"
            ],
            "text/html": [
              "\n",
              "  <div id=\"df-e583957d-97e1-4bb0-98b3-59fc8bfc0f81\">\n",
              "    <div class=\"colab-df-container\">\n",
              "      <div>\n",
              "<style scoped>\n",
              "    .dataframe tbody tr th:only-of-type {\n",
              "        vertical-align: middle;\n",
              "    }\n",
              "\n",
              "    .dataframe tbody tr th {\n",
              "        vertical-align: top;\n",
              "    }\n",
              "\n",
              "    .dataframe thead th {\n",
              "        text-align: right;\n",
              "    }\n",
              "</style>\n",
              "<table border=\"1\" class=\"dataframe\">\n",
              "  <thead>\n",
              "    <tr style=\"text-align: right;\">\n",
              "      <th></th>\n",
              "      <th>id</th>\n",
              "      <th>genres</th>\n",
              "      <th>lang</th>\n",
              "    </tr>\n",
              "  </thead>\n",
              "  <tbody>\n",
              "    <tr>\n",
              "      <th>0</th>\n",
              "      <td>0009fFIM1eYThaPg</td>\n",
              "      <td>pop</td>\n",
              "      <td>en</td>\n",
              "    </tr>\n",
              "    <tr>\n",
              "      <th>1</th>\n",
              "      <td>00P2bHdWFkghmDqz</td>\n",
              "      <td>soul</td>\n",
              "      <td>en</td>\n",
              "    </tr>\n",
              "    <tr>\n",
              "      <th>2</th>\n",
              "      <td>00b6fV3nx5z2b8Ls</td>\n",
              "      <td>pop</td>\n",
              "      <td>en</td>\n",
              "    </tr>\n",
              "    <tr>\n",
              "      <th>3</th>\n",
              "      <td>013QDoTqbexEwkHr</td>\n",
              "      <td>pop</td>\n",
              "      <td>en</td>\n",
              "    </tr>\n",
              "    <tr>\n",
              "      <th>4</th>\n",
              "      <td>01EKNot8qVgZpKM7</td>\n",
              "      <td>rock</td>\n",
              "      <td>en</td>\n",
              "    </tr>\n",
              "    <tr>\n",
              "      <th>...</th>\n",
              "      <td>...</td>\n",
              "      <td>...</td>\n",
              "      <td>...</td>\n",
              "    </tr>\n",
              "    <tr>\n",
              "      <th>13535</th>\n",
              "      <td>zzT504Z94j1IAuc3</td>\n",
              "      <td>indie rock</td>\n",
              "      <td>en</td>\n",
              "    </tr>\n",
              "    <tr>\n",
              "      <th>13536</th>\n",
              "      <td>zzgS4ZqyswamEWNj</td>\n",
              "      <td>pop</td>\n",
              "      <td>en</td>\n",
              "    </tr>\n",
              "    <tr>\n",
              "      <th>13537</th>\n",
              "      <td>zzx8CWdM7qkxKQpC</td>\n",
              "      <td>indie rock</td>\n",
              "      <td>en</td>\n",
              "    </tr>\n",
              "    <tr>\n",
              "      <th>13538</th>\n",
              "      <td>zzz0n04uuTUA7fNh</td>\n",
              "      <td>pop</td>\n",
              "      <td>en</td>\n",
              "    </tr>\n",
              "    <tr>\n",
              "      <th>13539</th>\n",
              "      <td>zzzj3LYaZtYtbzSr</td>\n",
              "      <td>singer-songwriter</td>\n",
              "      <td>en</td>\n",
              "    </tr>\n",
              "  </tbody>\n",
              "</table>\n",
              "<p>13540 rows × 3 columns</p>\n",
              "</div>\n",
              "      <button class=\"colab-df-convert\" onclick=\"convertToInteractive('df-e583957d-97e1-4bb0-98b3-59fc8bfc0f81')\"\n",
              "              title=\"Convert this dataframe to an interactive table.\"\n",
              "              style=\"display:none;\">\n",
              "        \n",
              "  <svg xmlns=\"http://www.w3.org/2000/svg\" height=\"24px\"viewBox=\"0 0 24 24\"\n",
              "       width=\"24px\">\n",
              "    <path d=\"M0 0h24v24H0V0z\" fill=\"none\"/>\n",
              "    <path d=\"M18.56 5.44l.94 2.06.94-2.06 2.06-.94-2.06-.94-.94-2.06-.94 2.06-2.06.94zm-11 1L8.5 8.5l.94-2.06 2.06-.94-2.06-.94L8.5 2.5l-.94 2.06-2.06.94zm10 10l.94 2.06.94-2.06 2.06-.94-2.06-.94-.94-2.06-.94 2.06-2.06.94z\"/><path d=\"M17.41 7.96l-1.37-1.37c-.4-.4-.92-.59-1.43-.59-.52 0-1.04.2-1.43.59L10.3 9.45l-7.72 7.72c-.78.78-.78 2.05 0 2.83L4 21.41c.39.39.9.59 1.41.59.51 0 1.02-.2 1.41-.59l7.78-7.78 2.81-2.81c.8-.78.8-2.07 0-2.86zM5.41 20L4 18.59l7.72-7.72 1.47 1.35L5.41 20z\"/>\n",
              "  </svg>\n",
              "      </button>\n",
              "      \n",
              "  <style>\n",
              "    .colab-df-container {\n",
              "      display:flex;\n",
              "      flex-wrap:wrap;\n",
              "      gap: 12px;\n",
              "    }\n",
              "\n",
              "    .colab-df-convert {\n",
              "      background-color: #E8F0FE;\n",
              "      border: none;\n",
              "      border-radius: 50%;\n",
              "      cursor: pointer;\n",
              "      display: none;\n",
              "      fill: #1967D2;\n",
              "      height: 32px;\n",
              "      padding: 0 0 0 0;\n",
              "      width: 32px;\n",
              "    }\n",
              "\n",
              "    .colab-df-convert:hover {\n",
              "      background-color: #E2EBFA;\n",
              "      box-shadow: 0px 1px 2px rgba(60, 64, 67, 0.3), 0px 1px 3px 1px rgba(60, 64, 67, 0.15);\n",
              "      fill: #174EA6;\n",
              "    }\n",
              "\n",
              "    [theme=dark] .colab-df-convert {\n",
              "      background-color: #3B4455;\n",
              "      fill: #D2E3FC;\n",
              "    }\n",
              "\n",
              "    [theme=dark] .colab-df-convert:hover {\n",
              "      background-color: #434B5C;\n",
              "      box-shadow: 0px 1px 3px 1px rgba(0, 0, 0, 0.15);\n",
              "      filter: drop-shadow(0px 1px 2px rgba(0, 0, 0, 0.3));\n",
              "      fill: #FFFFFF;\n",
              "    }\n",
              "  </style>\n",
              "\n",
              "      <script>\n",
              "        const buttonEl =\n",
              "          document.querySelector('#df-e583957d-97e1-4bb0-98b3-59fc8bfc0f81 button.colab-df-convert');\n",
              "        buttonEl.style.display =\n",
              "          google.colab.kernel.accessAllowed ? 'block' : 'none';\n",
              "\n",
              "        async function convertToInteractive(key) {\n",
              "          const element = document.querySelector('#df-e583957d-97e1-4bb0-98b3-59fc8bfc0f81');\n",
              "          const dataTable =\n",
              "            await google.colab.kernel.invokeFunction('convertToInteractive',\n",
              "                                                     [key], {});\n",
              "          if (!dataTable) return;\n",
              "\n",
              "          const docLinkHtml = 'Like what you see? Visit the ' +\n",
              "            '<a target=\"_blank\" href=https://colab.research.google.com/notebooks/data_table.ipynb>data table notebook</a>'\n",
              "            + ' to learn more about interactive tables.';\n",
              "          element.innerHTML = '';\n",
              "          dataTable['output_type'] = 'display_data';\n",
              "          await google.colab.output.renderOutput(dataTable, element);\n",
              "          const docLink = document.createElement('div');\n",
              "          docLink.innerHTML = docLinkHtml;\n",
              "          element.appendChild(docLink);\n",
              "        }\n",
              "      </script>\n",
              "    </div>\n",
              "  </div>\n",
              "  "
            ]
          },
          "metadata": {},
          "execution_count": 13
        }
      ],
      "source": [
        "df_genre_by_lang = df_genre_by_lang.reset_index(drop=True)\n",
        "df_genre_by_lang"
      ]
    },
    {
      "cell_type": "markdown",
      "metadata": {
        "id": "8JJvXhg8akUW"
      },
      "source": [
        "### Get lyrics document as dataframe and append to X_train, X_test"
      ]
    },
    {
      "cell_type": "code",
      "execution_count": 14,
      "metadata": {
        "colab": {
          "base_uri": "https://localhost:8080/",
          "height": 424
        },
        "id": "Jvg0HbHVpQ8w",
        "outputId": "6ae93719-db1c-4687-b2f5-376fb882596e"
      },
      "outputs": [
        {
          "output_type": "execute_result",
          "data": {
            "text/plain": [
              "                     id             genres lang lyric\n",
              "0      0009fFIM1eYThaPg                pop   en      \n",
              "1      00P2bHdWFkghmDqz               soul   en      \n",
              "2      00b6fV3nx5z2b8Ls                pop   en      \n",
              "3      013QDoTqbexEwkHr                pop   en      \n",
              "4      01EKNot8qVgZpKM7               rock   en      \n",
              "...                 ...                ...  ...   ...\n",
              "13535  zzT504Z94j1IAuc3         indie rock   en      \n",
              "13536  zzgS4ZqyswamEWNj                pop   en      \n",
              "13537  zzx8CWdM7qkxKQpC         indie rock   en      \n",
              "13538  zzz0n04uuTUA7fNh                pop   en      \n",
              "13539  zzzj3LYaZtYtbzSr  singer-songwriter   en      \n",
              "\n",
              "[13540 rows x 4 columns]"
            ],
            "text/html": [
              "\n",
              "  <div id=\"df-ed5e6854-14b5-4385-ba71-91bdfbfbcc58\">\n",
              "    <div class=\"colab-df-container\">\n",
              "      <div>\n",
              "<style scoped>\n",
              "    .dataframe tbody tr th:only-of-type {\n",
              "        vertical-align: middle;\n",
              "    }\n",
              "\n",
              "    .dataframe tbody tr th {\n",
              "        vertical-align: top;\n",
              "    }\n",
              "\n",
              "    .dataframe thead th {\n",
              "        text-align: right;\n",
              "    }\n",
              "</style>\n",
              "<table border=\"1\" class=\"dataframe\">\n",
              "  <thead>\n",
              "    <tr style=\"text-align: right;\">\n",
              "      <th></th>\n",
              "      <th>id</th>\n",
              "      <th>genres</th>\n",
              "      <th>lang</th>\n",
              "      <th>lyric</th>\n",
              "    </tr>\n",
              "  </thead>\n",
              "  <tbody>\n",
              "    <tr>\n",
              "      <th>0</th>\n",
              "      <td>0009fFIM1eYThaPg</td>\n",
              "      <td>pop</td>\n",
              "      <td>en</td>\n",
              "      <td></td>\n",
              "    </tr>\n",
              "    <tr>\n",
              "      <th>1</th>\n",
              "      <td>00P2bHdWFkghmDqz</td>\n",
              "      <td>soul</td>\n",
              "      <td>en</td>\n",
              "      <td></td>\n",
              "    </tr>\n",
              "    <tr>\n",
              "      <th>2</th>\n",
              "      <td>00b6fV3nx5z2b8Ls</td>\n",
              "      <td>pop</td>\n",
              "      <td>en</td>\n",
              "      <td></td>\n",
              "    </tr>\n",
              "    <tr>\n",
              "      <th>3</th>\n",
              "      <td>013QDoTqbexEwkHr</td>\n",
              "      <td>pop</td>\n",
              "      <td>en</td>\n",
              "      <td></td>\n",
              "    </tr>\n",
              "    <tr>\n",
              "      <th>4</th>\n",
              "      <td>01EKNot8qVgZpKM7</td>\n",
              "      <td>rock</td>\n",
              "      <td>en</td>\n",
              "      <td></td>\n",
              "    </tr>\n",
              "    <tr>\n",
              "      <th>...</th>\n",
              "      <td>...</td>\n",
              "      <td>...</td>\n",
              "      <td>...</td>\n",
              "      <td>...</td>\n",
              "    </tr>\n",
              "    <tr>\n",
              "      <th>13535</th>\n",
              "      <td>zzT504Z94j1IAuc3</td>\n",
              "      <td>indie rock</td>\n",
              "      <td>en</td>\n",
              "      <td></td>\n",
              "    </tr>\n",
              "    <tr>\n",
              "      <th>13536</th>\n",
              "      <td>zzgS4ZqyswamEWNj</td>\n",
              "      <td>pop</td>\n",
              "      <td>en</td>\n",
              "      <td></td>\n",
              "    </tr>\n",
              "    <tr>\n",
              "      <th>13537</th>\n",
              "      <td>zzx8CWdM7qkxKQpC</td>\n",
              "      <td>indie rock</td>\n",
              "      <td>en</td>\n",
              "      <td></td>\n",
              "    </tr>\n",
              "    <tr>\n",
              "      <th>13538</th>\n",
              "      <td>zzz0n04uuTUA7fNh</td>\n",
              "      <td>pop</td>\n",
              "      <td>en</td>\n",
              "      <td></td>\n",
              "    </tr>\n",
              "    <tr>\n",
              "      <th>13539</th>\n",
              "      <td>zzzj3LYaZtYtbzSr</td>\n",
              "      <td>singer-songwriter</td>\n",
              "      <td>en</td>\n",
              "      <td></td>\n",
              "    </tr>\n",
              "  </tbody>\n",
              "</table>\n",
              "<p>13540 rows × 4 columns</p>\n",
              "</div>\n",
              "      <button class=\"colab-df-convert\" onclick=\"convertToInteractive('df-ed5e6854-14b5-4385-ba71-91bdfbfbcc58')\"\n",
              "              title=\"Convert this dataframe to an interactive table.\"\n",
              "              style=\"display:none;\">\n",
              "        \n",
              "  <svg xmlns=\"http://www.w3.org/2000/svg\" height=\"24px\"viewBox=\"0 0 24 24\"\n",
              "       width=\"24px\">\n",
              "    <path d=\"M0 0h24v24H0V0z\" fill=\"none\"/>\n",
              "    <path d=\"M18.56 5.44l.94 2.06.94-2.06 2.06-.94-2.06-.94-.94-2.06-.94 2.06-2.06.94zm-11 1L8.5 8.5l.94-2.06 2.06-.94-2.06-.94L8.5 2.5l-.94 2.06-2.06.94zm10 10l.94 2.06.94-2.06 2.06-.94-2.06-.94-.94-2.06-.94 2.06-2.06.94z\"/><path d=\"M17.41 7.96l-1.37-1.37c-.4-.4-.92-.59-1.43-.59-.52 0-1.04.2-1.43.59L10.3 9.45l-7.72 7.72c-.78.78-.78 2.05 0 2.83L4 21.41c.39.39.9.59 1.41.59.51 0 1.02-.2 1.41-.59l7.78-7.78 2.81-2.81c.8-.78.8-2.07 0-2.86zM5.41 20L4 18.59l7.72-7.72 1.47 1.35L5.41 20z\"/>\n",
              "  </svg>\n",
              "      </button>\n",
              "      \n",
              "  <style>\n",
              "    .colab-df-container {\n",
              "      display:flex;\n",
              "      flex-wrap:wrap;\n",
              "      gap: 12px;\n",
              "    }\n",
              "\n",
              "    .colab-df-convert {\n",
              "      background-color: #E8F0FE;\n",
              "      border: none;\n",
              "      border-radius: 50%;\n",
              "      cursor: pointer;\n",
              "      display: none;\n",
              "      fill: #1967D2;\n",
              "      height: 32px;\n",
              "      padding: 0 0 0 0;\n",
              "      width: 32px;\n",
              "    }\n",
              "\n",
              "    .colab-df-convert:hover {\n",
              "      background-color: #E2EBFA;\n",
              "      box-shadow: 0px 1px 2px rgba(60, 64, 67, 0.3), 0px 1px 3px 1px rgba(60, 64, 67, 0.15);\n",
              "      fill: #174EA6;\n",
              "    }\n",
              "\n",
              "    [theme=dark] .colab-df-convert {\n",
              "      background-color: #3B4455;\n",
              "      fill: #D2E3FC;\n",
              "    }\n",
              "\n",
              "    [theme=dark] .colab-df-convert:hover {\n",
              "      background-color: #434B5C;\n",
              "      box-shadow: 0px 1px 3px 1px rgba(0, 0, 0, 0.15);\n",
              "      filter: drop-shadow(0px 1px 2px rgba(0, 0, 0, 0.3));\n",
              "      fill: #FFFFFF;\n",
              "    }\n",
              "  </style>\n",
              "\n",
              "      <script>\n",
              "        const buttonEl =\n",
              "          document.querySelector('#df-ed5e6854-14b5-4385-ba71-91bdfbfbcc58 button.colab-df-convert');\n",
              "        buttonEl.style.display =\n",
              "          google.colab.kernel.accessAllowed ? 'block' : 'none';\n",
              "\n",
              "        async function convertToInteractive(key) {\n",
              "          const element = document.querySelector('#df-ed5e6854-14b5-4385-ba71-91bdfbfbcc58');\n",
              "          const dataTable =\n",
              "            await google.colab.kernel.invokeFunction('convertToInteractive',\n",
              "                                                     [key], {});\n",
              "          if (!dataTable) return;\n",
              "\n",
              "          const docLinkHtml = 'Like what you see? Visit the ' +\n",
              "            '<a target=\"_blank\" href=https://colab.research.google.com/notebooks/data_table.ipynb>data table notebook</a>'\n",
              "            + ' to learn more about interactive tables.';\n",
              "          element.innerHTML = '';\n",
              "          dataTable['output_type'] = 'display_data';\n",
              "          await google.colab.output.renderOutput(dataTable, element);\n",
              "          const docLink = document.createElement('div');\n",
              "          docLink.innerHTML = docLinkHtml;\n",
              "          element.appendChild(docLink);\n",
              "        }\n",
              "      </script>\n",
              "    </div>\n",
              "  </div>\n",
              "  "
            ]
          },
          "metadata": {},
          "execution_count": 14
        }
      ],
      "source": [
        "#create lyric column\n",
        "df_genre_by_lang[\"lyric\"] = \"\"\n",
        "df_genre_by_lang"
      ]
    },
    {
      "cell_type": "code",
      "execution_count": 15,
      "metadata": {
        "colab": {
          "base_uri": "https://localhost:8080/"
        },
        "id": "KMGDkAFliFCB",
        "outputId": "cb490e40-f5f3-4eb4-cb6d-c40db2c9a9e2"
      },
      "outputs": [
        {
          "output_type": "stream",
          "name": "stdout",
          "text": [
            "Archive:  drive/MyDrive/music4all/lyrics.zip\n",
            "replace /content/lyrics/0009fFIM1eYThaPg.txt? [y]es, [n]o, [A]ll, [N]one, [r]ename: "
          ]
        }
      ],
      "source": [
        "#create temporary lyric folder on google collab\n",
        "# do not read texts from google drive. it is slow.\n",
        "ZIP_FILE =\"drive/MyDrive/music4all/lyrics.zip\"\n",
        "\n",
        "!unzip drive/MyDrive/music4all/lyrics.zip -d /content/"
      ]
    },
    {
      "cell_type": "markdown",
      "metadata": {
        "id": "t7TxInTiNZwE"
      },
      "source": [
        "### This time, apply stemming and normilize words"
      ]
    },
    {
      "cell_type": "code",
      "source": [
        "import nltk\n",
        "nltk.download('wordnet')\n",
        "nltk.download('omw-1.4')"
      ],
      "metadata": {
        "colab": {
          "base_uri": "https://localhost:8080/"
        },
        "id": "KhsXgfzaUmTs",
        "outputId": "48dd00c4-cf21-461a-f18e-ff4c4b51e23b"
      },
      "execution_count": 16,
      "outputs": [
        {
          "output_type": "stream",
          "name": "stderr",
          "text": [
            "[nltk_data] Downloading package wordnet to /root/nltk_data...\n",
            "[nltk_data]   Package wordnet is already up-to-date!\n",
            "[nltk_data] Downloading package omw-1.4 to /root/nltk_data...\n",
            "[nltk_data]   Package omw-1.4 is already up-to-date!\n"
          ]
        },
        {
          "output_type": "execute_result",
          "data": {
            "text/plain": [
              "True"
            ]
          },
          "metadata": {},
          "execution_count": 16
        }
      ]
    },
    {
      "cell_type": "code",
      "execution_count": 17,
      "metadata": {
        "id": "Pe2zXk9nNpyh"
      },
      "outputs": [],
      "source": [
        "from nltk.stem.porter import PorterStemmer\n",
        "from nltk.corpus import wordnet\n",
        "stemmer = PorterStemmer()"
      ]
    },
    {
      "cell_type": "code",
      "execution_count": 18,
      "metadata": {
        "colab": {
          "base_uri": "https://localhost:8080/"
        },
        "id": "qH8bKoDnv24t",
        "outputId": "cd56fedf-7695-4351-b015-45d1ed51db9b"
      },
      "outputs": [
        {
          "output_type": "stream",
          "name": "stdout",
          "text": [
            "['this', 'is', 'a', 'test', 'sentence', 'yo', '123', 'today2022']\n",
            "['is', 'a', 'test', 'sentence']\n"
          ]
        }
      ],
      "source": [
        "text = \"This is a test sentence. Yo, 123 today2022\"\n",
        "text= text.replace(',', '')\n",
        "text = text.replace('.', '').lower() \n",
        "text_tokens = [word for word in text.split(' ') ]\n",
        "print(text_tokens)\n",
        "\n",
        "#text_tokens_alphabet = []\n",
        "#for word in text.split(' '):\n",
        "#  temp_word = stemmer.stem(word)\n",
        "#  print(\"temp:\", temp_word)\n",
        "#  if temp_word.isalpha():\n",
        "#    text_tokens_alphabet.append(temp_word)\n",
        "text_tokens_alphabet = [word for word in text.split(' ') if wordnet.synsets(word)]\n",
        "print(text_tokens_alphabet)"
      ]
    },
    {
      "cell_type": "markdown",
      "metadata": {
        "id": "sD-VBtooxqA7"
      },
      "source": [
        "This study removes \",\" and \".\" to get only alphabets."
      ]
    },
    {
      "cell_type": "code",
      "execution_count": 19,
      "metadata": {
        "id": "MILp_24Fe8Bd"
      },
      "outputs": [],
      "source": [
        "from nltk.corpus import wordnet\n",
        "#First 5000\n",
        "LYRICS_FOLDER =\"lyrics/\"\n",
        "lyric_dict={}\n",
        "\n",
        "df_genre_by_lang['number_of_line'] = 0\n",
        "#df_genre_by_lang['text_split'] = []\n",
        "for idx, row in df_genre_by_lang.loc[0:5000].iterrows():\n",
        "  #print(row['id'])\n",
        "  filename=LYRICS_FOLDER+row['id']+\".txt\"\n",
        "  try:\n",
        "    with open(filename, 'r') as file:\n",
        "      lyric_document = file.read()\n",
        "      number_of_line = lyric_document.count('\\n')\n",
        "\n",
        "      lyric_document = lyric_document.replace('\\n', ' ').replace(',', '').replace('.', '')\n",
        "      lyric_document.lower()\n",
        "      #text_split = [stemmer.stem(word) for word in lyric_document.split(' ') if word.isalpha() ]\n",
        "      text_split = [word for word in lyric_document.split(' ') if wordnet.synsets(word) ]\n",
        "      lyric_document=[' '.join(text_split) ]\n",
        "      \n",
        "      #df_genre_by_lang.loc[df_genre_by_lang.id == row['id'], \"text_split\"] =text_split\n",
        "      df_genre_by_lang.loc[df_genre_by_lang.id == row['id'], \"lyric\"] = lyric_document\n",
        "      df_genre_by_lang.loc[df_genre_by_lang.id == row['id'], \"number_of_line\"] = number_of_line\n",
        "      #print(lyric_document)\n",
        "\n",
        "  except Exception as e:\n",
        "    print(e)\n"
      ]
    },
    {
      "cell_type": "code",
      "source": [
        "from nltk.corpus import wordnet\n",
        "#First 5000\n",
        "LYRICS_FOLDER =\"lyrics/\"\n",
        "lyric_dict={}\n",
        "\n",
        "df_genre_by_lang['number_of_line'] = 0\n",
        "#df_genre_by_lang['text_split'] = []\n",
        "for idx, row in df_genre_by_lang.loc[5001:df_genre_by_lang.shape[0]].iterrows():\n",
        "  #print(row['id'])\n",
        "  filename=LYRICS_FOLDER+row['id']+\".txt\"\n",
        "  try:\n",
        "    with open(filename, 'r') as file:\n",
        "      lyric_document = file.read()\n",
        "      number_of_line = lyric_document.count('\\n')\n",
        "\n",
        "      lyric_document = lyric_document.replace('\\n', ' ').replace(',', '').replace('.', '')\n",
        "      lyric_document.lower()\n",
        "      #text_split = [stemmer.stem(word) for word in lyric_document.split(' ') if word.isalpha() ]\n",
        "      text_split = [word for word in lyric_document.split(' ') if wordnet.synsets(word) ]\n",
        "      lyric_document=[' '.join(text_split) ]\n",
        "      \n",
        "      #df_genre_by_lang.loc[df_genre_by_lang.id == row['id'], \"text_split\"] =text_split\n",
        "      df_genre_by_lang.loc[df_genre_by_lang.id == row['id'], \"lyric\"] = lyric_document\n",
        "      df_genre_by_lang.loc[df_genre_by_lang.id == row['id'], \"number_of_line\"] = number_of_line\n",
        "      #print(lyric_document)\n",
        "\n",
        "  except Exception as e:\n",
        "    print(e)"
      ],
      "metadata": {
        "id": "_4ZArcAkBIFQ"
      },
      "execution_count": 20,
      "outputs": []
    },
    {
      "cell_type": "code",
      "execution_count": 21,
      "metadata": {
        "id": "QIdLdiDqtbtj"
      },
      "outputs": [],
      "source": [
        "#Reindex again\n",
        "df_genre_by_lang = df_genre_by_lang.reset_index(drop=True)"
      ]
    },
    {
      "cell_type": "code",
      "execution_count": 22,
      "metadata": {
        "id": "woYDxo6cyHMF",
        "colab": {
          "base_uri": "https://localhost:8080/",
          "height": 0
        },
        "outputId": "6364a0ce-78e3-4f3f-85af-fdc8a121bd7a"
      },
      "outputs": [
        {
          "output_type": "execute_result",
          "data": {
            "text/plain": [
              "                     id             genres lang  \\\n",
              "0      0009fFIM1eYThaPg                pop   en   \n",
              "1      00P2bHdWFkghmDqz               soul   en   \n",
              "2      00b6fV3nx5z2b8Ls                pop   en   \n",
              "3      013QDoTqbexEwkHr                pop   en   \n",
              "4      01EKNot8qVgZpKM7               rock   en   \n",
              "...                 ...                ...  ...   \n",
              "13535  zzT504Z94j1IAuc3         indie rock   en   \n",
              "13536  zzgS4ZqyswamEWNj                pop   en   \n",
              "13537  zzx8CWdM7qkxKQpC         indie rock   en   \n",
              "13538  zzz0n04uuTUA7fNh                pop   en   \n",
              "13539  zzzj3LYaZtYtbzSr  singer-songwriter   en   \n",
              "\n",
              "                                                   lyric  number_of_line  \n",
              "0      a sunny day so I got nowhere hide Not a cloud ...               0  \n",
              "1      Tell me a tale always was Sing me a song alway...               0  \n",
              "2      A A went school learn girl Things never never ...               0  \n",
              "3      like a conversation stops breathe Is it imagin...               0  \n",
              "4      Say words I say Say on another day Fragile wor...               0  \n",
              "...                                                  ...             ...  \n",
              "13535  think afraid come in know been made up Hold ti...              18  \n",
              "13536  Oh yeah yeah Last night I took a walk in snow ...              75  \n",
              "13537  Innocence it come easy in a sense it never wil...              34  \n",
              "13538  Girl know I feel I really been away oh baby An...              65  \n",
              "13539  oh must go on standing break I oh must go on s...              64  \n",
              "\n",
              "[13540 rows x 5 columns]"
            ],
            "text/html": [
              "\n",
              "  <div id=\"df-40187e38-ed46-4fa8-8c1b-cfed2def683e\">\n",
              "    <div class=\"colab-df-container\">\n",
              "      <div>\n",
              "<style scoped>\n",
              "    .dataframe tbody tr th:only-of-type {\n",
              "        vertical-align: middle;\n",
              "    }\n",
              "\n",
              "    .dataframe tbody tr th {\n",
              "        vertical-align: top;\n",
              "    }\n",
              "\n",
              "    .dataframe thead th {\n",
              "        text-align: right;\n",
              "    }\n",
              "</style>\n",
              "<table border=\"1\" class=\"dataframe\">\n",
              "  <thead>\n",
              "    <tr style=\"text-align: right;\">\n",
              "      <th></th>\n",
              "      <th>id</th>\n",
              "      <th>genres</th>\n",
              "      <th>lang</th>\n",
              "      <th>lyric</th>\n",
              "      <th>number_of_line</th>\n",
              "    </tr>\n",
              "  </thead>\n",
              "  <tbody>\n",
              "    <tr>\n",
              "      <th>0</th>\n",
              "      <td>0009fFIM1eYThaPg</td>\n",
              "      <td>pop</td>\n",
              "      <td>en</td>\n",
              "      <td>a sunny day so I got nowhere hide Not a cloud ...</td>\n",
              "      <td>0</td>\n",
              "    </tr>\n",
              "    <tr>\n",
              "      <th>1</th>\n",
              "      <td>00P2bHdWFkghmDqz</td>\n",
              "      <td>soul</td>\n",
              "      <td>en</td>\n",
              "      <td>Tell me a tale always was Sing me a song alway...</td>\n",
              "      <td>0</td>\n",
              "    </tr>\n",
              "    <tr>\n",
              "      <th>2</th>\n",
              "      <td>00b6fV3nx5z2b8Ls</td>\n",
              "      <td>pop</td>\n",
              "      <td>en</td>\n",
              "      <td>A A went school learn girl Things never never ...</td>\n",
              "      <td>0</td>\n",
              "    </tr>\n",
              "    <tr>\n",
              "      <th>3</th>\n",
              "      <td>013QDoTqbexEwkHr</td>\n",
              "      <td>pop</td>\n",
              "      <td>en</td>\n",
              "      <td>like a conversation stops breathe Is it imagin...</td>\n",
              "      <td>0</td>\n",
              "    </tr>\n",
              "    <tr>\n",
              "      <th>4</th>\n",
              "      <td>01EKNot8qVgZpKM7</td>\n",
              "      <td>rock</td>\n",
              "      <td>en</td>\n",
              "      <td>Say words I say Say on another day Fragile wor...</td>\n",
              "      <td>0</td>\n",
              "    </tr>\n",
              "    <tr>\n",
              "      <th>...</th>\n",
              "      <td>...</td>\n",
              "      <td>...</td>\n",
              "      <td>...</td>\n",
              "      <td>...</td>\n",
              "      <td>...</td>\n",
              "    </tr>\n",
              "    <tr>\n",
              "      <th>13535</th>\n",
              "      <td>zzT504Z94j1IAuc3</td>\n",
              "      <td>indie rock</td>\n",
              "      <td>en</td>\n",
              "      <td>think afraid come in know been made up Hold ti...</td>\n",
              "      <td>18</td>\n",
              "    </tr>\n",
              "    <tr>\n",
              "      <th>13536</th>\n",
              "      <td>zzgS4ZqyswamEWNj</td>\n",
              "      <td>pop</td>\n",
              "      <td>en</td>\n",
              "      <td>Oh yeah yeah Last night I took a walk in snow ...</td>\n",
              "      <td>75</td>\n",
              "    </tr>\n",
              "    <tr>\n",
              "      <th>13537</th>\n",
              "      <td>zzx8CWdM7qkxKQpC</td>\n",
              "      <td>indie rock</td>\n",
              "      <td>en</td>\n",
              "      <td>Innocence it come easy in a sense it never wil...</td>\n",
              "      <td>34</td>\n",
              "    </tr>\n",
              "    <tr>\n",
              "      <th>13538</th>\n",
              "      <td>zzz0n04uuTUA7fNh</td>\n",
              "      <td>pop</td>\n",
              "      <td>en</td>\n",
              "      <td>Girl know I feel I really been away oh baby An...</td>\n",
              "      <td>65</td>\n",
              "    </tr>\n",
              "    <tr>\n",
              "      <th>13539</th>\n",
              "      <td>zzzj3LYaZtYtbzSr</td>\n",
              "      <td>singer-songwriter</td>\n",
              "      <td>en</td>\n",
              "      <td>oh must go on standing break I oh must go on s...</td>\n",
              "      <td>64</td>\n",
              "    </tr>\n",
              "  </tbody>\n",
              "</table>\n",
              "<p>13540 rows × 5 columns</p>\n",
              "</div>\n",
              "      <button class=\"colab-df-convert\" onclick=\"convertToInteractive('df-40187e38-ed46-4fa8-8c1b-cfed2def683e')\"\n",
              "              title=\"Convert this dataframe to an interactive table.\"\n",
              "              style=\"display:none;\">\n",
              "        \n",
              "  <svg xmlns=\"http://www.w3.org/2000/svg\" height=\"24px\"viewBox=\"0 0 24 24\"\n",
              "       width=\"24px\">\n",
              "    <path d=\"M0 0h24v24H0V0z\" fill=\"none\"/>\n",
              "    <path d=\"M18.56 5.44l.94 2.06.94-2.06 2.06-.94-2.06-.94-.94-2.06-.94 2.06-2.06.94zm-11 1L8.5 8.5l.94-2.06 2.06-.94-2.06-.94L8.5 2.5l-.94 2.06-2.06.94zm10 10l.94 2.06.94-2.06 2.06-.94-2.06-.94-.94-2.06-.94 2.06-2.06.94z\"/><path d=\"M17.41 7.96l-1.37-1.37c-.4-.4-.92-.59-1.43-.59-.52 0-1.04.2-1.43.59L10.3 9.45l-7.72 7.72c-.78.78-.78 2.05 0 2.83L4 21.41c.39.39.9.59 1.41.59.51 0 1.02-.2 1.41-.59l7.78-7.78 2.81-2.81c.8-.78.8-2.07 0-2.86zM5.41 20L4 18.59l7.72-7.72 1.47 1.35L5.41 20z\"/>\n",
              "  </svg>\n",
              "      </button>\n",
              "      \n",
              "  <style>\n",
              "    .colab-df-container {\n",
              "      display:flex;\n",
              "      flex-wrap:wrap;\n",
              "      gap: 12px;\n",
              "    }\n",
              "\n",
              "    .colab-df-convert {\n",
              "      background-color: #E8F0FE;\n",
              "      border: none;\n",
              "      border-radius: 50%;\n",
              "      cursor: pointer;\n",
              "      display: none;\n",
              "      fill: #1967D2;\n",
              "      height: 32px;\n",
              "      padding: 0 0 0 0;\n",
              "      width: 32px;\n",
              "    }\n",
              "\n",
              "    .colab-df-convert:hover {\n",
              "      background-color: #E2EBFA;\n",
              "      box-shadow: 0px 1px 2px rgba(60, 64, 67, 0.3), 0px 1px 3px 1px rgba(60, 64, 67, 0.15);\n",
              "      fill: #174EA6;\n",
              "    }\n",
              "\n",
              "    [theme=dark] .colab-df-convert {\n",
              "      background-color: #3B4455;\n",
              "      fill: #D2E3FC;\n",
              "    }\n",
              "\n",
              "    [theme=dark] .colab-df-convert:hover {\n",
              "      background-color: #434B5C;\n",
              "      box-shadow: 0px 1px 3px 1px rgba(0, 0, 0, 0.15);\n",
              "      filter: drop-shadow(0px 1px 2px rgba(0, 0, 0, 0.3));\n",
              "      fill: #FFFFFF;\n",
              "    }\n",
              "  </style>\n",
              "\n",
              "      <script>\n",
              "        const buttonEl =\n",
              "          document.querySelector('#df-40187e38-ed46-4fa8-8c1b-cfed2def683e button.colab-df-convert');\n",
              "        buttonEl.style.display =\n",
              "          google.colab.kernel.accessAllowed ? 'block' : 'none';\n",
              "\n",
              "        async function convertToInteractive(key) {\n",
              "          const element = document.querySelector('#df-40187e38-ed46-4fa8-8c1b-cfed2def683e');\n",
              "          const dataTable =\n",
              "            await google.colab.kernel.invokeFunction('convertToInteractive',\n",
              "                                                     [key], {});\n",
              "          if (!dataTable) return;\n",
              "\n",
              "          const docLinkHtml = 'Like what you see? Visit the ' +\n",
              "            '<a target=\"_blank\" href=https://colab.research.google.com/notebooks/data_table.ipynb>data table notebook</a>'\n",
              "            + ' to learn more about interactive tables.';\n",
              "          element.innerHTML = '';\n",
              "          dataTable['output_type'] = 'display_data';\n",
              "          await google.colab.output.renderOutput(dataTable, element);\n",
              "          const docLink = document.createElement('div');\n",
              "          docLink.innerHTML = docLinkHtml;\n",
              "          element.appendChild(docLink);\n",
              "        }\n",
              "      </script>\n",
              "    </div>\n",
              "  </div>\n",
              "  "
            ]
          },
          "metadata": {},
          "execution_count": 22
        }
      ],
      "source": [
        "df_genre_by_lang[0:df_genre_by_lang.shape[0]]"
      ]
    },
    {
      "cell_type": "code",
      "execution_count": 23,
      "metadata": {
        "id": "gNLlqgQNL26L",
        "colab": {
          "base_uri": "https://localhost:8080/"
        },
        "outputId": "5a9547bc-9edd-47a7-a6e5-bd23c4ae4aa3"
      },
      "outputs": [
        {
          "output_type": "execute_result",
          "data": {
            "text/plain": [
              "13540"
            ]
          },
          "metadata": {},
          "execution_count": 23
        }
      ],
      "source": [
        "df_genre_by_lang.shape[0]"
      ]
    },
    {
      "cell_type": "markdown",
      "metadata": {
        "id": "5po_RfoMCEVf"
      },
      "source": [
        "### Apply Data Augmentation Preprocess"
      ]
    },
    {
      "cell_type": "code",
      "execution_count": 24,
      "metadata": {
        "id": "37gUmW2vCIVf",
        "colab": {
          "base_uri": "https://localhost:8080/"
        },
        "outputId": "85b4861c-4de0-4044-e539-447d590a01ff"
      },
      "outputs": [
        {
          "output_type": "stream",
          "name": "stderr",
          "text": [
            "[nltk_data] Downloading package wordnet to /root/nltk_data...\n",
            "[nltk_data]   Package wordnet is already up-to-date!\n"
          ]
        },
        {
          "output_type": "execute_result",
          "data": {
            "text/plain": [
              "True"
            ]
          },
          "metadata": {},
          "execution_count": 24
        }
      ],
      "source": [
        "import nltk\n",
        "nltk.download('wordnet')"
      ]
    },
    {
      "cell_type": "code",
      "execution_count": 25,
      "metadata": {
        "id": "czdwWqxjHD-y",
        "colab": {
          "base_uri": "https://localhost:8080/"
        },
        "outputId": "799a8d23-3ef3-4282-84e5-48b3af533b1f"
      },
      "outputs": [
        {
          "output_type": "stream",
          "name": "stderr",
          "text": [
            "[nltk_data] Downloading package omw-1.4 to /root/nltk_data...\n",
            "[nltk_data]   Package omw-1.4 is already up-to-date!\n"
          ]
        },
        {
          "output_type": "execute_result",
          "data": {
            "text/plain": [
              "True"
            ]
          },
          "metadata": {},
          "execution_count": 25
        }
      ],
      "source": [
        "import nltk\n",
        "nltk.download('omw-1.4')"
      ]
    },
    {
      "cell_type": "code",
      "execution_count": 26,
      "metadata": {
        "id": "YeHsP4_6FZIC"
      },
      "outputs": [],
      "source": [
        "# Easy data augmentation techniques for text classification\n",
        "# Jason Wei and Kai Zou\n",
        "\n",
        "import random\n",
        "from random import shuffle\n",
        "random.seed(1)\n",
        "\n",
        "#stop words list\n",
        "stop_words = ['i', 'me', 'my', 'myself', 'we', 'our', \n",
        "\t\t\t'ours', 'ourselves', 'you', 'your', 'yours', \n",
        "\t\t\t'yourself', 'yourselves', 'he', 'him', 'his', \n",
        "\t\t\t'himself', 'she', 'her', 'hers', 'herself', \n",
        "\t\t\t'it', 'its', 'itself', 'they', 'them', 'their', \n",
        "\t\t\t'theirs', 'themselves', 'what', 'which', 'who', \n",
        "\t\t\t'whom', 'this', 'that', 'these', 'those', 'am', \n",
        "\t\t\t'is', 'are', 'was', 'were', 'be', 'been', 'being', \n",
        "\t\t\t'have', 'has', 'had', 'having', 'do', 'does', 'did',\n",
        "\t\t\t'doing', 'a', 'an', 'the', 'and', 'but', 'if', 'or',\n",
        "\t\t\t'because', 'as', 'until', 'while', 'of', 'at', \n",
        "\t\t\t'by', 'for', 'with', 'about', 'against', 'between',\n",
        "\t\t\t'into', 'through', 'during', 'before', 'after', \n",
        "\t\t\t'above', 'below', 'to', 'from', 'up', 'down', 'in',\n",
        "\t\t\t'out', 'on', 'off', 'over', 'under', 'again', \n",
        "\t\t\t'further', 'then', 'once', 'here', 'there', 'when', \n",
        "\t\t\t'where', 'why', 'how', 'all', 'any', 'both', 'each', \n",
        "\t\t\t'few', 'more', 'most', 'other', 'some', 'such', 'no', \n",
        "\t\t\t'nor', 'not', 'only', 'own', 'same', 'so', 'than', 'too', \n",
        "\t\t\t'very', 's', 't', 'can', 'will', 'just', 'don', \n",
        "\t\t\t'should', 'now', '']\n",
        "\n",
        "#cleaning up text\n",
        "import re\n",
        "def get_only_chars(line):\n",
        "\n",
        "    clean_line = \"\"\n",
        "\n",
        "    line = line.replace(\"’\", \"\")\n",
        "    line = line.replace(\"'\", \"\")\n",
        "    line = line.replace(\"-\", \" \") #replace hyphens with spaces\n",
        "    line = line.replace(\"\\t\", \" \")\n",
        "    line = line.replace(\"\\n\", \" \")\n",
        "    line = line.lower()\n",
        "\n",
        "    for char in line:\n",
        "        if char in 'qwertyuiopasdfghjklzxcvbnm ':\n",
        "            clean_line += char\n",
        "        else:\n",
        "            clean_line += ' '\n",
        "\n",
        "    clean_line = re.sub(' +',' ',clean_line) #delete extra spaces\n",
        "    if clean_line[0] == ' ':\n",
        "        clean_line = clean_line[1:]\n",
        "    return clean_line\n",
        "\n",
        "########################################################################\n",
        "# Synonym replacement\n",
        "# Replace n words in the sentence with synonyms from wordnet\n",
        "########################################################################\n",
        "\n",
        "#for the first time you use wordnet\n",
        "#import nltk\n",
        "#nltk.download('wordnet')\n",
        "from nltk.corpus import wordnet \n",
        "\n",
        "def synonym_replacement(words, n):\n",
        "\tnew_words = words.copy()\n",
        "\trandom_word_list = list(set([word for word in words if word not in stop_words]))\n",
        "\trandom.shuffle(random_word_list)\n",
        "\tnum_replaced = 0\n",
        "\tfor random_word in random_word_list:\n",
        "\t\tsynonyms = get_synonyms(random_word)\n",
        "\t\tif len(synonyms) >= 1:\n",
        "\t\t\tsynonym = random.choice(list(synonyms))\n",
        "\t\t\tnew_words = [synonym if word == random_word else word for word in new_words]\n",
        "\t\t\t#print(\"replaced\", random_word, \"with\", synonym)\n",
        "\t\t\tnum_replaced += 1\n",
        "\t\tif num_replaced >= n: #only replace up to n words\n",
        "\t\t\tbreak\n",
        "\n",
        "\t#this is stupid but we need it, trust me\n",
        "\tsentence = ' '.join(new_words)\n",
        "\tnew_words = sentence.split(' ')\n",
        "\n",
        "\treturn new_words\n",
        "\n",
        "def get_synonyms(word):\n",
        "\tsynonyms = set()\n",
        "\tfor syn in wordnet.synsets(word): \n",
        "\t\tfor l in syn.lemmas(): \n",
        "\t\t\tsynonym = l.name().replace(\"_\", \" \").replace(\"-\", \" \").lower()\n",
        "\t\t\tsynonym = \"\".join([char for char in synonym if char in ' qwertyuiopasdfghjklzxcvbnm'])\n",
        "\t\t\tsynonyms.add(synonym) \n",
        "\tif word in synonyms:\n",
        "\t\tsynonyms.remove(word)\n",
        "\treturn list(synonyms)\n",
        "\n",
        "########################################################################\n",
        "# Random deletion\n",
        "# Randomly delete words from the sentence with probability p\n",
        "########################################################################\n",
        "\n",
        "def random_deletion(words, p):\n",
        "\n",
        "\t#obviously, if there's only one word, don't delete it\n",
        "\tif len(words) == 1:\n",
        "\t\treturn words\n",
        "\n",
        "\t#randomly delete words with probability p\n",
        "\tnew_words = []\n",
        "\tfor word in words:\n",
        "\t\tr = random.uniform(0, 1)\n",
        "\t\tif r > p:\n",
        "\t\t\tnew_words.append(word)\n",
        "\n",
        "\t#if you end up deleting all words, just return a random word\n",
        "\tif len(new_words) == 0:\n",
        "\t\trand_int = random.randint(0, len(words)-1)\n",
        "\t\treturn [words[rand_int]]\n",
        "\n",
        "\treturn new_words\n",
        "\n",
        "########################################################################\n",
        "# Random swap\n",
        "# Randomly swap two words in the sentence n times\n",
        "########################################################################\n",
        "\n",
        "def random_swap(words, n):\n",
        "\tnew_words = words.copy()\n",
        "\tfor _ in range(n):\n",
        "\t\tnew_words = swap_word(new_words)\n",
        "\treturn new_words\n",
        "\n",
        "def swap_word(new_words):\n",
        "\trandom_idx_1 = random.randint(0, len(new_words)-1)\n",
        "\trandom_idx_2 = random_idx_1\n",
        "\tcounter = 0\n",
        "\twhile random_idx_2 == random_idx_1:\n",
        "\t\trandom_idx_2 = random.randint(0, len(new_words)-1)\n",
        "\t\tcounter += 1\n",
        "\t\tif counter > 3:\n",
        "\t\t\treturn new_words\n",
        "\tnew_words[random_idx_1], new_words[random_idx_2] = new_words[random_idx_2], new_words[random_idx_1] \n",
        "\treturn new_words\n",
        "\n",
        "########################################################################\n",
        "# Random insertion\n",
        "# Randomly insert n words into the sentence\n",
        "########################################################################\n",
        "\n",
        "def random_insertion(words, n):\n",
        "\tnew_words = words.copy()\n",
        "\tfor _ in range(n):\n",
        "\t\tadd_word(new_words)\n",
        "\treturn new_words\n",
        "\n",
        "def add_word(new_words):\n",
        "\tsynonyms = []\n",
        "\tcounter = 0\n",
        "\twhile len(synonyms) < 1:\n",
        "\t\trandom_word = new_words[random.randint(0, len(new_words)-1)]\n",
        "\t\tsynonyms = get_synonyms(random_word)\n",
        "\t\tcounter += 1\n",
        "\t\tif counter >= 10:\n",
        "\t\t\treturn\n",
        "\trandom_synonym = synonyms[0]\n",
        "\trandom_idx = random.randint(0, len(new_words)-1)\n",
        "\tnew_words.insert(random_idx, random_synonym)\n",
        "\n",
        "########################################################################\n",
        "# main data augmentation function\n",
        "########################################################################\n",
        "\n",
        "def eda(sentence, alpha_sr=0.1, alpha_ri=0.1, alpha_rs=0.1, p_rd=0.1, num_aug=9):\n",
        "\t\n",
        "\tsentence = get_only_chars(sentence)\n",
        "\twords = sentence.split(' ')\n",
        "\twords = [word for word in words if word is not '']\n",
        "\tnum_words = len(words)\n",
        "\t\n",
        "\taugmented_sentences = []\n",
        "\tnum_new_per_technique = int(num_aug/4)+1\n",
        "\n",
        "\t#sr\n",
        "\tif (alpha_sr > 0):\n",
        "\t\tn_sr = max(1, int(alpha_sr*num_words))\n",
        "\t\tfor _ in range(num_new_per_technique):\n",
        "\t\t\ta_words = synonym_replacement(words, n_sr)\n",
        "\t\t\taugmented_sentences.append(' '.join(a_words))\n",
        "\n",
        "\t#ri\n",
        "\tif (alpha_ri > 0):\n",
        "\t\tn_ri = max(1, int(alpha_ri*num_words))\n",
        "\t\tfor _ in range(num_new_per_technique):\n",
        "\t\t\ta_words = random_insertion(words, n_ri)\n",
        "\t\t\taugmented_sentences.append(' '.join(a_words))\n",
        "\n",
        "\t#rs\n",
        "\tif (alpha_rs > 0):\n",
        "\t\tn_rs = max(1, int(alpha_rs*num_words))\n",
        "\t\tfor _ in range(num_new_per_technique):\n",
        "\t\t\ta_words = random_swap(words, n_rs)\n",
        "\t\t\taugmented_sentences.append(' '.join(a_words))\n",
        "\n",
        "\t#rd\n",
        "\tif (p_rd > 0):\n",
        "\t\tfor _ in range(num_new_per_technique):\n",
        "\t\t\ta_words = random_deletion(words, p_rd)\n",
        "\t\t\taugmented_sentences.append(' '.join(a_words))\n",
        "\n",
        "\taugmented_sentences = [get_only_chars(sentence) for sentence in augmented_sentences]\n",
        "\tshuffle(augmented_sentences)\n",
        "\n",
        "\t#trim so that we have the desired number of augmented sentences\n",
        "\tif num_aug >= 1:\n",
        "\t\taugmented_sentences = augmented_sentences[:num_aug]\n",
        "\telse:\n",
        "\t\tkeep_prob = num_aug / len(augmented_sentences)\n",
        "\t\taugmented_sentences = [s for s in augmented_sentences if random.uniform(0, 1) < keep_prob]\n",
        "\n",
        "\t#append the original sentence\n",
        "\taugmented_sentences.append(sentence)\n",
        "\n",
        "\treturn augmented_sentences"
      ]
    },
    {
      "cell_type": "markdown",
      "metadata": {
        "id": "hWxfNJqYBfjD"
      },
      "source": [
        "### Data Preparation(Kfold split)"
      ]
    },
    {
      "cell_type": "markdown",
      "metadata": {
        "id": "qbT7Qs4whnTX"
      },
      "source": [
        "Create dataframe for Gensim"
      ]
    },
    {
      "cell_type": "code",
      "execution_count": 64,
      "metadata": {
        "id": "PrRidTBHhmYp"
      },
      "outputs": [],
      "source": [
        "def load_data(df_col, y):\n",
        "    texts, labels = [], []\n",
        "    \n",
        "    for line in df_col:\n",
        "        # texts are already tokenized, just split on space\n",
        "        # in a real use-case we would put more effort in preprocessing\n",
        "        texts.append(line.split(' '))\n",
        "    return pd.DataFrame({'texts': texts, 'labels': y})"
      ]
    },
    {
      "cell_type": "code",
      "execution_count": 65,
      "metadata": {
        "id": "n5VJWiA6iJu2"
      },
      "outputs": [],
      "source": [
        "data = load_data(df_genre_by_lang[\"lyric\"], df_genre_by_lang[\"genres\"])"
      ]
    },
    {
      "cell_type": "code",
      "execution_count": 66,
      "metadata": {
        "id": "bWI4V7oXiWw6",
        "colab": {
          "base_uri": "https://localhost:8080/",
          "height": 0
        },
        "outputId": "d565b77b-8508-49a8-8700-3ea1b6e96b19"
      },
      "outputs": [
        {
          "output_type": "execute_result",
          "data": {
            "text/plain": [
              "                                                   texts             labels\n",
              "0      [a, sunny, day, so, I, got, nowhere, hide, Not...                pop\n",
              "1      [Tell, me, a, tale, always, was, Sing, me, a, ...               soul\n",
              "2      [A, A, went, school, learn, girl, Things, neve...                pop\n",
              "3      [like, a, conversation, stops, breathe, Is, it...                pop\n",
              "4      [Say, words, I, say, Say, on, another, day, Fr...               rock\n",
              "...                                                  ...                ...\n",
              "13535  [think, afraid, come, in, know, been, made, up...         indie rock\n",
              "13536  [Oh, yeah, yeah, Last, night, I, took, a, walk...                pop\n",
              "13537  [Innocence, it, come, easy, in, a, sense, it, ...         indie rock\n",
              "13538  [Girl, know, I, feel, I, really, been, away, o...                pop\n",
              "13539  [oh, must, go, on, standing, break, I, oh, mus...  singer-songwriter\n",
              "\n",
              "[13540 rows x 2 columns]"
            ],
            "text/html": [
              "\n",
              "  <div id=\"df-4b3aa3c3-33d5-40c5-89ae-668c8e9a82cd\">\n",
              "    <div class=\"colab-df-container\">\n",
              "      <div>\n",
              "<style scoped>\n",
              "    .dataframe tbody tr th:only-of-type {\n",
              "        vertical-align: middle;\n",
              "    }\n",
              "\n",
              "    .dataframe tbody tr th {\n",
              "        vertical-align: top;\n",
              "    }\n",
              "\n",
              "    .dataframe thead th {\n",
              "        text-align: right;\n",
              "    }\n",
              "</style>\n",
              "<table border=\"1\" class=\"dataframe\">\n",
              "  <thead>\n",
              "    <tr style=\"text-align: right;\">\n",
              "      <th></th>\n",
              "      <th>texts</th>\n",
              "      <th>labels</th>\n",
              "    </tr>\n",
              "  </thead>\n",
              "  <tbody>\n",
              "    <tr>\n",
              "      <th>0</th>\n",
              "      <td>[a, sunny, day, so, I, got, nowhere, hide, Not...</td>\n",
              "      <td>pop</td>\n",
              "    </tr>\n",
              "    <tr>\n",
              "      <th>1</th>\n",
              "      <td>[Tell, me, a, tale, always, was, Sing, me, a, ...</td>\n",
              "      <td>soul</td>\n",
              "    </tr>\n",
              "    <tr>\n",
              "      <th>2</th>\n",
              "      <td>[A, A, went, school, learn, girl, Things, neve...</td>\n",
              "      <td>pop</td>\n",
              "    </tr>\n",
              "    <tr>\n",
              "      <th>3</th>\n",
              "      <td>[like, a, conversation, stops, breathe, Is, it...</td>\n",
              "      <td>pop</td>\n",
              "    </tr>\n",
              "    <tr>\n",
              "      <th>4</th>\n",
              "      <td>[Say, words, I, say, Say, on, another, day, Fr...</td>\n",
              "      <td>rock</td>\n",
              "    </tr>\n",
              "    <tr>\n",
              "      <th>...</th>\n",
              "      <td>...</td>\n",
              "      <td>...</td>\n",
              "    </tr>\n",
              "    <tr>\n",
              "      <th>13535</th>\n",
              "      <td>[think, afraid, come, in, know, been, made, up...</td>\n",
              "      <td>indie rock</td>\n",
              "    </tr>\n",
              "    <tr>\n",
              "      <th>13536</th>\n",
              "      <td>[Oh, yeah, yeah, Last, night, I, took, a, walk...</td>\n",
              "      <td>pop</td>\n",
              "    </tr>\n",
              "    <tr>\n",
              "      <th>13537</th>\n",
              "      <td>[Innocence, it, come, easy, in, a, sense, it, ...</td>\n",
              "      <td>indie rock</td>\n",
              "    </tr>\n",
              "    <tr>\n",
              "      <th>13538</th>\n",
              "      <td>[Girl, know, I, feel, I, really, been, away, o...</td>\n",
              "      <td>pop</td>\n",
              "    </tr>\n",
              "    <tr>\n",
              "      <th>13539</th>\n",
              "      <td>[oh, must, go, on, standing, break, I, oh, mus...</td>\n",
              "      <td>singer-songwriter</td>\n",
              "    </tr>\n",
              "  </tbody>\n",
              "</table>\n",
              "<p>13540 rows × 2 columns</p>\n",
              "</div>\n",
              "      <button class=\"colab-df-convert\" onclick=\"convertToInteractive('df-4b3aa3c3-33d5-40c5-89ae-668c8e9a82cd')\"\n",
              "              title=\"Convert this dataframe to an interactive table.\"\n",
              "              style=\"display:none;\">\n",
              "        \n",
              "  <svg xmlns=\"http://www.w3.org/2000/svg\" height=\"24px\"viewBox=\"0 0 24 24\"\n",
              "       width=\"24px\">\n",
              "    <path d=\"M0 0h24v24H0V0z\" fill=\"none\"/>\n",
              "    <path d=\"M18.56 5.44l.94 2.06.94-2.06 2.06-.94-2.06-.94-.94-2.06-.94 2.06-2.06.94zm-11 1L8.5 8.5l.94-2.06 2.06-.94-2.06-.94L8.5 2.5l-.94 2.06-2.06.94zm10 10l.94 2.06.94-2.06 2.06-.94-2.06-.94-.94-2.06-.94 2.06-2.06.94z\"/><path d=\"M17.41 7.96l-1.37-1.37c-.4-.4-.92-.59-1.43-.59-.52 0-1.04.2-1.43.59L10.3 9.45l-7.72 7.72c-.78.78-.78 2.05 0 2.83L4 21.41c.39.39.9.59 1.41.59.51 0 1.02-.2 1.41-.59l7.78-7.78 2.81-2.81c.8-.78.8-2.07 0-2.86zM5.41 20L4 18.59l7.72-7.72 1.47 1.35L5.41 20z\"/>\n",
              "  </svg>\n",
              "      </button>\n",
              "      \n",
              "  <style>\n",
              "    .colab-df-container {\n",
              "      display:flex;\n",
              "      flex-wrap:wrap;\n",
              "      gap: 12px;\n",
              "    }\n",
              "\n",
              "    .colab-df-convert {\n",
              "      background-color: #E8F0FE;\n",
              "      border: none;\n",
              "      border-radius: 50%;\n",
              "      cursor: pointer;\n",
              "      display: none;\n",
              "      fill: #1967D2;\n",
              "      height: 32px;\n",
              "      padding: 0 0 0 0;\n",
              "      width: 32px;\n",
              "    }\n",
              "\n",
              "    .colab-df-convert:hover {\n",
              "      background-color: #E2EBFA;\n",
              "      box-shadow: 0px 1px 2px rgba(60, 64, 67, 0.3), 0px 1px 3px 1px rgba(60, 64, 67, 0.15);\n",
              "      fill: #174EA6;\n",
              "    }\n",
              "\n",
              "    [theme=dark] .colab-df-convert {\n",
              "      background-color: #3B4455;\n",
              "      fill: #D2E3FC;\n",
              "    }\n",
              "\n",
              "    [theme=dark] .colab-df-convert:hover {\n",
              "      background-color: #434B5C;\n",
              "      box-shadow: 0px 1px 3px 1px rgba(0, 0, 0, 0.15);\n",
              "      filter: drop-shadow(0px 1px 2px rgba(0, 0, 0, 0.3));\n",
              "      fill: #FFFFFF;\n",
              "    }\n",
              "  </style>\n",
              "\n",
              "      <script>\n",
              "        const buttonEl =\n",
              "          document.querySelector('#df-4b3aa3c3-33d5-40c5-89ae-668c8e9a82cd button.colab-df-convert');\n",
              "        buttonEl.style.display =\n",
              "          google.colab.kernel.accessAllowed ? 'block' : 'none';\n",
              "\n",
              "        async function convertToInteractive(key) {\n",
              "          const element = document.querySelector('#df-4b3aa3c3-33d5-40c5-89ae-668c8e9a82cd');\n",
              "          const dataTable =\n",
              "            await google.colab.kernel.invokeFunction('convertToInteractive',\n",
              "                                                     [key], {});\n",
              "          if (!dataTable) return;\n",
              "\n",
              "          const docLinkHtml = 'Like what you see? Visit the ' +\n",
              "            '<a target=\"_blank\" href=https://colab.research.google.com/notebooks/data_table.ipynb>data table notebook</a>'\n",
              "            + ' to learn more about interactive tables.';\n",
              "          element.innerHTML = '';\n",
              "          dataTable['output_type'] = 'display_data';\n",
              "          await google.colab.output.renderOutput(dataTable, element);\n",
              "          const docLink = document.createElement('div');\n",
              "          docLink.innerHTML = docLinkHtml;\n",
              "          element.appendChild(docLink);\n",
              "        }\n",
              "      </script>\n",
              "    </div>\n",
              "  </div>\n",
              "  "
            ]
          },
          "metadata": {},
          "execution_count": 66
        }
      ],
      "source": [
        "data"
      ]
    },
    {
      "cell_type": "code",
      "execution_count": 67,
      "metadata": {
        "id": "iTROinyfjc6u"
      },
      "outputs": [],
      "source": [
        "data['labels'] = data['labels'].astype('category')\n",
        "label_mapping = data['labels'].cat.categories\n",
        "data['labels'] = data['labels'].cat.codes\n",
        "X = data['texts']\n",
        "y = data['labels']"
      ]
    },
    {
      "cell_type": "code",
      "execution_count": 68,
      "metadata": {
        "id": "d32Ub0-kjoOj",
        "colab": {
          "base_uri": "https://localhost:8080/"
        },
        "outputId": "8914f89c-0422-4c93-dc8f-83031a26dd0c"
      },
      "outputs": [
        {
          "output_type": "execute_result",
          "data": {
            "text/plain": [
              "pandas.core.series.Series"
            ]
          },
          "metadata": {},
          "execution_count": 68
        }
      ],
      "source": [
        "type(X)"
      ]
    },
    {
      "cell_type": "code",
      "execution_count": 69,
      "metadata": {
        "id": "GnAEWk_Lza7f"
      },
      "outputs": [],
      "source": [
        "def StratifiedKFold_feature_and_df_glove(df, feature_list, y_name):\n",
        "  skf = StratifiedKFold(n_splits=5, shuffle=True, random_state=1209)  # 20% for test set \n",
        "  y = df[y_name]\n",
        "  skf.get_n_splits(df[ feature_list ], y)\n",
        "\n",
        "  splits = []\n",
        "\n",
        "  for train_index, test_index in skf.split(df[ feature_list ], y):\n",
        "      print(\"TRAIN:\", train_index, \"TEST:\", test_index)\n",
        "      X_train, X_test = df[ feature_list ].loc[train_index], df[ feature_list ].loc[test_index]\n",
        "      y_train, y_test = y.loc[train_index], y.loc[test_index]\n",
        "      splits.append({'X_train': X_train, 'X_test': X_test, 'y_train':y_train, 'y_test':y_test })\n",
        "  return splits"
      ]
    },
    {
      "cell_type": "code",
      "execution_count": 70,
      "metadata": {
        "id": "1qOv6pF0BcrV"
      },
      "outputs": [],
      "source": [
        "def StratifiedKFold_feature_and_df(X, y):\n",
        "  skf = StratifiedKFold(n_splits=5, shuffle=True, random_state=1209)  # 20% for test set \n",
        "  #y = df[y_name]\n",
        "  skf.get_n_splits(X, y)#df[ feature_list ]\n",
        "\n",
        "  splits = []\n",
        "\n",
        "  for train_index, test_index in skf.split(X, y):#df[ feature_list ]\n",
        "      print(\"TRAIN:\", train_index, \"TEST:\", test_index)\n",
        "      X_train, X_test = X.loc[train_index], X.loc[test_index]\n",
        "      y_train, y_test = y.loc[train_index], y.loc[test_index]\n",
        "      splits.append({'X_train': X_train, 'X_test': X_test, 'y_train':y_train, 'y_test':y_test })\n",
        "  return splits"
      ]
    },
    {
      "cell_type": "code",
      "execution_count": 71,
      "metadata": {
        "id": "_FGZPLOeBg4R",
        "colab": {
          "base_uri": "https://localhost:8080/"
        },
        "outputId": "57273282-e418-475d-b22b-f25d6268f806"
      },
      "outputs": [
        {
          "output_type": "stream",
          "name": "stdout",
          "text": [
            "TRAIN: [    0     1     3 ... 13537 13538 13539] TEST: [    2     4     5 ... 13526 13532 13535]\n",
            "TRAIN: [    0     2     4 ... 13535 13536 13539] TEST: [    1     3     7 ... 13530 13537 13538]\n",
            "TRAIN: [    0     1     2 ... 13537 13538 13539] TEST: [    8    14    22 ... 13521 13531 13536]\n",
            "TRAIN: [    0     1     2 ... 13537 13538 13539] TEST: [   10    12    15 ... 13523 13525 13534]\n",
            "TRAIN: [    1     2     3 ... 13536 13537 13538] TEST: [    0     6    11 ... 13529 13533 13539]\n"
          ]
        }
      ],
      "source": [
        "#feature_list = [\"texts\"] #this is BOW and TF-IDF\n",
        "#splits = StratifiedKFold_feature_and_df( data, feature_list, 'labels')\n",
        "splits = StratifiedKFold_feature_and_df( X,y)"
      ]
    },
    {
      "cell_type": "code",
      "execution_count": 72,
      "metadata": {
        "id": "rDMBs_gWCSLa",
        "colab": {
          "base_uri": "https://localhost:8080/"
        },
        "outputId": "8e283709-68e9-4f16-be0c-455874212625"
      },
      "outputs": [
        {
          "output_type": "stream",
          "name": "stdout",
          "text": [
            "(10832,)\n",
            "(10832,)\n",
            "(2708,)\n",
            "(2708,)\n"
          ]
        }
      ],
      "source": [
        "split0=splits[0]\n",
        "print(split0['X_train'].shape)\n",
        "print(split0['y_train'].shape)\n",
        "print(split0['X_test'].shape)\n",
        "print(split0['y_test'].shape)"
      ]
    },
    {
      "cell_type": "code",
      "execution_count": 73,
      "metadata": {
        "id": "iaMmpM44is_p",
        "colab": {
          "base_uri": "https://localhost:8080/"
        },
        "outputId": "755f3b12-9d1c-4d0b-f682-54da6cc5b4d1"
      },
      "outputs": [
        {
          "output_type": "execute_result",
          "data": {
            "text/plain": [
              "0        [a, sunny, day, so, I, got, nowhere, hide, Not...\n",
              "1        [Tell, me, a, tale, always, was, Sing, me, a, ...\n",
              "3        [like, a, conversation, stops, breathe, Is, it...\n",
              "6        [Locked, up, tight, Like, I, never, feel, agai...\n",
              "7        [in, crib, about, leer, jets, coupes, way, sal...\n",
              "                               ...                        \n",
              "13534    [grandma, cookies, nigga, Shout, out, leaf, ye...\n",
              "13536    [Oh, yeah, yeah, Last, night, I, took, a, walk...\n",
              "13537    [Innocence, it, come, easy, in, a, sense, it, ...\n",
              "13538    [Girl, know, I, feel, I, really, been, away, o...\n",
              "13539    [oh, must, go, on, standing, break, I, oh, mus...\n",
              "Name: texts, Length: 10832, dtype: object"
            ]
          },
          "metadata": {},
          "execution_count": 73
        }
      ],
      "source": [
        "split0['X_train']"
      ]
    },
    {
      "cell_type": "code",
      "execution_count": 74,
      "metadata": {
        "id": "5qTuHLEe8Aqg",
        "colab": {
          "base_uri": "https://localhost:8080/"
        },
        "outputId": "c91c206e-a461-4afa-e19a-e47d4f430118"
      },
      "outputs": [
        {
          "output_type": "execute_result",
          "data": {
            "text/plain": [
              "0        4\n",
              "1        9\n",
              "3        4\n",
              "6        4\n",
              "7        6\n",
              "        ..\n",
              "13534    6\n",
              "13536    4\n",
              "13537    3\n",
              "13538    4\n",
              "13539    8\n",
              "Name: labels, Length: 10832, dtype: int8"
            ]
          },
          "metadata": {},
          "execution_count": 74
        }
      ],
      "source": [
        "split0['y_train']"
      ]
    },
    {
      "cell_type": "markdown",
      "metadata": {
        "id": "QA6kqSB2HzAt"
      },
      "source": [
        "### Compute how much we need to augment for each genre, each song"
      ]
    },
    {
      "cell_type": "code",
      "execution_count": 38,
      "metadata": {
        "id": "rnod7revzYHD",
        "colab": {
          "base_uri": "https://localhost:8080/"
        },
        "outputId": "b3190845-5ad2-4481-dd11-aed139357fc0"
      },
      "outputs": [
        {
          "output_type": "stream",
          "name": "stdout",
          "text": [
            "0 electronic\n",
            "1 folk\n",
            "2 indie pop\n",
            "3 indie rock\n",
            "4 pop\n",
            "5 punk\n",
            "6 rap\n",
            "7 rock\n",
            "8 singer-songwriter\n",
            "9 soul\n"
          ]
        }
      ],
      "source": [
        "genre_mapping = {}\n",
        "for code,genre in enumerate(label_mapping):\n",
        "  genre_mapping[genre] = code\n",
        "  print(code, genre)"
      ]
    },
    {
      "cell_type": "code",
      "execution_count": 39,
      "metadata": {
        "id": "SrAxNsw018MW",
        "colab": {
          "base_uri": "https://localhost:8080/"
        },
        "outputId": "302ff222-5bc3-4012-f4c6-eb9377d3c11f"
      },
      "outputs": [
        {
          "output_type": "execute_result",
          "data": {
            "text/plain": [
              "{'electronic': 0,\n",
              " 'folk': 1,\n",
              " 'indie pop': 2,\n",
              " 'indie rock': 3,\n",
              " 'pop': 4,\n",
              " 'punk': 5,\n",
              " 'rap': 6,\n",
              " 'rock': 7,\n",
              " 'singer-songwriter': 8,\n",
              " 'soul': 9}"
            ]
          },
          "metadata": {},
          "execution_count": 39
        }
      ],
      "source": [
        "genre_mapping"
      ]
    },
    {
      "cell_type": "code",
      "execution_count": 40,
      "metadata": {
        "id": "zcAYqDk5JsSQ",
        "colab": {
          "base_uri": "https://localhost:8080/"
        },
        "outputId": "76154bae-2113-4b8c-e3a3-319cb3206701"
      },
      "outputs": [
        {
          "output_type": "execute_result",
          "data": {
            "text/plain": [
              "Counter({0: 763,\n",
              "         1: 690,\n",
              "         2: 537,\n",
              "         3: 865,\n",
              "         4: 4143,\n",
              "         5: 306,\n",
              "         6: 783,\n",
              "         7: 1159,\n",
              "         8: 556,\n",
              "         9: 1030})"
            ]
          },
          "metadata": {},
          "execution_count": 40
        }
      ],
      "source": [
        "df_y_train = pd.DataFrame(split0['y_train'])#, index = split0['y_train'].index, columns=[\"genres\"])\n",
        "\n",
        "counter = Counter(df_y_train['labels'])\n",
        "counter"
      ]
    },
    {
      "cell_type": "code",
      "source": [
        "MIN_COUNT = min(counter.values())\n",
        "MIN_COUNT"
      ],
      "metadata": {
        "colab": {
          "base_uri": "https://localhost:8080/"
        },
        "id": "A6eWrf9gEAvg",
        "outputId": "f95fbf79-9992-4cc6-a6de-7dc3745131ec"
      },
      "execution_count": 41,
      "outputs": [
        {
          "output_type": "execute_result",
          "data": {
            "text/plain": [
              "306"
            ]
          },
          "metadata": {},
          "execution_count": 41
        }
      ]
    },
    {
      "cell_type": "code",
      "source": [
        "SCALER = 4"
      ],
      "metadata": {
        "id": "tIu6rGOcDZDv"
      },
      "execution_count": 42,
      "outputs": []
    },
    {
      "cell_type": "code",
      "execution_count": 43,
      "metadata": {
        "id": "jx2LgNRPJsSP",
        "colab": {
          "base_uri": "https://localhost:8080/"
        },
        "outputId": "81303409-e3bd-4c9e-c0ac-e6ac13ffe8e1"
      },
      "outputs": [
        {
          "output_type": "execute_result",
          "data": {
            "text/plain": [
              "{0: 3, 1: 3, 2: 3, 3: 3, 4: 3, 5: 3, 6: 3, 7: 3, 8: 3, 9: 3}"
            ]
          },
          "metadata": {},
          "execution_count": 43
        }
      ],
      "source": [
        "genre_needs_per_song = {}\n",
        "for genre, count in counter.items():\n",
        "  #each song is double\n",
        "  genre_needs_per_song[genre] = SCALER-1\n",
        "  #if genre != 4:\n",
        "  #  genre_needs_per_song[genre] = int(round((genre_dict[4] - count)/count, 0))\n",
        "genre_needs_per_song"
      ]
    },
    {
      "cell_type": "markdown",
      "metadata": {
        "id": "Kbz_WzTtbzVL"
      },
      "source": [
        "Be careful, we cannot run this function twice!!\n",
        "\n",
        "WE ONLY AUGMENT TRAINING DATA"
      ]
    },
    {
      "cell_type": "code",
      "execution_count": 44,
      "metadata": {
        "id": "_XD9vJnKaLQ4",
        "colab": {
          "base_uri": "https://localhost:8080/"
        },
        "outputId": "433e07dc-bab0-413f-f131-329fd91bc6fa"
      },
      "outputs": [
        {
          "output_type": "execute_result",
          "data": {
            "text/plain": [
              "13539"
            ]
          },
          "metadata": {},
          "execution_count": 44
        }
      ],
      "source": [
        "ORIGINAL_SIZE = split0['X_train'].tail(1).index.item()\n",
        "ORIGINAL_SIZE"
      ]
    },
    {
      "cell_type": "markdown",
      "source": [
        "Create augmented data as separate so that we can do partial_fit(), not to overflow memory."
      ],
      "metadata": {
        "id": "Gl0Dae12Z_9j"
      }
    },
    {
      "cell_type": "code",
      "source": [
        "#type(split0['X_train'])\n",
        "augmented_X_train = pd.Series(data = [])\n",
        "augmented_y_train = pd.Series(data = [])\n",
        "augmented_count_by_genre = {0:MIN_COUNT*SCALER, 1:MIN_COUNT*SCALER, 2:MIN_COUNT*SCALER\n",
        "                            , 3:MIN_COUNT*SCALER, 4:MIN_COUNT*SCALER, 5:MIN_COUNT*SCALER, 6:MIN_COUNT*SCALER, \n",
        "                            7:MIN_COUNT*SCALER,8:MIN_COUNT*SCALER,9:MIN_COUNT*SCALER}\n",
        "augmented_count_by_genre"
      ],
      "metadata": {
        "colab": {
          "base_uri": "https://localhost:8080/"
        },
        "id": "L5sXcg_uaJPk",
        "outputId": "440994fa-5115-4a21-fd4f-616e548f4738"
      },
      "execution_count": 45,
      "outputs": [
        {
          "output_type": "stream",
          "name": "stderr",
          "text": [
            "/usr/local/lib/python3.7/dist-packages/ipykernel_launcher.py:2: DeprecationWarning: The default dtype for empty Series will be 'object' instead of 'float64' in a future version. Specify a dtype explicitly to silence this warning.\n",
            "  \n",
            "/usr/local/lib/python3.7/dist-packages/ipykernel_launcher.py:3: DeprecationWarning: The default dtype for empty Series will be 'object' instead of 'float64' in a future version. Specify a dtype explicitly to silence this warning.\n",
            "  This is separate from the ipykernel package so we can avoid doing imports until\n"
          ]
        },
        {
          "output_type": "execute_result",
          "data": {
            "text/plain": [
              "{0: 1224,\n",
              " 1: 1224,\n",
              " 2: 1224,\n",
              " 3: 1224,\n",
              " 4: 1224,\n",
              " 5: 1224,\n",
              " 6: 1224,\n",
              " 7: 1224,\n",
              " 8: 1224,\n",
              " 9: 1224}"
            ]
          },
          "metadata": {},
          "execution_count": 45
        }
      ]
    },
    {
      "cell_type": "code",
      "source": [
        "for idx, token_list in split0['X_train'].loc[0:ORIGINAL_SIZE].items():\n",
        "  genre_code = split0['y_train'].loc[idx]\n",
        "  #genre = genre_mapping[genre_code]\n",
        "  #if genre_code != 4:\n",
        "  if genre_code!= 5 and \\\n",
        "    augmented_count_by_genre[genre_code] <= 0 or Counter(augmented_y_train)[genre_code] >= MIN_COUNT*SCALER:\n",
        "    continue\n",
        "\n",
        "  else:\n",
        "    needs = genre_needs_per_song[genre_code]\n",
        "    original_df_row = df_genre_by_lang.loc[idx]\n",
        "    new_songs= eda(original_df_row['lyric'], alpha_sr=0.1, alpha_ri=0.1, alpha_rs=0.1, p_rd=0.1, num_aug=needs)\n",
        "\n",
        "    augmented_count_by_genre[genre_code]-=len(new_songs)\n",
        "\n",
        "    for new_song in new_songs:\n",
        "      new_song_tokens = new_song.split(' ')\n",
        "      augmented_X_train = augmented_X_train.append( pd.Series([new_song_tokens]) , ignore_index=True)\n",
        "      augmented_y_train = augmented_y_train.append( pd.Series( [genre_code] ) , ignore_index=True)\n",
        "    \n",
        "    #split0['X_train'] = split0['X_train'].append( pd.Series([new_song_tokens]) , ignore_index=True)\n",
        "    #split0['y_train'] = split0['y_train'].append( pd.Series( [genre_code] ) , ignore_index=True)\n",
        "      "
      ],
      "metadata": {
        "id": "5-QfbojVEKBX"
      },
      "execution_count": 46,
      "outputs": []
    },
    {
      "cell_type": "code",
      "source": [
        "type(augmented_X_train)"
      ],
      "metadata": {
        "colab": {
          "base_uri": "https://localhost:8080/"
        },
        "id": "UiPMuhgeE2W5",
        "outputId": "e9ee162b-7d8a-4e51-ce8f-8486d38abd22"
      },
      "execution_count": 47,
      "outputs": [
        {
          "output_type": "execute_result",
          "data": {
            "text/plain": [
              "pandas.core.series.Series"
            ]
          },
          "metadata": {},
          "execution_count": 47
        }
      ]
    },
    {
      "cell_type": "code",
      "source": [
        "augmented_X_train.shape"
      ],
      "metadata": {
        "colab": {
          "base_uri": "https://localhost:8080/"
        },
        "id": "HPyJIsFNFLsO",
        "outputId": "aee83601-817b-4c5f-d073-295f40a8773d"
      },
      "execution_count": 75,
      "outputs": [
        {
          "output_type": "execute_result",
          "data": {
            "text/plain": [
              "(12240,)"
            ]
          },
          "metadata": {},
          "execution_count": 75
        }
      ]
    },
    {
      "cell_type": "code",
      "source": [
        "split0['X_train'].shape"
      ],
      "metadata": {
        "colab": {
          "base_uri": "https://localhost:8080/"
        },
        "id": "uQMVXpoDFPsf",
        "outputId": "7084e22b-3e95-4701-f304-d88b655a8555"
      },
      "execution_count": 76,
      "outputs": [
        {
          "output_type": "execute_result",
          "data": {
            "text/plain": [
              "(10832,)"
            ]
          },
          "metadata": {},
          "execution_count": 76
        }
      ]
    },
    {
      "cell_type": "code",
      "source": [
        "Counter(augmented_y_train)"
      ],
      "metadata": {
        "colab": {
          "base_uri": "https://localhost:8080/"
        },
        "id": "9R95xWkzawa5",
        "outputId": "f3c026af-6552-4ece-89fe-c5ac53bdd3e2"
      },
      "execution_count": 77,
      "outputs": [
        {
          "output_type": "execute_result",
          "data": {
            "text/plain": [
              "Counter({0: 1224,\n",
              "         1: 1224,\n",
              "         2: 1224,\n",
              "         3: 1224,\n",
              "         4: 1224,\n",
              "         5: 1224,\n",
              "         6: 1224,\n",
              "         7: 1224,\n",
              "         8: 1224,\n",
              "         9: 1224})"
            ]
          },
          "metadata": {},
          "execution_count": 77
        }
      ]
    },
    {
      "cell_type": "code",
      "source": [
        "split0['X_train'].shape"
      ],
      "metadata": {
        "colab": {
          "base_uri": "https://localhost:8080/"
        },
        "id": "XcC02042G4S7",
        "outputId": "f351190d-de70-4603-e500-fcfcb2dd3020"
      },
      "execution_count": 78,
      "outputs": [
        {
          "output_type": "execute_result",
          "data": {
            "text/plain": [
              "(10832,)"
            ]
          },
          "metadata": {},
          "execution_count": 78
        }
      ]
    },
    {
      "cell_type": "markdown",
      "metadata": {
        "id": "v36BWiv21XYj"
      },
      "source": [
        "### TF-IDF"
      ]
    },
    {
      "cell_type": "markdown",
      "metadata": {
        "id": "fEnctm8Q3gIu"
      },
      "source": [
        "Get lyric from splitted tokens"
      ]
    },
    {
      "cell_type": "code",
      "source": [
        "last_index_X_train = split0['X_train'].tail(1).index.item() \n",
        "print(last_index_X_train)"
      ],
      "metadata": {
        "colab": {
          "base_uri": "https://localhost:8080/"
        },
        "id": "Nih0scnhL38w",
        "outputId": "265eae09-2bc8-4605-f649-66a9a6b53910"
      },
      "execution_count": 79,
      "outputs": [
        {
          "output_type": "stream",
          "name": "stdout",
          "text": [
            "13539\n"
          ]
        }
      ]
    },
    {
      "cell_type": "code",
      "source": [
        "split0['X_train'].loc[last_index_X_train-1:last_index_X_train]"
      ],
      "metadata": {
        "colab": {
          "base_uri": "https://localhost:8080/"
        },
        "id": "IbwHmPfiMNyv",
        "outputId": "f9322faf-abc2-4d5f-cf99-644ae417dcfb"
      },
      "execution_count": 80,
      "outputs": [
        {
          "output_type": "execute_result",
          "data": {
            "text/plain": [
              "13538    [Girl, know, I, feel, I, really, been, away, o...\n",
              "13539    [oh, must, go, on, standing, break, I, oh, mus...\n",
              "Name: texts, dtype: object"
            ]
          },
          "metadata": {},
          "execution_count": 80
        }
      ]
    },
    {
      "cell_type": "code",
      "source": [
        "for idx, _ in split0['X_train'].loc[0:10].items():\n",
        "  print(idx)\n",
        "  print(split0['X_train'].loc[idx] )"
      ],
      "metadata": {
        "colab": {
          "base_uri": "https://localhost:8080/"
        },
        "id": "Ou1hU9NuLa5o",
        "outputId": "fc3f0f46-dabe-4f5b-ec64-136c46362d9a"
      },
      "execution_count": 81,
      "outputs": [
        {
          "output_type": "stream",
          "name": "stdout",
          "text": [
            "0\n",
            "['a', 'sunny', 'day', 'so', 'I', 'got', 'nowhere', 'hide', 'Not', 'a', 'cloud', 'in', 'sky', 'So', 'pretending', 'got', 'in', 'eyes', 'Just', 'so', 'see', 'me', 'cry', 'So', 'I', 'wait', 'storm', 'ooh', 'hide', 'all', 'tears', 'but', 'taking', 'too', 'long', 'But', 'I', 'run', 'door', 'ooh', 'think', 'weak', 'then', 'makes', 'strong', 'rain', 'on', 'price', 'on', 'like', 'waiting', 'in', 'a', 'hundred', 'degrees', 'rain', 'on', 'be', 'standing', 'under', 'rain', 'on', 'Disguise', 'tears', 'so', 'never', 'see', 'Let', 'it', 'rain', 'it', 'rain', 'let', 'it', 'rain', 'on', 'me', 'let', 'it', 'rain', 'let', 'it', 'rain', 'on', 'Let', 'it', 'rain', 'tears', 'are', 'rainfall', 'flow', 'right', 'Let', 'it', 'rain', 'it', 'rain', 'let', 'it', 'rain', 'on', 'me', 'let', 'it', 'rain', 'let', 'it', 'rain', 'on', 'Let', 'it', 'rain', 'tears', 'are', 'rainfall', 'flow', 'right', 'I', 'give', 'pleasure', 'see', 'me', 'breaking', 'remember', 'me', 'not', 'worth', 'it', 'get', 'better', 'only', 'down', 'a', 'second', 'I', 'give', 'victory', 'So', 'I', 'wait', 'storm', 'ooh', 'hide', 'all', 'tears', 'but', 'taking', 'too', 'long', 'But', 'I', 'run', 'door', 'ooh', 'think', 'weak', 'then', 'makes', 'strong', 'rain', 'on', 'price', 'on', 'like', 'waiting', 'in', 'a', 'hundred', 'degrees', 'rain', 'on', 'be', 'standing', 'under', 'on', 'Disguise', 'tears', 'so', 'never', 'see', 'Let', 'it', 'rain', 'it', 'rain', 'let', 'it', 'rain', 'on', 'me', 'let', 'it', 'rain', 'let', 'it', 'rain', 'on', 'Let', 'it', 'rain', 'tears', 'are', 'rainfall', 'flow', 'right', 'Let', 'it', 'rain', 'it', 'rain', 'let', 'it', 'rain', 'on', 'me', 'let', 'it', 'rain', 'let', 'it', 'rain', 'on', 'Let', 'it', 'rain', 'tears', 'are', 'rainfall', 'flow', 'right', 'a', 'sunny', 'day', 'so', 'got', 'nowhere', 'hide', 'Not', 'a', 'cloud', 'in', 'sky', 'So', 'pretending', 'got', 'in', 'eye', 'Just', 'so', 'see', 'me', 'cry', 'rain', 'on', 'price', 'on', 'like', 'waiting', 'in', 'a', 'hundred', 'degrees', 'rain', 'on', 'be', 'standing', 'under', 'rain', 'on', 'Disguise', 'tears', 'so', 'never', 'see', 'Let', 'it', 'rain', 'it', 'rain', 'let', 'it', 'rain', 'on', 'me', 'let', 'it', 'rain', 'let', 'it', 'rain', 'on', 'Let', 'it', 'rain', 'tears', 'are', 'rainfall', 'flow', 'right', 'Let', 'it', 'rain', 'it', 'rain', 'let', 'it', 'rain', 'on', 'me', 'let', 'it', 'rain', 'let', 'it', 'rain', 'on', 'Let', 'it', 'rain', 'tears', 'are', 'rainfall', 'flow', 'right', 'Let', 'it', 'rain', 'let', 'it', 'rain', 'let', 'it', 'rain', 'let', 'it', 'rain', 'yeah', 'it', 'rain', 'let', 'it', 'rain', 'on', 'me', 'let', 'it', 'rain', 'let', 'it', 'rain', 'on', 'tears', 'are', 'rainfall', 'flow', 'right', 'Let', 'it', 'rain', 'let', 'it', 'rain', 'let', 'it', 'rain', 'let', 'it', 'rain', 'it', 'rain', 'let', 'it', 'rain', 'on', 'me', 'let', 'it', 'rain', 'let', 'it', 'rain', 'on', 'Let', 'it', 'rain', 'let', 'it', 'rain', 'let', 'it', 'rain', 'tears', 'are', 'rainfall', 'flow', 'right']\n",
            "1\n",
            "['Tell', 'me', 'a', 'tale', 'always', 'was', 'Sing', 'me', 'a', 'song', 'always', 'be', 'in', 'Tell', 'me', 'a', 'story', 'I', 'can', 'read', 'Tell', 'me', 'a', 'story', 'I', 'believe', 'Paint', 'me', 'a', 'picture', 'I', 'can', 'see', 'Give', 'me', 'a', 'touch', 'I', 'can', 'feel', 'Turn', 'me', 'around', 'so', 'I', 'can', 'be', 'I', 'was', 'meant', 'be', 'Lord', 'I', 'need', 'loving', 'Lord', 'I', 'need', 'good', 'good', 'loving', 'Lord', 'I', 'need', 'loving', 'Lord', 'I', 'need', 'good', 'good', 'loving', 'Show', 'me', 'some', 'strength', 'I', 'can', 'use', 'Give', 'me', 'a', 'sound', 'I', 'refuse', 'Tell', 'me', 'story', 'I', 'can', 'read', 'Tell', 'me', 'a', 'story', 'I', 'can', 'believe', 'Tell', 'me', 'a', 'tale', 'always', 'was', 'Sing', 'me', 'a', 'song', 'always', 'be', 'in', 'Turn', 'me', 'around', 'so', 'I', 'can', 'be', 'I', 'was', 'meant', 'be', 'Lord', 'I', 'need', 'loving', 'Lord', 'I', 'need', 'good', 'good', 'loving', 'Lord', 'I', 'need', 'loving', 'Lord', 'I', 'need', 'good', 'good', 'loving', 'Lord', 'I', 'need', 'loving', 'Lord', 'I', 'need', 'good', 'good', 'loving', 'Lord', 'I', 'need', 'loving', 'Lord', 'I', 'need', 'good', 'good', 'loving']\n",
            "3\n",
            "['like', 'a', 'conversation', 'stops', 'breathe', 'Is', 'it', 'imagination', 'or', 'did', 'God', 'already', 'leave', 'Such', 'destruction', 'pure', 'white', 'castles', 'in', 'sand', 'No', 'time', 'introduction', 'all', 'money', 'changing', 'hands', 'satellite', 'says', 'a', 'look', 'at', 'all', 'But', 'old', 'man', 'says', 'want', 'family', 'liberty', 'I', 'do', 'Look', 'eyes', 'any', 'patient', 'man', 'be', 'amber', 'green', 'or', 'blue', 'a', 'piece', 'God', 'staring', 'back', 'at', 'But', 'see', 'children', 'old', 'folk', 'fend', 'see', 'broken', 'women', 'On', 'imaginary', 'shelves', 'But', 'satellite', 'says', 'people', 'look', 'at', 'all', 'want', 'see', 'things', 'Children', 'in', 'arms', 'he', 'turns', 'back']\n",
            "6\n",
            "['Locked', 'up', 'tight', 'Like', 'I', 'never', 'feel', 'again', 'Stuck', 'in', 'some', 'kind', 'love', 'prison', 'threw', 'away', 'key', 'oh', 'oh', 'Terrified', 'I', 'stared', 'eyes', 'Made', 'me', 'stop', 'realise', 'possibilities', 'So', 'so', 'love', 'like', 'never', 'been', 'broken', 'say', 'it', 'like', 'never', 'been', 'spoken', 'Tonight', 'tonight', 'letting', 'go', 'go', 'go', 'go', 'give', 'it', 'like', 'never', 'been', 'taken', 'fall', 'like', 'I', 'need', 'saving', 'Tonight', 'tonight', 'letting', 'go', 'go', 'go', 'So', 'played', 'out', 'same', 'lies', 'a', 'different', 'face', 'But', 'in', 'words', 'say', 'makes', 'all', 'feel', 'so', 'real', 'love', 'like', 'never', 'been', 'broken', 'say', 'it', 'like', 'never', 'been', 'spoken', 'Tonight', 'tonight', 'letting', 'go', 'go', 'go', 'go', 'give', 'it', 'like', 'never', 'been', 'taken', 'fall', 'like', 'I', 'need', 'saving', 'Tonight', 'tonight', 'letting', 'go', 'go', 'go', 'No', 'need', 'me', 'run', 'run', 'run', 'making', 'me', 'believe', 'in', 'No', 'need', 'go', 'hide', 'hide', 'hide', 'give', 'every', 'little', 'piece', 'me', 'love', 'like', 'never', 'been', 'broken', 'love', 'like', 'never', 'been', 'broken', 'love', 'like', 'never', 'been', 'broken', 'say', 'it', 'like', 'never', 'been', 'spoken', 'Tonight', 'tonight', 'letting', 'go', 'letting', 'go', 'give', 'it', 'like', 'never', 'been', 'taken', 'fall', 'like', 'I', 'need', 'saving', 'Tonight', 'tonight', 'letting', 'go', 'go', 'go', 'go']\n",
            "7\n",
            "['in', 'crib', 'about', 'leer', 'jets', 'coupes', 'way', 'salt', 'sell', 'records', 'like', 'snoop', 'interrupted', 'by', 'a', 'doorbell', '52', 'who', 'hell', 'is', 'I', 'gets', 'up', 'quick', 'Cocks', 'shit', 'Stop', 'dogs', 'Then', 'proceed', 'Its', 'a', 'face', 'I', 'seen', 'before', 'nigga', 'sing', 'used', 'sling', 'on', '16th', 'floor', 'Check', 'it', 'I', 'look', 'deeper', 'I', 'see', 'blood', 'up', 'on', 'sneakers', 'fist', 'gripped', 'a', 'chrome', 'So', 'I', 'dip', 'Nigga', 'is', 'or', 'He', 'tells', 'me', 'just', 'got', 'hit', 'up', 'at', 'beacon', 'I', 'opens', 'up', 'door', 'pitiful', 'Is', 'he', 'in', 'Retaliation', 'one', 'be', 'minimal', 'a', 'criminal', 'Way', 'before', 'rap', 'shit', 'Bust', 'gat', 'shit', 'Puff', 'even', 'know', 'happened', 'done', 'smoothly', 'Silencers', 'on', 'uzi', 'Stash', 'in', 'alibi', 'any', 'a', 'booty', 'done', 'fuck', 'pop', 'Head', 'bout', 'man', 'got', 'ta', 'die', 'I', 'got', 'got', 'ta', 'go', 'got', 'die', 'Let', 'gunshots', 'blow', 'got', 'die', 'Nobody', 'got', 'ta', 'know', 'I', 'killed', 'ass', 'in', 'mist', 'kid', 'got', 'ta', 'die', 'I', 'got', 'got', 'ta', 'go', 'got', 'die', 'Let', 'gunshots', 'blow', 'got', 'die', 'Nobody', 'got', 'ta', 'know', 'I', 'killed', 'ass', 'in', 'mist', 'kid', 'clips', 'he', 'explained', 'situation', 'Precisely', 'so', 'know', 'exactly', 'Some', 'kid', 'named', 'jason', 'In', 'a', 'station', 'wagon', 'Was', 'About', 'much', 'loot', 'crack', 'he', 'Rock', 'had', 'a', 'grip', 'so', 'formed', 'up', 'a', 'clique', 'Small', 'crew', 'time', 'I', 'was', 'locked', 'up', 'True', 'indeed', 'But', 'nigga', 'let', 'me', 'proceed', 'fill', 'clips', 'too', 'high', 'Give', 'bullets', 'room', 'breathe', 'Damn', 'was', 'Yeah', 'One', 'night', 'in', 'town', 'Blew', 'fuck', 'up', 'went', 'home', 'jay', 'got', 'stuck', 'fuck', 'up', 'Hit', 'twice', 'Got', 'right', 'virgin', 'white', 'Pistol', 'whipped', 'kids', 'taped', 'up', 'wife', 'He', 'said', 'rock', 'set', 'em', 'up', 'no', 'question', 'Wet', 'em', 'up', 'no', 'less', '50', 'shots', 'in', 'direction', 'many', 'Man', 'nigga', 'I', 'seen', 'mad', 'holes', 'kinda', 'Hitch', 'links', 'cocks', 'But', 'fuck', 'I', 'know', 'all', 'niggas', 'rest', 'at', 'In', 'be', 'strapped', 'Supreme', 'in', 'black', 'Is', 'downstairs', 'engine', 'Find', 'a', 'bag', 'put', 'guns', 'in', 'got', 'ta', 'die', 'I', 'got', 'got', 'ta', 'go', 'got', 'die', 'Let', 'gunshots', 'blow', 'got', 'die', 'Nobody', 'got', 'ta', 'know', 'I', 'killed', 'ass', 'in', 'mist', 'kid', 'got', 'ta', 'die', 'I', 'got', 'got', 'ta', 'go', 'got', 'die', 'Let', 'gunshots', 'blow', 'got', 'die', 'Nobody', 'got', 'ta', 'know', 'I', 'killed', 'ass', 'in', 'mist', 'kid', 'Exchanged', 'hugs', 'pounds', 'before', 'throw', 'down', 'go', 'down', 'Lay', 'niggas', 'low-down', 'Slow', 'down', 'Fuck', 'all', 'shit', 'Run', 'up', 'in', 'cribs', 'make', 'em', 'catch', 'man', 'n', 'shit', 'See', 'niggas', 'like', 'do', 'ten', 'year', 'bids', 'Miss', 'niggas', 'want', 'murder', 'innocent', 'kids', 'Not', 'i', 'One', 'niggas', 'in', 'eye', 'jason', 'no', 'slugs', 'be', 'wasted', 'Revenge', 'at', 'tip', 'lips', 'I', 'wait', 'feel', 'clip', 'in', 'hips', 'Pass', 'chocolate', 'Thai', 'Sing', 'lie', 'jason', 'back', 'me', 'faculty', 'I', 'start', 'get', 'a', 'funny', 'Put', 'mask', 'on', 'in', 'case', 'niggas', 'start', 'Scream', 'name', 'out', 'Squeeze', 'six', 'knuckles', 'shorter', 'Nigga', 'turned', 'around', 'daughter']\n",
            "8\n",
            "['Weekends', 'in', 'bed', 'no', 'scramble', 'eggs', 'or', 'bacon', 'I', 'just', 'have', 'time', 'Backs', 'on', 'grass', 'heads', 'in', 'clouds', 'Closed', 'eyes', 'Enjoy', 'view', 'hear', 'real', 'world', 'passing', 'by', 'Saying', 'crazy', 'spend', 'all', 'time', 'lying', 'side', 'by', 'side', 'Going', 'nowhere', 'really', 'Getting', 'busy', 'doing', 'nothing', 'spend', 'all', 'time', 'running', 'lives', 'Going', 'nowhere', 'really', 'Getting', 'busy', 'doing', 'nothing', 'No', 'magazines', 'or', 'both', 'got', 'Better', 'things', 'do', 'hold', 'hand', 'Or', 'dance', 'together', 'so', 'hard', 'choose', 'Every', 'time', 'hear', 'whole', 'world', 'rushing', 'by', 'I', 'know', 'not', 'crazy', 'spend', 'all', 'time', 'lying', 'side', 'by', 'side', 'Going', 'nowhere', 'really', 'Getting', 'busy', 'doing', 'nothing', 'spend', 'all', 'time', 'running', 'lives', 'Going', 'nowhere', 'really', 'Getting', 'busy', 'doing', 'nothing', 'be', 'working', 'hard', 'Instead', 'lying', 'here', 'naked', 'Phone', 'rings', 'but', 'I', 'wont', 'take', 'it', 'Cos', 'only', 'get', 'one', 'life', 'only', 'get', 'one', 'life', 'All', 'time', 'lying', 'side', 'by', 'side', 'Going', 'nowhere', 'really', 'Getting', 'busy', 'doing', 'nothing', 'spend', 'all', 'time', 'running', 'lives', 'Going', 'nowhere', 'really', 'Getting', 'busy', 'doing', 'nothing', 'All', 'time', 'doing', 'nothing', 'All', 'time', 'getting', 'busy', 'doing', 'nothing']\n",
            "10\n",
            "['every', 'breath', 'I', 'breathe', 'making', 'history', 'name', 'on', 'lips', 'ages', 'fall', 'bits', 'In', 'flames', 'I', 'sleep', 'soundly', 'angels', 'around', 'me', 'I', 'lay', 'at', 'feet', 'breath', 'I', 'breathe', 'Some', 'kind', 'violent', 'bliss', 'Led', 'me', 'love', 'like', 'One', 'thousand', 'deaths', 'dear', 'dying', 'here', 'In', 'flames', 'I', 'sleep', 'soundly', 'angels', 'around', 'me', 'I', 'lay', 'at', 'feet', 'breath', 'I', 'breathe', 'breath', 'I', 'breathe', 'breath', 'I', 'breathe', 'breath', 'I', 'breathe', 'breath', 'I', 'breathe']\n"
          ]
        }
      ]
    },
    {
      "cell_type": "code",
      "execution_count": 82,
      "metadata": {
        "id": "g-BkW6uB2qnG"
      },
      "outputs": [],
      "source": [
        "for idx, token_list in split0['X_train'].loc[0:last_index_X_train].items():\n",
        "  if len(token_list)>1:\n",
        "    lyric = ' '.join(token_list)\n",
        "    #print(lyric)\n",
        "    split0['X_train'].loc[idx] = lyric"
      ]
    },
    {
      "cell_type": "code",
      "execution_count": 83,
      "metadata": {
        "id": "DsS6F94T3Xqy",
        "colab": {
          "base_uri": "https://localhost:8080/"
        },
        "outputId": "2cdf3f08-dd05-4b12-a135-4136992fd69b"
      },
      "outputs": [
        {
          "output_type": "execute_result",
          "data": {
            "text/plain": [
              "0        a sunny day so I got nowhere hide Not a cloud ...\n",
              "1        Tell me a tale always was Sing me a song alway...\n",
              "3        like a conversation stops breathe Is it imagin...\n",
              "6        Locked up tight Like I never feel again Stuck ...\n",
              "7        in crib about leer jets coupes way salt sell r...\n",
              "                               ...                        \n",
              "13534    grandma cookies nigga Shout out leaf yeah bitc...\n",
              "13536    Oh yeah yeah Last night I took a walk in snow ...\n",
              "13537    Innocence it come easy in a sense it never wil...\n",
              "13538    Girl know I feel I really been away oh baby An...\n",
              "13539    oh must go on standing break I oh must go on s...\n",
              "Name: texts, Length: 10832, dtype: object"
            ]
          },
          "metadata": {},
          "execution_count": 83
        }
      ],
      "source": [
        "split0['X_train']"
      ]
    },
    {
      "cell_type": "markdown",
      "metadata": {
        "id": "oIO-UXVK4NHb"
      },
      "source": [
        "Similarly, get lyrics for the X_test"
      ]
    },
    {
      "cell_type": "code",
      "execution_count": 84,
      "metadata": {
        "id": "KQlDa5cz4l_W",
        "colab": {
          "base_uri": "https://localhost:8080/"
        },
        "outputId": "493f55f7-d8b5-4fae-e80c-5d82028722ae"
      },
      "outputs": [
        {
          "output_type": "stream",
          "name": "stdout",
          "text": [
            "13535\n"
          ]
        }
      ],
      "source": [
        "last_index_X_test = split0['X_test'].tail(1).index.item() \n",
        "print(last_index_X_test)"
      ]
    },
    {
      "cell_type": "code",
      "execution_count": 85,
      "metadata": {
        "id": "rvz7nqNu4QV8"
      },
      "outputs": [],
      "source": [
        "from typing import List\n",
        "for idx, token_list in split0['X_test'].loc[0:last_index_X_test].items():\n",
        "  if (type(token_list) != str):\n",
        "    lyric = ' '.join(token_list)\n",
        "    #print(lyric)\n",
        "    split0['X_test'].loc[idx] = lyric"
      ]
    },
    {
      "cell_type": "code",
      "execution_count": 86,
      "metadata": {
        "id": "XEQ-RmR_4Ksg",
        "colab": {
          "base_uri": "https://localhost:8080/"
        },
        "outputId": "433b12e4-3651-42a1-8cfd-ddf776d63e5b"
      },
      "outputs": [
        {
          "output_type": "execute_result",
          "data": {
            "text/plain": [
              "2        A A went school learn girl Things never never ...\n",
              "4        Say words I say Say on another day Fragile wor...\n",
              "5        I was alone I was made stone took me home buil...\n",
              "9        Again burden losing rests shoulders its weight...\n",
              "20       only been three weeks a bag speed PhD comes by...\n",
              "                               ...                        \n",
              "13517    Like legend Phoenix All ends beginnings keeps ...\n",
              "13522    Mr Telephone man wrong line I dial number I ge...\n",
              "13526    can imagine it be like never never kissed can ...\n",
              "13532    Love life hurt me broken heart now leave me Lo...\n",
              "13535    think afraid come in know been made up Hold ti...\n",
              "Name: texts, Length: 2708, dtype: object"
            ]
          },
          "metadata": {},
          "execution_count": 86
        }
      ],
      "source": [
        "split0['X_test']"
      ]
    },
    {
      "cell_type": "code",
      "source": [
        "print(type(augmented_X_train))\n",
        "print(type(split0['X_train']))\n",
        "Xtrain_plusEDA = split0['X_train'].append(augmented_X_train, ignore_index = True )\n",
        "print(Xtrain_plusEDA.shape)"
      ],
      "metadata": {
        "colab": {
          "base_uri": "https://localhost:8080/"
        },
        "id": "TbK-fWAKO1gK",
        "outputId": "09654f6c-d514-4d24-8d67-db1e3c69c3b2"
      },
      "execution_count": 108,
      "outputs": [
        {
          "output_type": "stream",
          "name": "stdout",
          "text": [
            "<class 'pandas.core.series.Series'>\n",
            "<class 'pandas.core.series.Series'>\n",
            "(23072,)\n"
          ]
        }
      ]
    },
    {
      "cell_type": "code",
      "source": [
        ""
      ],
      "metadata": {
        "id": "5QpyAKpPPVjt"
      },
      "execution_count": null,
      "outputs": []
    },
    {
      "cell_type": "markdown",
      "metadata": {
        "id": "ikwCG2bHQnCD"
      },
      "source": [
        "#### Step2 get bag-of-words & apply TF-IDF"
      ]
    },
    {
      "cell_type": "code",
      "execution_count": 87,
      "metadata": {
        "id": "6qAZKt5sPc_p",
        "colab": {
          "base_uri": "https://localhost:8080/"
        },
        "outputId": "6ba21dd5-f3d5-4952-ca3a-80ab40ed80a6"
      },
      "outputs": [
        {
          "output_type": "execute_result",
          "data": {
            "text/plain": [
              "array([[0., 0., 0., ..., 0., 0., 0.],\n",
              "       [0., 0., 0., ..., 0., 0., 0.],\n",
              "       [0., 0., 0., ..., 0., 0., 0.],\n",
              "       ...,\n",
              "       [0., 0., 0., ..., 0., 0., 0.],\n",
              "       [0., 0., 0., ..., 0., 0., 0.],\n",
              "       [0., 0., 0., ..., 0., 0., 0.]])"
            ]
          },
          "metadata": {},
          "execution_count": 87
        }
      ],
      "source": [
        "\n",
        "from sklearn.metrics import accuracy_score,classification_report\n",
        "from sklearn.feature_extraction.text import TfidfVectorizer\n",
        "\n",
        "tfidf_vectorizer = TfidfVectorizer(analyzer=\"word\", stop_words='english')\n",
        "#try this\n",
        "tfidf_vectorizer = tfidf_vectorizer.fit(Xtrain_plusEDA)\n",
        "X_train_tfidf = tfidf_vectorizer.transform(split0['X_train']).toarray()\n",
        "X_train_tfidf\n"
      ]
    },
    {
      "cell_type": "markdown",
      "source": [
        "Before using wordnet to check if a word is English, the TF-IDF shape was: (32496, 27309)\n",
        "Ok, now the column is: 26388, good improvement."
      ],
      "metadata": {
        "id": "QtdNJIS1BXcm"
      }
    },
    {
      "cell_type": "code",
      "execution_count": 88,
      "metadata": {
        "id": "c6kI60rwRy_7",
        "colab": {
          "base_uri": "https://localhost:8080/"
        },
        "outputId": "4ac82a00-11be-495d-a16d-f8822b3369bf"
      },
      "outputs": [
        {
          "output_type": "execute_result",
          "data": {
            "text/plain": [
              "(10832, 21964)"
            ]
          },
          "metadata": {},
          "execution_count": 88
        }
      ],
      "source": [
        "X_train_tfidf.shape"
      ]
    },
    {
      "cell_type": "markdown",
      "metadata": {
        "id": "GC60EVwICt_s"
      },
      "source": [
        "### 1.Multinomial NM after Augmented"
      ]
    },
    {
      "cell_type": "code",
      "source": [
        "print(\"type(X_train_tfidf): \", type(X_train_tfidf))\n",
        "TOTAL_SIZE = X_train_tfidf.shape[0]\n",
        "EPOCH = 5\n",
        "SIZE_PER_EPOCH = TOTAL_SIZE/EPOCH"
      ],
      "metadata": {
        "colab": {
          "base_uri": "https://localhost:8080/"
        },
        "id": "9QriJqJ0YP62",
        "outputId": "2916d817-97ea-4341-ab7b-3f7f97f22d2f"
      },
      "execution_count": null,
      "outputs": [
        {
          "output_type": "stream",
          "name": "stdout",
          "text": [
            "type(X_train_tfidf):  <class 'numpy.ndarray'>\n"
          ]
        }
      ]
    },
    {
      "cell_type": "code",
      "source": [
        "from imblearn.over_sampling import SMOTE\n",
        "from sklearn.naive_bayes import MultinomialNB\n",
        "\n",
        "clf_mnb_eda = MultinomialNB()\n",
        "#start = 0\n",
        "#for epoch in range(EPOCH):\n",
        "#start += SIZE_PER_EPOCH\n",
        "#X_resampled, y_resampled = SMOTE().fit_resample(X_train_tfidf[0:ORIGINAL_SIZE], split0['y_train'][0:ORIGINAL_SIZE])\n",
        "X_resampled, y_resampled = SMOTE().fit_resample(X_train_tfidf, split0['y_train'])\n",
        "#clf_mnb_eda.partial_fit(X_resampled, y_resampled, classes = np.unique(split0['y_train']))\n",
        "\n",
        "#del(X_resampled)\n",
        "#del(y_resampled)"
      ],
      "metadata": {
        "id": "JW3mM5-8YfYb"
      },
      "execution_count": 90,
      "outputs": []
    },
    {
      "cell_type": "code",
      "source": [
        "Counter(y_resampled)"
      ],
      "metadata": {
        "colab": {
          "base_uri": "https://localhost:8080/"
        },
        "id": "pIIilBQLJPPl",
        "outputId": "f3265a40-c7ee-4cea-ea8d-78dc1f73d081"
      },
      "execution_count": 91,
      "outputs": [
        {
          "output_type": "execute_result",
          "data": {
            "text/plain": [
              "Counter({0: 4143,\n",
              "         1: 4143,\n",
              "         2: 4143,\n",
              "         3: 4143,\n",
              "         4: 4143,\n",
              "         5: 4143,\n",
              "         6: 4143,\n",
              "         7: 4143,\n",
              "         8: 4143,\n",
              "         9: 4143})"
            ]
          },
          "metadata": {},
          "execution_count": 91
        }
      ]
    },
    {
      "cell_type": "code",
      "source": [
        "type(augmented_X_train)\n",
        "augmented_X_train[0]"
      ],
      "metadata": {
        "colab": {
          "base_uri": "https://localhost:8080/"
        },
        "id": "tpwP9vokgG-G",
        "outputId": "1db3ce95-9b94-43ec-e0af-21fa338658d2"
      },
      "execution_count": 92,
      "outputs": [
        {
          "output_type": "execute_result",
          "data": {
            "text/plain": [
              "['a',\n",
              " 'sunny',\n",
              " 'day',\n",
              " 'so',\n",
              " 'i',\n",
              " 'got',\n",
              " 'nowhere',\n",
              " 'it',\n",
              " 'sunny',\n",
              " 'flow',\n",
              " 'flow',\n",
              " 'in',\n",
              " 'rain',\n",
              " 'so',\n",
              " 'pretending',\n",
              " 'rainfall',\n",
              " 'in',\n",
              " 'eyes',\n",
              " 'rain',\n",
              " 'so',\n",
              " 'see',\n",
              " 'me',\n",
              " 'cry',\n",
              " 'so',\n",
              " 'i',\n",
              " 'wait',\n",
              " 'storm',\n",
              " 'ooh',\n",
              " 'hide',\n",
              " 'all',\n",
              " 'rain',\n",
              " 'but',\n",
              " 'taking',\n",
              " 'too',\n",
              " 'long',\n",
              " 'long',\n",
              " 'then',\n",
              " 'run',\n",
              " 'door',\n",
              " 'ooh',\n",
              " 'think',\n",
              " 'weak',\n",
              " 'i',\n",
              " 'makes',\n",
              " 'strong',\n",
              " 'rain',\n",
              " 'on',\n",
              " 'price',\n",
              " 'on',\n",
              " 'like',\n",
              " 'waiting',\n",
              " 'in',\n",
              " 'a',\n",
              " 'hundred',\n",
              " 'degrees',\n",
              " 'a',\n",
              " 'tears',\n",
              " 'be',\n",
              " 'so',\n",
              " 'under',\n",
              " 'rain',\n",
              " 'on',\n",
              " 'disguise',\n",
              " 'tears',\n",
              " 'so',\n",
              " 'never',\n",
              " 'see',\n",
              " 'let',\n",
              " 'it',\n",
              " 'rain',\n",
              " 'it',\n",
              " 'rain',\n",
              " 'let',\n",
              " 'it',\n",
              " 'just',\n",
              " 'on',\n",
              " 'me',\n",
              " 'let',\n",
              " 'it',\n",
              " 'rain',\n",
              " 'let',\n",
              " 'it',\n",
              " 'it',\n",
              " 'on',\n",
              " 'let',\n",
              " 'it',\n",
              " 'yeah',\n",
              " 'tears',\n",
              " 'are',\n",
              " 'rainfall',\n",
              " 'flow',\n",
              " 'right',\n",
              " 'let',\n",
              " 'it',\n",
              " 'tears',\n",
              " 'it',\n",
              " 'let',\n",
              " 'let',\n",
              " 'it',\n",
              " 'rain',\n",
              " 'on',\n",
              " 'me',\n",
              " 'let',\n",
              " 'it',\n",
              " 'rain',\n",
              " 'let',\n",
              " 'it',\n",
              " 'degrees',\n",
              " 'on',\n",
              " 'let',\n",
              " 'it',\n",
              " 'rain',\n",
              " 'flow',\n",
              " 'are',\n",
              " 'a',\n",
              " 'cloud',\n",
              " 'right',\n",
              " 'i',\n",
              " 'give',\n",
              " 'pleasure',\n",
              " 'see',\n",
              " 'me',\n",
              " 'breaking',\n",
              " 'remember',\n",
              " 'me',\n",
              " 'not',\n",
              " 'worth',\n",
              " 'so',\n",
              " 'get',\n",
              " 'on',\n",
              " 'tears',\n",
              " 'down',\n",
              " 'rain',\n",
              " 'second',\n",
              " 'i',\n",
              " 'give',\n",
              " 'victory',\n",
              " 'it',\n",
              " 'i',\n",
              " 'it',\n",
              " 'storm',\n",
              " 'ooh',\n",
              " 'hide',\n",
              " 'hide',\n",
              " 'tears',\n",
              " 'but',\n",
              " 'taking',\n",
              " 'too',\n",
              " 'but',\n",
              " 'but',\n",
              " 'rain',\n",
              " 'run',\n",
              " 'door',\n",
              " 'ooh',\n",
              " 'think',\n",
              " 'weak',\n",
              " 'then',\n",
              " 'makes',\n",
              " 'strong',\n",
              " 'sky',\n",
              " 'on',\n",
              " 'price',\n",
              " 'on',\n",
              " 'like',\n",
              " 'it',\n",
              " 'in',\n",
              " 'a',\n",
              " 'hundred',\n",
              " 'degrees',\n",
              " 'rain',\n",
              " 'on',\n",
              " 'be',\n",
              " 'standing',\n",
              " 'under',\n",
              " 'on',\n",
              " 'let',\n",
              " 'rain',\n",
              " 'so',\n",
              " 'never',\n",
              " 'see',\n",
              " 'let',\n",
              " 'it',\n",
              " 'rain',\n",
              " 'it',\n",
              " 'rain',\n",
              " 'let',\n",
              " 'it',\n",
              " 'rain',\n",
              " 'on',\n",
              " 'me',\n",
              " 'let',\n",
              " 'it',\n",
              " 'rain',\n",
              " 'let',\n",
              " 'it',\n",
              " 'rain',\n",
              " 'on',\n",
              " 'disguise',\n",
              " 'it',\n",
              " 'rain',\n",
              " 'tears',\n",
              " 'are',\n",
              " 'got',\n",
              " 'a',\n",
              " 'right',\n",
              " 'let',\n",
              " 'it',\n",
              " 'rain',\n",
              " 'it',\n",
              " 'rain',\n",
              " 'let',\n",
              " 'it',\n",
              " 'rain',\n",
              " 'on',\n",
              " 'me',\n",
              " 'rain',\n",
              " 'it',\n",
              " 'rain',\n",
              " 'right',\n",
              " 'it',\n",
              " 'rain',\n",
              " 'it',\n",
              " 'let',\n",
              " 'it',\n",
              " 'rain',\n",
              " 'tears',\n",
              " 'are',\n",
              " 'rainfall',\n",
              " 'it',\n",
              " 'right',\n",
              " 'rainfall',\n",
              " 'not',\n",
              " 'let',\n",
              " 'so',\n",
              " 'got',\n",
              " 'nowhere',\n",
              " 'hide',\n",
              " 'not',\n",
              " 'a',\n",
              " 'cloud',\n",
              " 'in',\n",
              " 'sky',\n",
              " 'standing',\n",
              " 'pretending',\n",
              " 'got',\n",
              " 'in',\n",
              " 'eye',\n",
              " 'just',\n",
              " 'so',\n",
              " 'see',\n",
              " 'me',\n",
              " 'cry',\n",
              " 'rain',\n",
              " 'on',\n",
              " 'waiting',\n",
              " 'on',\n",
              " 'like',\n",
              " 'waiting',\n",
              " 'in',\n",
              " 'let',\n",
              " 'hundred',\n",
              " 'rain',\n",
              " 'rain',\n",
              " 'on',\n",
              " 'right',\n",
              " 'standing',\n",
              " 'under',\n",
              " 'rain',\n",
              " 'rain',\n",
              " 'disguise',\n",
              " 'only',\n",
              " 'so',\n",
              " 'never',\n",
              " 'see',\n",
              " 'let',\n",
              " 'it',\n",
              " 'rain',\n",
              " 'it',\n",
              " 'let',\n",
              " 'let',\n",
              " 'it',\n",
              " 'rain',\n",
              " 'on',\n",
              " 'me',\n",
              " 'let',\n",
              " 'it',\n",
              " 'rain',\n",
              " 'let',\n",
              " 'it',\n",
              " 'rain',\n",
              " 'on',\n",
              " 'let',\n",
              " 'it',\n",
              " 'rain',\n",
              " 'it',\n",
              " 'are',\n",
              " 'rainfall',\n",
              " 'flow',\n",
              " 'right',\n",
              " 'let',\n",
              " 'it',\n",
              " 'rain',\n",
              " 'it',\n",
              " 'rain',\n",
              " 'let',\n",
              " 'it',\n",
              " 'rain',\n",
              " 'on',\n",
              " 'me',\n",
              " 'let',\n",
              " 'on',\n",
              " 'rain',\n",
              " 'let',\n",
              " 'it',\n",
              " 'rain',\n",
              " 'on',\n",
              " 'let',\n",
              " 'it',\n",
              " 'rain',\n",
              " 'on',\n",
              " 'are',\n",
              " 'rainfall',\n",
              " 'tears',\n",
              " 'rain',\n",
              " 'let',\n",
              " 'it',\n",
              " 'rain',\n",
              " 'let',\n",
              " 'it',\n",
              " 'rain',\n",
              " 'let',\n",
              " 'wait',\n",
              " 'on',\n",
              " 'let',\n",
              " 'it',\n",
              " 'rain',\n",
              " 'rain',\n",
              " 'price',\n",
              " 'rain',\n",
              " 'let',\n",
              " 'it',\n",
              " 'rain',\n",
              " 'on',\n",
              " 'me',\n",
              " 'let',\n",
              " 'tears',\n",
              " 'rain',\n",
              " 'a',\n",
              " 'it',\n",
              " 'rain',\n",
              " 'on',\n",
              " 'tears',\n",
              " 'are',\n",
              " 'rainfall',\n",
              " 'flow',\n",
              " 'be',\n",
              " 'let',\n",
              " 'it',\n",
              " 'rain',\n",
              " 'day',\n",
              " 'flow',\n",
              " 'rain',\n",
              " 'let',\n",
              " 'it',\n",
              " 'i',\n",
              " 'let',\n",
              " 'it',\n",
              " 'rain',\n",
              " 'rain',\n",
              " 'rain',\n",
              " 'let',\n",
              " 'it',\n",
              " 'rain',\n",
              " 'better',\n",
              " 'me',\n",
              " 'let',\n",
              " 'it',\n",
              " 'tears',\n",
              " 'let',\n",
              " 'it',\n",
              " 'rain',\n",
              " 'on',\n",
              " 'let',\n",
              " 'it',\n",
              " 'rain',\n",
              " 'let',\n",
              " 'all',\n",
              " 'rain',\n",
              " 'let',\n",
              " 'it',\n",
              " 'rain',\n",
              " 'tears',\n",
              " 'are',\n",
              " 'rainfall',\n",
              " 'flow',\n",
              " 'right']"
            ]
          },
          "metadata": {},
          "execution_count": 92
        }
      ]
    },
    {
      "cell_type": "markdown",
      "source": [
        "Transform X_eda into document."
      ],
      "metadata": {
        "id": "qOTK2TqbgVsB"
      }
    },
    {
      "cell_type": "code",
      "source": [
        "#for idx, token_list in split0['X_train'].loc[0:split0['X_train'].shape[0]].items():\n",
        "for idx, token_list in augmented_X_train.items():\n",
        "  lyric = ' '.join(token_list)\n",
        "  #print(lyric)\n",
        "  augmented_X_train.loc[idx] = lyric"
      ],
      "metadata": {
        "id": "FAuaN6FKga6l"
      },
      "execution_count": 93,
      "outputs": []
    },
    {
      "cell_type": "code",
      "source": [
        "augmented_X_train"
      ],
      "metadata": {
        "colab": {
          "base_uri": "https://localhost:8080/"
        },
        "id": "VMoxpEatgn1j",
        "outputId": "9a54f2e2-721c-4117-9304-49061a9672a7"
      },
      "execution_count": 94,
      "outputs": [
        {
          "output_type": "execute_result",
          "data": {
            "text/plain": [
              "0        a sunny day so i got nowhere it sunny flow flo...\n",
              "1        a sunny day so i got stream nowhere hide not a...\n",
              "2        a cheery day so i fix nowhere shroud not a mis...\n",
              "3        a sunny day so i got nowhere hide not a cloud ...\n",
              "4        tell me a tale always was sing iodin me a song...\n",
              "                               ...                        \n",
              "12235    playing guitar on back porch i sit in car whil...\n",
              "12236    been trying not come around been strung out on...\n",
              "12237    been try out not come around been strung out o...\n",
              "12238    been trying not come around been strung out on...\n",
              "12239    been trying not come around been strung out on...\n",
              "Length: 12240, dtype: object"
            ]
          },
          "metadata": {},
          "execution_count": 94
        }
      ]
    },
    {
      "cell_type": "code",
      "source": [
        "augmented_X_train_tfidf = tfidf_vectorizer.transform( augmented_X_train ).toarray()"
      ],
      "metadata": {
        "id": "G-VCCy6MgzFr"
      },
      "execution_count": 95,
      "outputs": []
    },
    {
      "cell_type": "markdown",
      "source": [
        "Merge SMOTE and EDA"
      ],
      "metadata": {
        "id": "GqXwvJMJJjAw"
      }
    },
    {
      "cell_type": "code",
      "source": [
        "print(type(y_resampled))\n",
        "print(type(augmented_y_train))"
      ],
      "metadata": {
        "colab": {
          "base_uri": "https://localhost:8080/"
        },
        "id": "CYfAxUXwKarE",
        "outputId": "edb08842-c2e9-41dd-9629-106d8fa4fe8d"
      },
      "execution_count": 96,
      "outputs": [
        {
          "output_type": "stream",
          "name": "stdout",
          "text": [
            "<class 'pandas.core.series.Series'>\n",
            "<class 'pandas.core.series.Series'>\n"
          ]
        }
      ]
    },
    {
      "cell_type": "code",
      "source": [
        "print(type(X_resampled))\n",
        "print(type(augmented_X_train_tfidf))"
      ],
      "metadata": {
        "colab": {
          "base_uri": "https://localhost:8080/"
        },
        "id": "fFvSZiICKqie",
        "outputId": "96b7ed2c-3f81-46ed-9775-d74a09027f35"
      },
      "execution_count": 97,
      "outputs": [
        {
          "output_type": "stream",
          "name": "stdout",
          "text": [
            "<class 'numpy.ndarray'>\n",
            "<class 'numpy.ndarray'>\n"
          ]
        }
      ]
    },
    {
      "cell_type": "code",
      "source": [
        "print(X_resampled.shape)\n",
        "print(augmented_X_train_tfidf.shape)"
      ],
      "metadata": {
        "colab": {
          "base_uri": "https://localhost:8080/"
        },
        "id": "p1XQtMrQKt6L",
        "outputId": "ba5df535-0760-4370-8d69-1de438c39855"
      },
      "execution_count": 98,
      "outputs": [
        {
          "output_type": "stream",
          "name": "stdout",
          "text": [
            "(41430, 21964)\n",
            "(12240, 21964)\n"
          ]
        }
      ]
    },
    {
      "cell_type": "code",
      "source": [
        "#X_train = X_resampled.append(augmented_X_train_tfidf, ignore_index = True)\n",
        "#y_train = y_resampled.append(augmented_y_train_tfidf, ignore_index = True)\n",
        "\n",
        "X_train = np.vstack((X_resampled, augmented_X_train_tfidf))\n",
        "y_train = y_resampled.append(augmented_y_train, ignore_index = True)\n",
        "print(X_train.shape)\n",
        "print(y_train.shape)"
      ],
      "metadata": {
        "colab": {
          "base_uri": "https://localhost:8080/"
        },
        "id": "KYCER4boJoSs",
        "outputId": "e3b8dffe-c7b2-46d4-ea1b-9e0c8e5968dc"
      },
      "execution_count": 99,
      "outputs": [
        {
          "output_type": "stream",
          "name": "stdout",
          "text": [
            "(53670, 21964)\n",
            "(53670,)\n"
          ]
        }
      ]
    },
    {
      "cell_type": "code",
      "source": [
        "X_train"
      ],
      "metadata": {
        "colab": {
          "base_uri": "https://localhost:8080/"
        },
        "id": "pkQP6NGFKmyL",
        "outputId": "8b61992b-3ace-435a-e2f9-7a48895ba110"
      },
      "execution_count": 100,
      "outputs": [
        {
          "output_type": "execute_result",
          "data": {
            "text/plain": [
              "array([[0., 0., 0., ..., 0., 0., 0.],\n",
              "       [0., 0., 0., ..., 0., 0., 0.],\n",
              "       [0., 0., 0., ..., 0., 0., 0.],\n",
              "       ...,\n",
              "       [0., 0., 0., ..., 0., 0., 0.],\n",
              "       [0., 0., 0., ..., 0., 0., 0.],\n",
              "       [0., 0., 0., ..., 0., 0., 0.]])"
            ]
          },
          "metadata": {},
          "execution_count": 100
        }
      ]
    },
    {
      "cell_type": "code",
      "source": [
        "#clf_mnb_eda.fit(X_resampled, y_resampled, classes = np.unique(split0['y_train']))\n",
        "clf_mnb_eda.fit(X_train, y_train)"
      ],
      "metadata": {
        "colab": {
          "base_uri": "https://localhost:8080/"
        },
        "id": "_lpSCWr8Jgk7",
        "outputId": "6c9063a1-7224-4742-969d-ae02d335550b"
      },
      "execution_count": 101,
      "outputs": [
        {
          "output_type": "execute_result",
          "data": {
            "text/plain": [
              "MultinomialNB()"
            ]
          },
          "metadata": {},
          "execution_count": 101
        }
      ]
    },
    {
      "cell_type": "code",
      "execution_count": 102,
      "metadata": {
        "id": "eDqF34HyVBuq"
      },
      "outputs": [],
      "source": [
        "X_test_tfidf = tfidf_vectorizer.transform(split0['X_test']).toarray()"
      ]
    },
    {
      "cell_type": "code",
      "execution_count": 103,
      "metadata": {
        "colab": {
          "base_uri": "https://localhost:8080/"
        },
        "id": "PNdn1G14gyXg",
        "outputId": "df8a4792-31b3-4ff7-9007-907bc0ecefd5"
      },
      "outputs": [
        {
          "output_type": "execute_result",
          "data": {
            "text/plain": [
              "array([[0., 0., 0., ..., 0., 0., 0.],\n",
              "       [0., 0., 0., ..., 0., 0., 0.],\n",
              "       [0., 0., 0., ..., 0., 0., 0.],\n",
              "       ...,\n",
              "       [0., 0., 0., ..., 0., 0., 0.],\n",
              "       [0., 0., 0., ..., 0., 0., 0.],\n",
              "       [0., 0., 0., ..., 0., 0., 0.]])"
            ]
          },
          "metadata": {},
          "execution_count": 103
        }
      ],
      "source": [
        "X_test_tfidf"
      ]
    },
    {
      "cell_type": "code",
      "execution_count": 104,
      "metadata": {
        "colab": {
          "base_uri": "https://localhost:8080/"
        },
        "id": "HLdI4daEgzkt",
        "outputId": "42ae17e4-de85-48e1-8b0f-0350ade14e08"
      },
      "outputs": [
        {
          "output_type": "execute_result",
          "data": {
            "text/plain": [
              "(2708, 21964)"
            ]
          },
          "metadata": {},
          "execution_count": 104
        }
      ],
      "source": [
        "X_test_tfidf.shape"
      ]
    },
    {
      "cell_type": "code",
      "execution_count": 105,
      "metadata": {
        "colab": {
          "base_uri": "https://localhost:8080/"
        },
        "id": "BnNvg9KRCv4i",
        "outputId": "16b4df61-31cf-4937-8f71-0aa2f7a76103"
      },
      "outputs": [
        {
          "output_type": "stream",
          "name": "stdout",
          "text": [
            "              precision    recall  f1-score   support\n",
            "\n",
            "           0       0.18      0.11      0.14       190\n",
            "           1       0.17      0.30      0.22       173\n",
            "           2       0.10      0.16      0.12       135\n",
            "           3       0.25      0.17      0.20       216\n",
            "           4       0.56      0.35      0.43      1036\n",
            "           5       0.30      0.21      0.25        76\n",
            "           6       0.58      0.79      0.67       195\n",
            "           7       0.23      0.18      0.20       290\n",
            "           8       0.14      0.17      0.15       139\n",
            "           9       0.20      0.46      0.28       258\n",
            "\n",
            "    accuracy                           0.32      2708\n",
            "   macro avg       0.27      0.29      0.27      2708\n",
            "weighted avg       0.37      0.32      0.32      2708\n",
            "\n"
          ]
        }
      ],
      "source": [
        "import sklearn.metrics as metrics\n",
        "predicted_mnb_eda = clf_mnb_eda.predict(X_test_tfidf)\n",
        "print(metrics.classification_report(split0['y_test'], predicted_mnb_eda) )"
      ]
    },
    {
      "cell_type": "code",
      "execution_count": 106,
      "metadata": {
        "colab": {
          "base_uri": "https://localhost:8080/"
        },
        "id": "t0UMb0XPIyvB",
        "outputId": "49cb2745-fed7-4cd1-8a50-40ab33572f86"
      },
      "outputs": [
        {
          "output_type": "execute_result",
          "data": {
            "text/plain": [
              "0.2892569986866454"
            ]
          },
          "metadata": {},
          "execution_count": 106
        }
      ],
      "source": [
        "from sklearn.metrics import balanced_accuracy_score\n",
        "balanced_accuracy_score(split0['y_test'], predicted_mnb_eda)"
      ]
    },
    {
      "cell_type": "code",
      "execution_count": null,
      "metadata": {
        "colab": {
          "base_uri": "https://localhost:8080/",
          "height": 361
        },
        "id": "kuzCWi6EI9h7",
        "outputId": "9f137c6a-f8e3-4d4a-bb94-aef0ee9599f0"
      },
      "outputs": [
        {
          "output_type": "display_data",
          "data": {
            "text/plain": [
              "<Figure size 576x396 with 2 Axes>"
            ],
            "image/png": "[encoded data removed]"
          },
          "metadata": {}
        }
      ],
      "source": [
        "import matplotlib.pyplot as plt\n",
        "from sklearn.metrics import confusion_matrix, ConfusionMatrixDisplay\n",
        "ConfusionMatrixDisplay.from_predictions(split0['y_test'], predicted_mnb_eda\n",
        "                                        , cmap=plt.cm.Blues)\n",
        "#plt.figure(figsize=(10, 10))\n",
        "plt.show()"
      ]
    },
    {
      "cell_type": "markdown",
      "metadata": {
        "id": "d-IRagr9CuJz"
      },
      "source": [
        "### 2.Support Vector Machine"
      ]
    },
    {
      "cell_type": "code",
      "execution_count": null,
      "metadata": {
        "colab": {
          "base_uri": "https://localhost:8080/"
        },
        "id": "d_m75cnbJGXr",
        "outputId": "d2b3deba-2e5f-4042-f8fc-dfe28fce4ad6"
      },
      "outputs": [
        {
          "data": {
            "text/plain": [
              "SVC(gamma='auto', kernel='linear')"
            ]
          },
          "execution_count": 58,
          "metadata": {},
          "output_type": "execute_result"
        }
      ],
      "source": [
        "from sklearn import svm\n",
        "\n",
        "clf_svm_eda = svm.SVC(C=1.0, kernel='linear', degree=3, gamma='auto')\n",
        "clf_svm_eda.fit(df_X_train_tfidf, split0['y_train'])"
      ]
    },
    {
      "cell_type": "markdown",
      "metadata": {
        "id": "lda565-b12qs"
      },
      "source": [
        "Took 34 min."
      ]
    },
    {
      "cell_type": "code",
      "source": [
        "import sklearn.metrics as metrics"
      ],
      "metadata": {
        "id": "4Y6ueub06dln"
      },
      "execution_count": null,
      "outputs": []
    },
    {
      "cell_type": "code",
      "execution_count": null,
      "metadata": {
        "colab": {
          "base_uri": "https://localhost:8080/"
        },
        "id": "PN2vzs0LJJo3",
        "outputId": "242dfe3a-2039-41bf-bce7-d1996e64782a"
      },
      "outputs": [
        {
          "output_type": "stream",
          "name": "stderr",
          "text": [
            "/usr/local/lib/python3.7/dist-packages/sklearn/base.py:451: UserWarning: X does not have valid feature names, but SVC was fitted with feature names\n",
            "  \"X does not have valid feature names, but\"\n"
          ]
        },
        {
          "output_type": "stream",
          "name": "stdout",
          "text": [
            "              precision    recall  f1-score   support\n",
            "\n",
            "           0       0.10      0.14      0.12       190\n",
            "           1       0.09      0.14      0.11       173\n",
            "           2       0.06      0.13      0.09       135\n",
            "           3       0.13      0.17      0.14       216\n",
            "           4       0.61      0.30      0.40      1036\n",
            "           5       0.04      0.07      0.05        76\n",
            "           6       0.41      0.49      0.44       195\n",
            "           7       0.11      0.12      0.11       290\n",
            "           8       0.06      0.06      0.06       139\n",
            "           9       0.15      0.16      0.15       258\n",
            "\n",
            "    accuracy                           0.22      2708\n",
            "   macro avg       0.18      0.18      0.17      2708\n",
            "weighted avg       0.32      0.22      0.25      2708\n",
            "\n"
          ]
        }
      ],
      "source": [
        "predicted_svm_eda = clf_svm_eda.predict(X_test_tfidf)\n",
        "print(metrics.classification_report(split0['y_test'], predicted_svm_eda) )"
      ]
    },
    {
      "cell_type": "code",
      "execution_count": null,
      "metadata": {
        "colab": {
          "base_uri": "https://localhost:8080/"
        },
        "id": "w7ruvpMFJMbK",
        "outputId": "de055ce0-efe6-4e16-bf12-9df11a1bbf63"
      },
      "outputs": [
        {
          "output_type": "execute_result",
          "data": {
            "text/plain": [
              "0.17805714255016472"
            ]
          },
          "metadata": {},
          "execution_count": 67
        }
      ],
      "source": [
        "from sklearn.metrics import balanced_accuracy_score\n",
        "balanced_accuracy_score(split0['y_test'], predicted_svm_eda)"
      ]
    }
  ],
  "metadata": {
    "colab": {
      "background_execution": "on",
      "collapsed_sections": [
        "mhNJgkUfpSM_",
        "K-fziEIMkhpU",
        "JnmVYJwKZ3x2",
        "30dqqqp4G9IQ",
        "t7TxInTiNZwE",
        "5po_RfoMCEVf",
        "hWxfNJqYBfjD",
        "QA6kqSB2HzAt"
      ],
      "machine_shape": "hm",
      "name": "week14_SMOTE+EDA(partial_fit,alpha=0.1)_on_TF-IDF_MNB.ipynb",
      "provenance": [],
      "mount_file_id": "1MO-P1vREFqzjKKdPVmaaeRjIUtQB4tla",
      "authorship_tag": "ABX9TyNSThmBgUs8id6oCd8+x7mM",
      "include_colab_link": true
    },
    "kernelspec": {
      "display_name": "Python 3",
      "name": "python3"
    },
    "language_info": {
      "name": "python"
    },
    "gpuClass": "standard"
  },
  "nbformat": 4,
  "nbformat_minor": 0
}